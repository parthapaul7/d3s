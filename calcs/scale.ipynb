{
 "cells": [
  {
   "cell_type": "code",
   "execution_count": 1,
   "id": "aa900976",
   "metadata": {},
   "outputs": [
    {
     "name": "stdout",
     "output_type": "stream",
     "text": [
      "✅ Written scan file: ./scan/LiTb3_1185471.xyz\n",
      "✅ Written scan file: ./scan/Li3Ce_1185231.xyz\n",
      "✅ Written scan file: ./scan/LiMg2_1094604.xyz\n",
      "✅ Written scan file: ./scan/Li3N2_1222421.xyz\n",
      "✅ Written scan file: ./scan/Li3Rh_1185235.xyz\n",
      "✅ Written scan file: ./scan/Li2Ga7_1222769.xyz\n",
      "✅ Written scan file: ./scan/LiPm3_1185395.xyz\n",
      "✅ Written scan file: ./scan/K3Li_1184918.xyz\n",
      "✅ Written scan file: ./scan/LiBe_2475638.xyz\n",
      "✅ Written scan file: ./scan/LiHg_2012.xyz\n",
      "✅ Written scan file: ./scan/Li21Si5_29720.xyz\n",
      "✅ Written scan file: ./scan/Li3La_1185192.xyz\n",
      "✅ Written scan file: ./scan/LiMg_976239.xyz\n",
      "✅ Written scan file: ./scan/LiY3_1185240.xyz\n",
      "✅ Written scan file: ./scan/LiN_1059612.xyz\n",
      "✅ Written scan file: ./scan/K3Li_1184845.xyz\n",
      "✅ Written scan file: ./scan/Li7Al6_1212183.xyz\n",
      "✅ Written scan file: ./scan/Li8Hf3_1190933.xyz\n",
      "✅ Written scan file: ./scan/LiGe3_1185336.xyz\n",
      "✅ Written scan file: ./scan/LiMg2_1094605.xyz\n",
      "✅ Written scan file: ./scan/LiPt2_30764.xyz\n",
      "✅ Written scan file: ./scan/Rb3Li_974938.xyz\n",
      "✅ Written scan file: ./scan/Li7Si3_1201871.xyz\n",
      "✅ Written scan file: ./scan/LiMg5_1094609.xyz\n",
      "✅ Written scan file: ./scan/LiTl_1191883.xyz\n",
      "✅ Written scan file: ./scan/LiIn3_973748.xyz\n",
      "✅ Written scan file: ./scan/Li3Mg_1094159.xyz\n",
      "✅ Written scan file: ./scan/Li9Ag4_1222549.xyz\n",
      "✅ Written scan file: ./scan/LiIn_22460.xyz\n",
      "✅ Written scan file: ./scan/LiI_22899.xyz\n",
      "✅ Written scan file: ./scan/Ba19Li44_569841.xyz\n",
      "✅ Written scan file: ./scan/LiPb3_1185275.xyz\n",
      "✅ Written scan file: ./scan/LiB11_1101854.xyz\n",
      "✅ Written scan file: ./scan/LiMg_1094673.xyz\n",
      "✅ Written scan file: ./scan/Li2Mg_1094586.xyz\n",
      "✅ Written scan file: ./scan/LiU_1185249.xyz\n",
      "✅ Written scan file: ./scan/LiGa_1307.xyz\n",
      "✅ Written scan file: ./scan/Li3Tb_1185282.xyz\n",
      "✅ Written scan file: ./scan/Li3Fe_1185215.xyz\n",
      "✅ Written scan file: ./scan/LiMg2_1094559.xyz\n",
      "✅ Written scan file: ./scan/Li3Ho_1185197.xyz\n",
      "✅ Written scan file: ./scan/LiZn_1934.xyz\n",
      "✅ Written scan file: ./scan/LiZn3_1222288.xyz\n",
      "✅ Written scan file: ./scan/LiEu3_1185355.xyz\n",
      "✅ Written scan file: ./scan/LiH_23703.xyz\n",
      "✅ Written scan file: ./scan/KLi3_1185026.xyz\n",
      "✅ Written scan file: ./scan/LiO2_1097725.xyz\n",
      "✅ Written scan file: ./scan/Li5In4_1079408.xyz\n",
      "✅ Written scan file: ./scan/LiMg2_1094570.xyz\n",
      "✅ Written scan file: ./scan/Li3Co_976017.xyz\n",
      "✅ Written scan file: ./scan/Li3Gd_1185269.xyz\n",
      "✅ Written scan file: ./scan/Li3Ag_976408.xyz\n",
      "✅ Written scan file: ./scan/LiY3_1185257.xyz\n",
      "✅ Written scan file: ./scan/Li2Sb_1545896.xyz\n",
      "✅ Written scan file: ./scan/LiC_1378.xyz\n",
      "✅ Written scan file: ./scan/LiAl2_1211134.xyz\n",
      "✅ Written scan file: ./scan/LiO8_1232999.xyz\n",
      "✅ Written scan file: ./scan/LiPd7_1079855.xyz\n",
      "✅ Written scan file: ./scan/Li2O_1245224.xyz\n",
      "✅ Written scan file: ./scan/LiHg3_973824.xyz\n",
      "✅ Written scan file: ./scan/LiHo3_973732.xyz\n",
      "✅ Written scan file: ./scan/Li2O2_1180619.xyz\n",
      "✅ Written scan file: ./scan/Li3W_1185288.xyz\n",
      "✅ Written scan file: ./scan/LiTe3_1185477.xyz\n",
      "✅ Written scan file: ./scan/LiB_1080576.xyz\n",
      "✅ Written scan file: ./scan/LiFe_1211097.xyz\n",
      "✅ Written scan file: ./scan/LiO2_1018789.xyz\n",
      "✅ Written scan file: ./scan/LiEr3_1185345.xyz\n",
      "✅ Written scan file: ./scan/LiMg2_1094574.xyz\n",
      "✅ Written scan file: ./scan/LiPa_1185271.xyz\n",
      "✅ Written scan file: ./scan/Li2C_1210743.xyz\n",
      "✅ Written scan file: ./scan/LiMg_1185380.xyz\n",
      "✅ Written scan file: ./scan/LiO8_1236127.xyz\n",
      "✅ Written scan file: ./scan/Li3P7_28336.xyz\n",
      "✅ Written scan file: ./scan/Li2S_1125.xyz\n",
      "✅ Written scan file: ./scan/Li3Nd_976264.xyz\n",
      "✅ Written scan file: ./scan/LiC12_1021323.xyz\n",
      "✅ Written scan file: ./scan/Li3Mg_1094598.xyz\n",
      "✅ Written scan file: ./scan/Li2Mg_1094569.xyz\n",
      "✅ Written scan file: ./scan/LiO8_1236522.xyz\n",
      "✅ Written scan file: ./scan/LiTe3_2750540.xyz\n",
      "✅ Written scan file: ./scan/LiBr_976280.xyz\n",
      "✅ Written scan file: ./scan/Li3Re_983152.xyz\n",
      "✅ Written scan file: ./scan/Li2Te_2530.xyz\n",
      "✅ Written scan file: ./scan/LiMg149_866755.xyz\n",
      "✅ Written scan file: ./scan/LiCu3_862658.xyz\n",
      "✅ Written scan file: ./scan/LiHg3_1079267.xyz\n",
      "✅ Written scan file: ./scan/LiZn3_975799.xyz\n",
      "✅ Written scan file: ./scan/Li2Pd_728.xyz\n",
      "✅ Written scan file: ./scan/Li2O_1245009.xyz\n",
      "✅ Written scan file: ./scan/LiTe3_27466.xyz\n",
      "✅ Written scan file: ./scan/Li2S_32899.xyz\n",
      "✅ Written scan file: ./scan/Li7Pb2_30761.xyz\n",
      "✅ Written scan file: ./scan/Li3Pm_1185206.xyz\n",
      "✅ Written scan file: ./scan/LiMg_1094675.xyz\n",
      "✅ Written scan file: ./scan/Li5Mg_1094590.xyz\n",
      "✅ Written scan file: ./scan/LiCd3_973940.xyz\n",
      "✅ Written scan file: ./scan/Li10Pb3_504760.xyz\n",
      "✅ Written scan file: ./scan/Li3Hg_1646.xyz\n",
      "✅ Written scan file: ./scan/Li5Sn2_30766.xyz\n",
      "✅ Written scan file: ./scan/LiCl_1185319.xyz\n",
      "✅ Written scan file: ./scan/Li3In2_21293.xyz\n",
      "✅ Written scan file: ./scan/LiCl_22905.xyz\n",
      "✅ Written scan file: ./scan/LiB_16726.xyz\n",
      "✅ Written scan file: ./scan/Li3Sm_977286.xyz\n",
      "✅ Written scan file: ./scan/LiY3_1185245.xyz\n",
      "✅ Written scan file: ./scan/Li3N_2341.xyz\n",
      "✅ Written scan file: ./scan/LiPd3_861936.xyz\n",
      "✅ Written scan file: ./scan/LiAu3_975909.xyz\n",
      "✅ Written scan file: ./scan/Li7Si2_27930.xyz\n",
      "✅ Written scan file: ./scan/Li13Sn5_30769.xyz\n",
      "✅ Written scan file: ./scan/LiMg_1094853.xyz\n",
      "✅ Written scan file: ./scan/Li15Si4_569849.xyz\n",
      "✅ Written scan file: ./scan/LiMg2_1094600.xyz\n",
      "✅ Written scan file: ./scan/LiAu_1222403.xyz\n",
      "✅ Written scan file: ./scan/LiF_1185301.xyz\n",
      "✅ Written scan file: ./scan/LiGd3_1185526.xyz\n",
      "✅ Written scan file: ./scan/LiRh_600561.xyz\n",
      "✅ Written scan file: ./scan/LiAg_2426.xyz\n",
      "✅ Written scan file: ./scan/Li3Tm_1185283.xyz\n",
      "✅ Written scan file: ./scan/LiN3_2659.xyz\n",
      "✅ Written scan file: ./scan/LiO8_2766401.xyz\n",
      "✅ Written scan file: ./scan/LiTl3_1185253.xyz\n",
      "✅ Written scan file: ./scan/Li2Ca_11644.xyz\n",
      "✅ Written scan file: ./scan/LiPt3_861931.xyz\n",
      "✅ Written scan file: ./scan/LiSb3_1185416.xyz\n",
      "✅ Written scan file: ./scan/Li15Au4_567395.xyz\n",
      "✅ Written scan file: ./scan/LiS_1180520.xyz\n",
      "✅ Written scan file: ./scan/Li3Mg_976254.xyz\n",
      "✅ Written scan file: ./scan/Li5Ga4_1205930.xyz\n",
      "✅ Written scan file: ./scan/Li3Au_1185200.xyz\n",
      "✅ Written scan file: ./scan/Li2Mg_977207.xyz\n",
      "✅ Written scan file: ./scan/LiS4_995393.xyz\n",
      "✅ Written scan file: ./scan/Li2Ga_29210.xyz\n",
      "✅ Written scan file: ./scan/Li3Pt_867227.xyz\n",
      "✅ Written scan file: ./scan/LiMg_1094982.xyz\n",
      "✅ Written scan file: ./scan/Li2Sb_9563.xyz\n",
      "✅ Written scan file: ./scan/LiSi_570363.xyz\n",
      "✅ Written scan file: ./scan/Li3Pr_976321.xyz\n",
      "✅ Written scan file: ./scan/LiF_1138.xyz\n",
      "✅ Written scan file: ./scan/Li3Hg_976047.xyz\n",
      "✅ Written scan file: ./scan/LiYb3_1185470.xyz\n",
      "✅ Written scan file: ./scan/Li3Pu_977299.xyz\n",
      "✅ Written scan file: ./scan/LiP5_2412.xyz\n",
      "✅ Written scan file: ./scan/LiMg2_973374.xyz\n",
      "✅ Written scan file: ./scan/LiN_1180489.xyz\n",
      "✅ Written scan file: ./scan/LiAl_1067.xyz\n",
      "✅ Written scan file: ./scan/Li3In_976055.xyz\n",
      "✅ Written scan file: ./scan/Rb3Li_974959.xyz\n",
      "✅ Written scan file: ./scan/Li3Rh_1185255.xyz\n",
      "✅ Written scan file: ./scan/LiMg_2362485.xyz\n",
      "✅ Written scan file: ./scan/Li3N_2251.xyz\n",
      "✅ Written scan file: ./scan/Li3Yb_1185286.xyz\n",
      "✅ Written scan file: ./scan/LiAs_7943.xyz\n",
      "✅ Written scan file: ./scan/LiBi_22902.xyz\n",
      "✅ Written scan file: ./scan/LiCd3_865612.xyz\n",
      "✅ Written scan file: ./scan/LiSn3_1185461.xyz\n",
      "✅ Written scan file: ./scan/Li3Sb_2074.xyz\n",
      "✅ Written scan file: ./scan/LiMg15_1023493.xyz\n",
      "✅ Written scan file: ./scan/Li3Mg_976256.xyz\n",
      "✅ Written scan file: ./scan/LiSi_795.xyz\n",
      "✅ Written scan file: ./scan/Li3Eu_1185222.xyz\n",
      "✅ Written scan file: ./scan/Li3Dy_977188.xyz\n",
      "✅ Written scan file: ./scan/LiMg_1094573.xyz\n",
      "✅ Written scan file: ./scan/Li3Hg_1185205.xyz\n",
      "✅ Written scan file: ./scan/LiCe3_1185343.xyz\n",
      "✅ Written scan file: ./scan/LiAl_1079240.xyz\n",
      "✅ Written scan file: ./scan/LiAs3_1206724.xyz\n",
      "✅ Written scan file: ./scan/Li2B_1222698.xyz\n",
      "✅ Written scan file: ./scan/Li2O_1245092.xyz\n",
      "✅ Written scan file: ./scan/Li5Tl2_12283.xyz\n",
      "✅ Written scan file: ./scan/LiRh3_1185455.xyz\n",
      "✅ Written scan file: ./scan/LiO8_1235059.xyz\n",
      "✅ Written scan file: ./scan/LiPd_2744.xyz\n",
      "✅ Written scan file: ./scan/Li4Mg_1222419.xyz\n",
      "✅ Written scan file: ./scan/LiHo3_973741.xyz\n",
      "✅ Written scan file: ./scan/LiMg3_1094596.xyz\n",
      "✅ Written scan file: ./scan/Li3Th_977239.xyz\n",
      "✅ Written scan file: ./scan/Li3Ga7_567306.xyz\n",
      "✅ Written scan file: ./scan/Li3Np_1185256.xyz\n",
      "✅ Written scan file: ./scan/LiCu3_1185338.xyz\n",
      "✅ Written scan file: ./scan/Li3Cr_977229.xyz\n",
      "✅ Written scan file: ./scan/LiAu3_1185333.xyz\n",
      "✅ Written scan file: ./scan/LiGa3_863257.xyz\n",
      "✅ Written scan file: ./scan/LiO2_1094129.xyz\n",
      "✅ Written scan file: ./scan/LiTl_934.xyz\n",
      "✅ Written scan file: ./scan/Li4Pt_1211180.xyz\n",
      "✅ Written scan file: ./scan/Li5Mg_865604.xyz\n",
      "✅ Written scan file: ./scan/Li3As_757.xyz\n",
      "✅ Written scan file: ./scan/LiO8_1235698.xyz\n",
      "✅ Written scan file: ./scan/LiAg3_862716.xyz\n",
      "✅ Written scan file: ./scan/LiP3_1025406.xyz\n",
      "✅ Written scan file: ./scan/LiS4_1143546.xyz\n",
      "✅ Written scan file: ./scan/LiDy3_974060.xyz\n",
      "✅ Written scan file: ./scan/Li2S_1153.xyz\n",
      "✅ Written scan file: ./scan/Li3Eu_1185227.xyz\n",
      "✅ Written scan file: ./scan/Li2Sn5_7924.xyz\n",
      "✅ Written scan file: ./scan/Li5B4_27658.xyz\n",
      "✅ Written scan file: ./scan/LiTl_1237690.xyz\n",
      "✅ Written scan file: ./scan/LiMg_1094589.xyz\n",
      "✅ Written scan file: ./scan/Li3Nb_1185216.xyz\n",
      "✅ Written scan file: ./scan/LiSm3_1185451.xyz\n",
      "✅ Written scan file: ./scan/Li3Ac_976407.xyz\n",
      "✅ Written scan file: ./scan/Li2Al_1210753.xyz\n",
      "✅ Written scan file: ./scan/LiRh3_1001787.xyz\n",
      "✅ Written scan file: ./scan/Li7C120_1223102.xyz\n",
      "✅ Written scan file: ./scan/LiAg3_1185342.xyz\n",
      "✅ Written scan file: ./scan/Li3Cu_975882.xyz\n",
      "✅ Written scan file: ./scan/Li3Yb_1185296.xyz\n",
      "✅ Written scan file: ./scan/LiIn2_1210993.xyz\n",
      "✅ Written scan file: ./scan/Li3Tc_977230.xyz\n",
      "✅ Written scan file: ./scan/LiPu3_1185480.xyz\n",
      "✅ Written scan file: ./scan/LiTb3_1185429.xyz\n",
      "✅ Written scan file: ./scan/Li2Se_2286.xyz\n",
      "✅ Written scan file: ./scan/LiMg7_1016274.xyz\n",
      "✅ Written scan file: ./scan/LiPd_2743.xyz\n",
      "✅ Written scan file: ./scan/BaLi4_210.xyz\n",
      "✅ Written scan file: ./scan/LiYb3_980190.xyz\n",
      "✅ Written scan file: ./scan/LiSi_1222271.xyz\n",
      "✅ Written scan file: ./scan/LiIr_279.xyz\n",
      "✅ Written scan file: ./scan/Li3Pd_976281.xyz\n",
      "✅ Written scan file: ./scan/Li2Al_1210792.xyz\n",
      "✅ Written scan file: ./scan/LiMg_976262.xyz\n",
      "✅ Written scan file: ./scan/LiB11_1103613.xyz\n",
      "✅ Written scan file: ./scan/Li3Pb_30760.xyz\n",
      "✅ Written scan file: ./scan/LiB3_1222413.xyz\n",
      "✅ Written scan file: ./scan/LiB3_1222412.xyz\n",
      "✅ Written scan file: ./scan/LiMg_1094575.xyz\n",
      "✅ Written scan file: ./scan/LiAl3_10890.xyz\n",
      "✅ Written scan file: ./scan/Li7Sn3_30768.xyz\n",
      "✅ Written scan file: ./scan/Li27As10_676620.xyz\n",
      "✅ Written scan file: ./scan/LiP5_32760.xyz\n",
      "✅ Written scan file: ./scan/LiHg3_1185337.xyz\n",
      "✅ Written scan file: ./scan/LiCu3_1185312.xyz\n",
      "✅ Written scan file: ./scan/LiMg3_1016222.xyz\n",
      "✅ Written scan file: ./scan/LiCu3_974058.xyz\n",
      "✅ Written scan file: ./scan/Li3Mg5_1206428.xyz\n",
      "✅ Written scan file: ./scan/LiIr3_30738.xyz\n",
      "✅ Written scan file: ./scan/LiSn_569073.xyz\n",
      "✅ Written scan file: ./scan/Li3Bi_23222.xyz\n",
      "✅ Written scan file: ./scan/LiTm3_975649.xyz\n",
      "✅ Written scan file: ./scan/LiHf_973948.xyz\n",
      "✅ Written scan file: ./scan/Li3Tl_7396.xyz\n",
      "✅ Written scan file: ./scan/Li3Ga_976025.xyz\n",
      "✅ Written scan file: ./scan/LiF3_1185348.xyz\n",
      "✅ Written scan file: ./scan/LiB_1001831.xyz\n",
      "✅ Written scan file: ./scan/Li9Al4_568404.xyz\n",
      "✅ Written scan file: ./scan/Li3Pu_1185258.xyz\n",
      "✅ Written scan file: ./scan/Li3Pt_976322.xyz\n",
      "✅ Written scan file: ./scan/Li3As7_680395.xyz\n",
      "✅ Written scan file: ./scan/LiMg_1094578.xyz\n",
      "✅ Written scan file: ./scan/Li2S_723352.xyz\n",
      "✅ Written scan file: ./scan/LiI_568273.xyz\n",
      "✅ Written scan file: ./scan/Li3Be_975794.xyz\n",
      "✅ Written scan file: ./scan/LiMg_1094592.xyz\n",
      "✅ Written scan file: ./scan/Li2Si_27705.xyz\n",
      "✅ Written scan file: ./scan/Li22Pb5_573651.xyz\n",
      "✅ Written scan file: ./scan/Li13Si4_672287.xyz\n",
      "✅ Written scan file: ./scan/LiHo3_1185384.xyz\n",
      "✅ Written scan file: ./scan/LiPt_11807.xyz\n",
      "✅ Written scan file: ./scan/LiRe3_1185410.xyz\n",
      "✅ Written scan file: ./scan/Li2O2_841.xyz\n",
      "✅ Written scan file: ./scan/Li3Nb_1185184.xyz\n",
      "✅ Written scan file: ./scan/Li22Ge5_1204063.xyz\n",
      "✅ Written scan file: ./scan/LiCd3_1222405.xyz\n",
      "✅ Written scan file: ./scan/Li17Pb4_574275.xyz\n",
      "✅ Written scan file: ./scan/Li3Ge_867342.xyz\n",
      "✅ Written scan file: ./scan/Li8Ag5_1211140.xyz\n",
      "✅ Written scan file: ./scan/Rb3Li_974950.xyz\n",
      "✅ Written scan file: ./scan/LiZn2_1210982.xyz\n",
      "✅ Written scan file: ./scan/LiP7_27687.xyz\n",
      "✅ Written scan file: ./scan/LiAl_1191737.xyz\n",
      "✅ Written scan file: ./scan/LiMg3_1094603.xyz\n",
      "✅ Written scan file: ./scan/LiCa3_976272.xyz\n",
      "✅ Written scan file: ./scan/Li2Mg_977218.xyz\n",
      "✅ Written scan file: ./scan/Li2Mg_976885.xyz\n",
      "✅ Written scan file: ./scan/LiMg3_1094602.xyz\n",
      "✅ Written scan file: ./scan/Li3In_867226.xyz\n",
      "✅ Written scan file: ./scan/LiMg_976244.xyz\n",
      "✅ Written scan file: ./scan/LiF_1009009.xyz\n",
      "✅ Written scan file: ./scan/Li3Ni_1185204.xyz\n",
      "✅ Written scan file: ./scan/Li3Tc_976334.xyz\n",
      "✅ Written scan file: ./scan/LiPb3_1211148.xyz\n",
      "✅ Written scan file: ./scan/LiMg2_865939.xyz\n",
      "✅ Written scan file: ./scan/Sr3Li_972285.xyz\n",
      "✅ Written scan file: ./scan/LiO8_1235252.xyz\n",
      "✅ Written scan file: ./scan/LiAl3_975906.xyz\n",
      "✅ Written scan file: ./scan/LiO3_1001790.xyz\n",
      "✅ Written scan file: ./scan/KLi3_1184961.xyz\n",
      "✅ Written scan file: ./scan/Li3Ni_1185214.xyz\n",
      "✅ Written scan file: ./scan/Li3Ga_976023.xyz\n",
      "✅ Written scan file: ./scan/Li3Sc_1185268.xyz\n",
      "✅ Written scan file: ./scan/LiMg_1222270.xyz\n",
      "✅ Written scan file: ./scan/LiPb_2314.xyz\n",
      "✅ Written scan file: ./scan/Li3C_976060.xyz\n",
      "✅ Written scan file: ./scan/Li2O2_558312.xyz\n",
      "✅ Written scan file: ./scan/LiLa3_973415.xyz\n",
      "✅ Written scan file: ./scan/Li3Co_977165.xyz\n",
      "✅ Written scan file: ./scan/Li2Mg_976843.xyz\n",
      "✅ Written scan file: ./scan/Li13In3_510430.xyz\n",
      "✅ Written scan file: ./scan/Li3Cd_867343.xyz\n",
      "✅ Written scan file: ./scan/Li2O_1245303.xyz\n",
      "✅ Written scan file: ./scan/Ba3Li_1183341.xyz\n",
      "✅ Written scan file: ./scan/LiMg_1094580.xyz\n",
      "✅ Written scan file: ./scan/LiAu3_11248.xyz\n",
      "✅ Written scan file: ./scan/LiMg_1094594.xyz\n",
      "✅ Written scan file: ./scan/LiGe_9918.xyz\n",
      "✅ Written scan file: ./scan/Li3Zn_1185291.xyz\n",
      "✅ Written scan file: ./scan/Li3Cr_1185185.xyz\n",
      "✅ Written scan file: ./scan/LiDy3_1185340.xyz\n",
      "✅ Written scan file: ./scan/LiGa3_1185352.xyz\n",
      "✅ Written scan file: ./scan/LiO2_1094135.xyz\n",
      "✅ Written scan file: ./scan/Li3Mg_976139.xyz\n",
      "✅ Written scan file: ./scan/LiZn13_1193737.xyz\n",
      "✅ Written scan file: ./scan/LiLa3_976424.xyz\n",
      "✅ Written scan file: ./scan/Li3Sm_1185272.xyz\n",
      "✅ Written scan file: ./scan/Li3Ca_976075.xyz\n",
      "✅ Written scan file: ./scan/LiS4_1546006.xyz\n",
      "✅ Written scan file: ./scan/LiS_32641.xyz\n",
      "✅ Written scan file: ./scan/Li3Al2_16506.xyz\n",
      "✅ Written scan file: ./scan/LiSn_13444.xyz\n",
      "✅ Written scan file: ./scan/LiMg3_1094567.xyz\n",
      "✅ Written scan file: ./scan/LiYb3_1185469.xyz\n",
      "✅ Written scan file: ./scan/LiCa4_1211157.xyz\n",
      "✅ Written scan file: ./scan/LiB11_1180507.xyz\n",
      "✅ Written scan file: ./scan/Li22Sn5_1198729.xyz\n",
      "✅ Written scan file: ./scan/LiMg_1094568.xyz\n",
      "✅ Written scan file: ./scan/LiB11_1103394.xyz\n",
      "✅ Written scan file: ./scan/LiCa3_1185350.xyz\n",
      "✅ Written scan file: ./scan/Li9Ge4_2362521.xyz\n",
      "✅ Written scan file: ./scan/Li2O_755894.xyz\n",
      "✅ Written scan file: ./scan/Li2N_1062345.xyz\n",
      "✅ Written scan file: ./scan/LiB_1001835.xyz\n",
      "✅ Written scan file: ./scan/LiZn3_865907.xyz\n",
      "✅ Written scan file: ./scan/LiMg2_2034417.xyz\n",
      "✅ Written scan file: ./scan/NaLi3_973316.xyz\n",
      "✅ Written scan file: ./scan/Li2Ca_570466.xyz\n",
      "✅ Written scan file: ./scan/Li17Sn4_573471.xyz\n",
      "✅ Written scan file: ./scan/Li3B_1185180.xyz\n",
      "✅ Written scan file: ./scan/NaLi3_1186151.xyz\n",
      "✅ Written scan file: ./scan/Li3Sn_1185265.xyz\n",
      "✅ Written scan file: ./scan/LiPr3_1185406.xyz\n",
      "✅ Written scan file: ./scan/LiMg_1094889.xyz\n",
      "✅ Written scan file: ./scan/Li3Ca_975929.xyz\n",
      "✅ Written scan file: ./scan/LiMg5_1094588.xyz\n",
      "✅ Written scan file: ./scan/Li15Ge4_1777.xyz\n",
      "✅ Written scan file: ./scan/Li22Si5_542598.xyz\n",
      "✅ Written scan file: ./scan/Li3Cd_975904.xyz\n",
      "✅ Written scan file: ./scan/LiMg_1185370.xyz\n",
      "✅ Written scan file: ./scan/LiB9_1105976.xyz\n",
      "✅ Written scan file: ./scan/LiBe_1001825.xyz\n",
      "✅ Written scan file: ./scan/LiEu3_1185411.xyz\n",
      "✅ Written scan file: ./scan/Li3P_736.xyz\n",
      "✅ Written scan file: ./scan/LiTb3_972125.xyz\n",
      "✅ Written scan file: ./scan/Li2O_1960.xyz\n",
      "✅ Written scan file: ./scan/Li5Mg_981935.xyz\n",
      "✅ Written scan file: ./scan/Li2Pt_2170.xyz\n",
      "✅ Written scan file: ./scan/Li3Y_1185289.xyz\n",
      "✅ Written scan file: ./scan/Li12Si7_1314.xyz\n",
      "✅ Written scan file: ./scan/Li3Ag2_1222584.xyz\n",
      "✅ Written scan file: ./scan/Li3Ag_977126.xyz\n",
      "✅ Written scan file: ./scan/LiMg2_1094156.xyz\n",
      "✅ Written scan file: ./scan/Li3Mo_1185187.xyz\n",
      "✅ Written scan file: ./scan/Li3Cd_1222495.xyz\n",
      "✅ Written scan file: ./scan/Li3W_1185290.xyz\n",
      "✅ Written scan file: ./scan/Li9Ge4_27932.xyz\n",
      "✅ Written scan file: ./scan/Li5Mg_976944.xyz\n",
      "✅ Written scan file: ./scan/LiMg_1100190.xyz\n",
      "✅ Written scan file: ./scan/LiMg2_1094593.xyz\n",
      "✅ Written scan file: ./scan/LiMn_1185402.xyz\n",
      "✅ Written scan file: ./scan/LiMg2_1094587.xyz\n",
      "✅ Written scan file: ./scan/LiAc3_1185287.xyz\n",
      "✅ Written scan file: ./scan/Li7Ge2_29630.xyz\n",
      "✅ Written scan file: ./scan/LiLu3_973493.xyz\n",
      "✅ Written scan file: ./scan/LiO8_1235185.xyz\n",
      "✅ Written scan file: ./scan/Li3Au_11247.xyz\n",
      "✅ Written scan file: ./scan/Li3Al_975868.xyz\n",
      "✅ Written scan file: ./scan/Li3Cr_976010.xyz\n",
      "✅ Written scan file: ./scan/LiGa2_1210887.xyz\n",
      "✅ Written scan file: ./scan/Li3Zn_976414.xyz\n",
      "✅ Written scan file: ./scan/LiAg_1018026.xyz\n",
      "✅ Written scan file: ./scan/Li3As_1191653.xyz\n",
      "✅ Written scan file: ./scan/Sr3Li_1187126.xyz\n",
      "✅ Written scan file: ./scan/LiGe_8490.xyz\n",
      "✅ Written scan file: ./scan/LiMg2_1094579.xyz\n",
      "✅ Written scan file: ./scan/Li5B4_632822.xyz\n",
      "✅ Written scan file: ./scan/Li3Bi_2646976.xyz\n",
      "✅ Written scan file: ./scan/Li7Sn2_30767.xyz\n",
      "✅ Written scan file: ./scan/Li2Mg_1094607.xyz\n",
      "✅ Written scan file: ./scan/Li3Nb_976263.xyz\n",
      "✅ Written scan file: ./scan/Li2Mg_976982.xyz\n",
      "✅ Written scan file: ./scan/LiNi3_1185266.xyz\n",
      "✅ Written scan file: ./scan/Li3Zr_1185295.xyz\n",
      "✅ Written scan file: ./scan/Li27Sb10_676024.xyz\n",
      "✅ Written scan file: ./scan/LiAu_1206794.xyz\n",
      "✅ Written scan file: ./scan/LiMg2_1094582.xyz\n",
      "✅ Written scan file: ./scan/Li2Cd_1210799.xyz\n",
      "✅ Written scan file: ./scan/LiB11_1103120.xyz\n",
      "✅ Written scan file: ./scan/LiCd_1437.xyz\n",
      "✅ Written scan file: ./scan/Li2S_557142.xyz\n",
      "✅ Written scan file: ./scan/Li12Ge7_1212365.xyz\n",
      "✅ Written scan file: ./scan/LiMg3_1094665.xyz\n",
      "✅ Written scan file: ./scan/LiPt7_30765.xyz\n",
      "✅ Written scan file: ./scan/Li3Pm_1185191.xyz\n",
      "✅ Written scan file: ./scan/Li3Be_977119.xyz\n",
      "✅ Written scan file: ./scan/LiC12_1232339.xyz\n",
      "✅ Written scan file: ./scan/Li3Ag_865875.xyz\n",
      "✅ Written scan file: ./scan/Li2In_31324.xyz\n",
      "✅ Written scan file: ./scan/LiBr_23259.xyz\n",
      "✅ Written scan file: ./scan/LiMg3_1094670.xyz\n",
      "✅ Written scan file: ./scan/LiC6_1001581.xyz\n",
      "✅ Written scan file: ./scan/Li3Mg_1094591.xyz\n",
      "✅ Written scan file: ./scan/LiB_1205309.xyz\n",
      "✅ Written scan file: ./scan/LiMg5_1094558.xyz\n",
      "✅ Written scan file: ./scan/Li3Er_977195.xyz\n",
      "✅ Written scan file: ./scan/K3Li_1184876.xyz\n",
      "✅ Written scan file: ./scan/LiAg3_1185300.xyz\n",
      "✅ Written scan file: ./scan/Li3Ga2_9568.xyz\n",
      "✅ Written scan file: ./scan/LiI_570935.xyz\n",
      "✅ Written scan file: ./scan/Sr3Li2_7507.xyz\n",
      "✅ Written scan file: ./scan/LiTl_1078753.xyz\n",
      "✅ Written scan file: ./scan/LiTl3_973191.xyz\n",
      "✅ Written scan file: ./scan/Li2Tl_1077191.xyz\n",
      "✅ Written scan file: ./scan/Li3Sb_7955.xyz\n",
      "✅ Written scan file: ./scan/Li2Mg_982380.xyz\n",
      "✅ Written scan file: ./scan/Sr6Li23_2272.xyz\n",
      "✅ Written scan file: ./scan/Li15Pd4_1197547.xyz\n",
      "✅ Written scan file: ./scan/LiMg2_1094581.xyz\n",
      "✅ Written scan file: ./scan/LiMg5_1094599.xyz\n",
      "✅ Written scan file: ./scan/Li2Mg_1094576.xyz\n",
      "✅ Written scan file: ./scan/Li2Mg_1094562.xyz\n",
      "✅ Written scan file: ./scan/Li3Zn_976412.xyz\n",
      "✅ Written scan file: ./scan/Li3Pd_11489.xyz\n",
      "✅ Written scan file: ./scan/LiS_1057216.xyz\n",
      "✅ Written scan file: ./scan/LiBe_1058798.xyz\n",
      "✅ Written scan file: ./scan/LiSi3_1185431.xyz\n",
      "✅ Written scan file: ./scan/Li8Pb3_27587.xyz\n",
      "✅ Written scan file: ./scan/Li3Te_1185280.xyz\n",
      "✅ Written scan file: ./scan/Li2O2_1097030.xyz\n",
      "✅ Written scan file: ./scan/Li3Ga14_1222489.xyz\n",
      "✅ Written scan file: ./scan/LiGa3_1185332.xyz\n",
      "✅ Written scan file: ./scan/LiMg2_973455.xyz\n",
      "✅ Written scan file: ./scan/LiHg3_976599.xyz\n",
      "✅ Written scan file: ./scan/LiSi3_975321.xyz\n",
      "✅ Written scan file: ./scan/LiP_9588.xyz\n",
      "✅ Written scan file: ./scan/LiIn3_863027.xyz\n",
      "✅ Written scan file: ./scan/LiW3_1185237.xyz\n",
      "✅ Written scan file: ./scan/Li11Ge6_29631.xyz\n",
      "✅ Written scan file: ./scan/LiNp3_1185274.xyz\n",
      "✅ Written scan file: ./scan/Li2Mg_1094601.xyz\n",
      "✅ Written scan file: ./scan/Li5Mg_977122.xyz\n",
      "✅ Written scan file: ./scan/Li3Lu_1185208.xyz\n",
      "🎉 All XYZ scan files generated successfully.\n"
     ]
    }
   ],
   "source": [
    "import os\n",
    "\n",
    "# Parameters\n",
    "input_dir = \"./xyz_files\"\n",
    "output_dir = \"./scan\"\n",
    "delta = 0.05\n",
    "scales = [1 + i * delta for i in range(-5, 30)]  # e.g., from 0.75 to 2.45\n",
    "\n",
    "# Make sure output directory exists\n",
    "os.makedirs(output_dir, exist_ok=True)\n",
    "\n",
    "for file in os.listdir(input_dir):\n",
    "    if not file.endswith(\".xyz\"):\n",
    "        continue\n",
    "\n",
    "    filepath = os.path.join(input_dir, file)\n",
    "    base_name = os.path.splitext(file)[0]\n",
    "    output_xyz_path = os.path.join(output_dir, base_name + \".xyz\")\n",
    "\n",
    "    # Read original .xyz file\n",
    "    with open(filepath) as f:\n",
    "        lines = f.readlines()\n",
    "\n",
    "    natoms = int(lines[0])\n",
    "    coords = []\n",
    "    symbols = []\n",
    "\n",
    "    for line in lines[2:2+natoms]:\n",
    "        s, x, y, z = line.split()\n",
    "        symbols.append(s)\n",
    "        coords.append([float(x), float(y), float(z)])\n",
    "\n",
    "    # Write scaled geometries to one .xyz file\n",
    "    with open(output_xyz_path, \"w\") as out:\n",
    "        for i, scale in enumerate(scales):\n",
    "            out.write(f\"{natoms}\\n\")\n",
    "            out.write(f\"scale = {scale:.5f}\\n\")\n",
    "            for atom, (x, y, z) in zip(symbols, coords):\n",
    "                new_x, new_y, new_z = x * scale, y * scale, z * scale\n",
    "                out.write(f\"{atom:2s}  {new_x:.10f}  {new_y:.10f}  {new_z:.10f}\\n\")\n",
    "\n",
    "    print(f\"✅ Written scan file: {output_xyz_path}\")\n",
    "\n",
    "print(\"🎉 All XYZ scan files generated successfully.\")\n"
   ]
  },
  {
   "cell_type": "code",
   "execution_count": 2,
   "id": "ce1902a4",
   "metadata": {},
   "outputs": [],
   "source": [
    "import numpy as np\n",
    "import csv\n",
    "\n",
    "def extract_scan_data_to_csv(input_xyz, d3s_file, d3_file, output_csv):\n",
    "    \"\"\"\n",
    "    Parse XYZ trajectory and D3/D3S energies to produce a CSV with frame cell lengths and energies.\n",
    "\n",
    "    Parameters:\n",
    "    - input_xyz (str): Path to the .xyz scan file.\n",
    "    - d3s_file (str): Path to the D3S energy file.\n",
    "    - d3_file (str): Path to the D3 energy file.\n",
    "    - output_csv (str): Output CSV file path.\n",
    "    \"\"\"\n",
    "    # Read D3S values\n",
    "    with open(d3s_file, \"r\") as f:\n",
    "        d3s_values = [float(line.strip()) for line in f if line.strip()]\n",
    "\n",
    "    # Read D3 values\n",
    "    with open(d3_file, \"r\") as f:\n",
    "        d3_values = [float(line.strip()) for line in f if line.strip()]\n",
    "\n",
    "    # Prepare XYZ parsing\n",
    "    with open(input_xyz, \"r\") as f:\n",
    "        lines = f.readlines()\n",
    "\n",
    "    i = 0\n",
    "    frame_idx = 0\n",
    "    cell_lengths = []\n",
    "\n",
    "    while i < len(lines):\n",
    "        try:\n",
    "            natoms = int(lines[i].strip())\n",
    "            comment = lines[i + 1].strip()\n",
    "            frame_lines = lines[i + 2:i + 2 + natoms]\n",
    "\n",
    "            coords = []\n",
    "            for line in frame_lines:\n",
    "                parts = line.split()\n",
    "                coords.append([float(parts[1]), float(parts[2]), float(parts[3])])\n",
    "            \n",
    "            coords = np.array(coords)\n",
    "\n",
    "            # Get extents in x, y, z\n",
    "            x_length = np.max(coords[:, 0]) - np.min(coords[:, 0])\n",
    "            y_length = np.max(coords[:, 1]) - np.min(coords[:, 1])\n",
    "            z_length = np.max(coords[:, 2]) - np.min(coords[:, 2])\n",
    "\n",
    "            scale = comment.split(\"scale = \")[1] if \"scale =\" in comment else \"?\"\n",
    "\n",
    "            # Get corresponding D3 value (if available)\n",
    "            d3s_value = d3s_values[frame_idx] if frame_idx < len(d3s_values) else \"NA\"\n",
    "            d3_value = d3_values[frame_idx] if frame_idx < len(d3_values) else \"NA\"\n",
    "\n",
    "            # Collect row\n",
    "            cell_lengths.append([frame_idx, scale, x_length, y_length, z_length, d3s_value, d3_value])\n",
    "\n",
    "            # Next frame\n",
    "            i += natoms + 2\n",
    "            frame_idx += 1\n",
    "\n",
    "        except Exception as e:\n",
    "            print(f\"❌ Error at frame {frame_idx}: {e}\")\n",
    "            break\n",
    "\n",
    "    # Write to CSV\n",
    "    with open(output_csv, \"w\", newline=\"\") as csvfile:\n",
    "        writer = csv.writer(csvfile)\n",
    "        writer.writerow([\"Frame\", \"Scale\", \"a_length (Å)\", \"b_length (Å)\", \"c_length (Å)\", \"D3s_Energy\", \"D3_Energy\"])\n",
    "        writer.writerows(cell_lengths)\n",
    "\n",
    "    print(f\"✅ CSV with D3 energy written to {output_csv}\")\n"
   ]
  },
  {
   "cell_type": "code",
   "execution_count": 3,
   "id": "f5b36e6f",
   "metadata": {},
   "outputs": [
    {
     "name": "stdout",
     "output_type": "stream",
     "text": [
      "/Users/partha/Desktop/research/D3S/calcs/scan\n",
      "Found 452 scan files in /Users/partha/Desktop/research/D3S/calcs/scan\n",
      "Running Test_script.py on /Users/partha/Desktop/research/D3S/calcs/scan/LiTb3_1185471.xyz\n",
      "✅ CSV with D3 energy written to calcs/output/LiTb3_1185471.csv\n",
      "Running Test_script.py on /Users/partha/Desktop/research/D3S/calcs/scan/Li3Ce_1185231.xyz\n",
      "✅ CSV with D3 energy written to calcs/output/Li3Ce_1185231.csv\n",
      "Running Test_script.py on /Users/partha/Desktop/research/D3S/calcs/scan/LiMg2_1094604.xyz\n",
      "✅ CSV with D3 energy written to calcs/output/LiMg2_1094604.csv\n",
      "Running Test_script.py on /Users/partha/Desktop/research/D3S/calcs/scan/Li3N2_1222421.xyz\n",
      "✅ CSV with D3 energy written to calcs/output/Li3N2_1222421.csv\n",
      "Running Test_script.py on /Users/partha/Desktop/research/D3S/calcs/scan/Li3Rh_1185235.xyz\n",
      "✅ CSV with D3 energy written to calcs/output/Li3Rh_1185235.csv\n",
      "Running Test_script.py on /Users/partha/Desktop/research/D3S/calcs/scan/Li2Ga7_1222769.xyz\n",
      "✅ CSV with D3 energy written to calcs/output/Li2Ga7_1222769.csv\n",
      "Running Test_script.py on /Users/partha/Desktop/research/D3S/calcs/scan/LiPm3_1185395.xyz\n",
      "✅ CSV with D3 energy written to calcs/output/LiPm3_1185395.csv\n",
      "Running Test_script.py on /Users/partha/Desktop/research/D3S/calcs/scan/K3Li_1184918.xyz\n",
      "✅ CSV with D3 energy written to calcs/output/K3Li_1184918.csv\n",
      "Running Test_script.py on /Users/partha/Desktop/research/D3S/calcs/scan/LiBe_2475638.xyz\n",
      "✅ CSV with D3 energy written to calcs/output/LiBe_2475638.csv\n",
      "Running Test_script.py on /Users/partha/Desktop/research/D3S/calcs/scan/LiHg_2012.xyz\n",
      "✅ CSV with D3 energy written to calcs/output/LiHg_2012.csv\n",
      "Running Test_script.py on /Users/partha/Desktop/research/D3S/calcs/scan/Li21Si5_29720.xyz\n"
     ]
    },
    {
     "name": "stderr",
     "output_type": "stream",
     "text": [
      "/Users/partha/Desktop/research/D3S/D3S/D3S.py:126: RuntimeWarning: invalid value encountered in scalar divide\n",
      "  return Z(I,J,CN_I,CN_J,k3)/W(I,J,CN_I,CN_J,k3)\n"
     ]
    },
    {
     "name": "stdout",
     "output_type": "stream",
     "text": [
      "✅ CSV with D3 energy written to calcs/output/Li21Si5_29720.csv\n",
      "Running Test_script.py on /Users/partha/Desktop/research/D3S/calcs/scan/Li3La_1185192.xyz\n",
      "✅ CSV with D3 energy written to calcs/output/Li3La_1185192.csv\n",
      "Running Test_script.py on /Users/partha/Desktop/research/D3S/calcs/scan/LiMg_976239.xyz\n",
      "✅ CSV with D3 energy written to calcs/output/LiMg_976239.csv\n",
      "Running Test_script.py on /Users/partha/Desktop/research/D3S/calcs/scan/LiY3_1185240.xyz\n",
      "✅ CSV with D3 energy written to calcs/output/LiY3_1185240.csv\n",
      "Running Test_script.py on /Users/partha/Desktop/research/D3S/calcs/scan/LiN_1059612.xyz\n",
      "✅ CSV with D3 energy written to calcs/output/LiN_1059612.csv\n",
      "Running Test_script.py on /Users/partha/Desktop/research/D3S/calcs/scan/K3Li_1184845.xyz\n",
      "✅ CSV with D3 energy written to calcs/output/K3Li_1184845.csv\n",
      "Running Test_script.py on /Users/partha/Desktop/research/D3S/calcs/scan/Li7Al6_1212183.xyz\n",
      "✅ CSV with D3 energy written to calcs/output/Li7Al6_1212183.csv\n",
      "Running Test_script.py on /Users/partha/Desktop/research/D3S/calcs/scan/Li8Hf3_1190933.xyz\n",
      "✅ CSV with D3 energy written to calcs/output/Li8Hf3_1190933.csv\n",
      "Running Test_script.py on /Users/partha/Desktop/research/D3S/calcs/scan/LiGe3_1185336.xyz\n",
      "✅ CSV with D3 energy written to calcs/output/LiGe3_1185336.csv\n",
      "Running Test_script.py on /Users/partha/Desktop/research/D3S/calcs/scan/LiMg2_1094605.xyz\n",
      "✅ CSV with D3 energy written to calcs/output/LiMg2_1094605.csv\n",
      "Running Test_script.py on /Users/partha/Desktop/research/D3S/calcs/scan/LiPt2_30764.xyz\n",
      "✅ CSV with D3 energy written to calcs/output/LiPt2_30764.csv\n",
      "Running Test_script.py on /Users/partha/Desktop/research/D3S/calcs/scan/Rb3Li_974938.xyz\n",
      "✅ CSV with D3 energy written to calcs/output/Rb3Li_974938.csv\n",
      "Running Test_script.py on /Users/partha/Desktop/research/D3S/calcs/scan/Li7Si3_1201871.xyz\n"
     ]
    },
    {
     "name": "stderr",
     "output_type": "stream",
     "text": [
      "/Users/partha/Desktop/research/D3S/D3S/D3S.py:126: RuntimeWarning: invalid value encountered in scalar divide\n",
      "  return Z(I,J,CN_I,CN_J,k3)/W(I,J,CN_I,CN_J,k3)\n"
     ]
    },
    {
     "name": "stdout",
     "output_type": "stream",
     "text": [
      "✅ CSV with D3 energy written to calcs/output/Li7Si3_1201871.csv\n",
      "Running Test_script.py on /Users/partha/Desktop/research/D3S/calcs/scan/LiMg5_1094609.xyz\n",
      "✅ CSV with D3 energy written to calcs/output/LiMg5_1094609.csv\n",
      "Running Test_script.py on /Users/partha/Desktop/research/D3S/calcs/scan/LiTl_1191883.xyz\n"
     ]
    },
    {
     "name": "stderr",
     "output_type": "stream",
     "text": [
      "/Users/partha/Desktop/research/D3S/D3S/D3S.py:126: RuntimeWarning: invalid value encountered in scalar divide\n",
      "  return Z(I,J,CN_I,CN_J,k3)/W(I,J,CN_I,CN_J,k3)\n"
     ]
    },
    {
     "name": "stdout",
     "output_type": "stream",
     "text": [
      "✅ CSV with D3 energy written to calcs/output/LiTl_1191883.csv\n",
      "Running Test_script.py on /Users/partha/Desktop/research/D3S/calcs/scan/LiIn3_973748.xyz\n",
      "✅ CSV with D3 energy written to calcs/output/LiIn3_973748.csv\n",
      "Running Test_script.py on /Users/partha/Desktop/research/D3S/calcs/scan/Li3Mg_1094159.xyz\n",
      "✅ CSV with D3 energy written to calcs/output/Li3Mg_1094159.csv\n",
      "Running Test_script.py on /Users/partha/Desktop/research/D3S/calcs/scan/Li9Ag4_1222549.xyz\n"
     ]
    },
    {
     "name": "stderr",
     "output_type": "stream",
     "text": [
      "/Users/partha/Desktop/research/D3S/D3S/D3S.py:126: RuntimeWarning: invalid value encountered in scalar divide\n",
      "  return Z(I,J,CN_I,CN_J,k3)/W(I,J,CN_I,CN_J,k3)\n"
     ]
    },
    {
     "name": "stdout",
     "output_type": "stream",
     "text": [
      "✅ CSV with D3 energy written to calcs/output/Li9Ag4_1222549.csv\n",
      "Running Test_script.py on /Users/partha/Desktop/research/D3S/calcs/scan/LiIn_22460.xyz\n",
      "✅ CSV with D3 energy written to calcs/output/LiIn_22460.csv\n",
      "Running Test_script.py on /Users/partha/Desktop/research/D3S/calcs/scan/LiI_22899.xyz\n",
      "✅ CSV with D3 energy written to calcs/output/LiI_22899.csv\n",
      "Running Test_script.py on /Users/partha/Desktop/research/D3S/calcs/scan/Ba19Li44_569841.xyz\n"
     ]
    },
    {
     "name": "stderr",
     "output_type": "stream",
     "text": [
      "/Users/partha/Desktop/research/D3S/D3S/D3S.py:126: RuntimeWarning: invalid value encountered in scalar divide\n",
      "  return Z(I,J,CN_I,CN_J,k3)/W(I,J,CN_I,CN_J,k3)\n"
     ]
    },
    {
     "name": "stdout",
     "output_type": "stream",
     "text": [
      "✅ CSV with D3 energy written to calcs/output/Ba19Li44_569841.csv\n",
      "Running Test_script.py on /Users/partha/Desktop/research/D3S/calcs/scan/LiPb3_1185275.xyz\n",
      "✅ CSV with D3 energy written to calcs/output/LiPb3_1185275.csv\n",
      "Running Test_script.py on /Users/partha/Desktop/research/D3S/calcs/scan/LiB11_1101854.xyz\n",
      "✅ CSV with D3 energy written to calcs/output/LiB11_1101854.csv\n",
      "Running Test_script.py on /Users/partha/Desktop/research/D3S/calcs/scan/LiMg_1094673.xyz\n",
      "✅ CSV with D3 energy written to calcs/output/LiMg_1094673.csv\n",
      "Running Test_script.py on /Users/partha/Desktop/research/D3S/calcs/scan/Li2Mg_1094586.xyz\n",
      "✅ CSV with D3 energy written to calcs/output/Li2Mg_1094586.csv\n",
      "Running Test_script.py on /Users/partha/Desktop/research/D3S/calcs/scan/LiU_1185249.xyz\n",
      "✅ CSV with D3 energy written to calcs/output/LiU_1185249.csv\n",
      "Running Test_script.py on /Users/partha/Desktop/research/D3S/calcs/scan/LiGa_1307.xyz\n",
      "✅ CSV with D3 energy written to calcs/output/LiGa_1307.csv\n",
      "Running Test_script.py on /Users/partha/Desktop/research/D3S/calcs/scan/Li3Tb_1185282.xyz\n",
      "✅ CSV with D3 energy written to calcs/output/Li3Tb_1185282.csv\n",
      "Running Test_script.py on /Users/partha/Desktop/research/D3S/calcs/scan/Li3Fe_1185215.xyz\n",
      "✅ CSV with D3 energy written to calcs/output/Li3Fe_1185215.csv\n",
      "Running Test_script.py on /Users/partha/Desktop/research/D3S/calcs/scan/LiMg2_1094559.xyz\n",
      "✅ CSV with D3 energy written to calcs/output/LiMg2_1094559.csv\n",
      "Running Test_script.py on /Users/partha/Desktop/research/D3S/calcs/scan/Li3Ho_1185197.xyz\n",
      "✅ CSV with D3 energy written to calcs/output/Li3Ho_1185197.csv\n",
      "Running Test_script.py on /Users/partha/Desktop/research/D3S/calcs/scan/LiZn_1934.xyz\n",
      "✅ CSV with D3 energy written to calcs/output/LiZn_1934.csv\n",
      "Running Test_script.py on /Users/partha/Desktop/research/D3S/calcs/scan/LiZn3_1222288.xyz\n",
      "✅ CSV with D3 energy written to calcs/output/LiZn3_1222288.csv\n",
      "Running Test_script.py on /Users/partha/Desktop/research/D3S/calcs/scan/LiEu3_1185355.xyz\n",
      "✅ CSV with D3 energy written to calcs/output/LiEu3_1185355.csv\n",
      "Running Test_script.py on /Users/partha/Desktop/research/D3S/calcs/scan/LiH_23703.xyz\n",
      "✅ CSV with D3 energy written to calcs/output/LiH_23703.csv\n",
      "Running Test_script.py on /Users/partha/Desktop/research/D3S/calcs/scan/KLi3_1185026.xyz\n",
      "✅ CSV with D3 energy written to calcs/output/KLi3_1185026.csv\n",
      "Running Test_script.py on /Users/partha/Desktop/research/D3S/calcs/scan/LiO2_1097725.xyz\n",
      "✅ CSV with D3 energy written to calcs/output/LiO2_1097725.csv\n",
      "Running Test_script.py on /Users/partha/Desktop/research/D3S/calcs/scan/Li5In4_1079408.xyz\n",
      "✅ CSV with D3 energy written to calcs/output/Li5In4_1079408.csv\n",
      "Running Test_script.py on /Users/partha/Desktop/research/D3S/calcs/scan/LiMg2_1094570.xyz\n",
      "✅ CSV with D3 energy written to calcs/output/LiMg2_1094570.csv\n",
      "Running Test_script.py on /Users/partha/Desktop/research/D3S/calcs/scan/Li3Co_976017.xyz\n",
      "✅ CSV with D3 energy written to calcs/output/Li3Co_976017.csv\n",
      "Running Test_script.py on /Users/partha/Desktop/research/D3S/calcs/scan/Li3Gd_1185269.xyz\n",
      "✅ CSV with D3 energy written to calcs/output/Li3Gd_1185269.csv\n",
      "Running Test_script.py on /Users/partha/Desktop/research/D3S/calcs/scan/Li3Ag_976408.xyz\n",
      "✅ CSV with D3 energy written to calcs/output/Li3Ag_976408.csv\n",
      "Running Test_script.py on /Users/partha/Desktop/research/D3S/calcs/scan/LiY3_1185257.xyz\n",
      "✅ CSV with D3 energy written to calcs/output/LiY3_1185257.csv\n",
      "Running Test_script.py on /Users/partha/Desktop/research/D3S/calcs/scan/Li2Sb_1545896.xyz\n"
     ]
    },
    {
     "name": "stderr",
     "output_type": "stream",
     "text": [
      "/Users/partha/Desktop/research/D3S/D3S/D3S.py:126: RuntimeWarning: invalid value encountered in scalar divide\n",
      "  return Z(I,J,CN_I,CN_J,k3)/W(I,J,CN_I,CN_J,k3)\n"
     ]
    },
    {
     "name": "stdout",
     "output_type": "stream",
     "text": [
      "✅ CSV with D3 energy written to calcs/output/Li2Sb_1545896.csv\n",
      "Running Test_script.py on /Users/partha/Desktop/research/D3S/calcs/scan/LiC_1378.xyz\n",
      "✅ CSV with D3 energy written to calcs/output/LiC_1378.csv\n",
      "Running Test_script.py on /Users/partha/Desktop/research/D3S/calcs/scan/LiAl2_1211134.xyz\n",
      "✅ CSV with D3 energy written to calcs/output/LiAl2_1211134.csv\n",
      "Running Test_script.py on /Users/partha/Desktop/research/D3S/calcs/scan/LiO8_1232999.xyz\n",
      "✅ CSV with D3 energy written to calcs/output/LiO8_1232999.csv\n",
      "Running Test_script.py on /Users/partha/Desktop/research/D3S/calcs/scan/LiPd7_1079855.xyz\n",
      "✅ CSV with D3 energy written to calcs/output/LiPd7_1079855.csv\n",
      "Running Test_script.py on /Users/partha/Desktop/research/D3S/calcs/scan/Li2O_1245224.xyz\n"
     ]
    },
    {
     "name": "stderr",
     "output_type": "stream",
     "text": [
      "/Users/partha/Desktop/research/D3S/D3S/D3S.py:129: RuntimeWarning: invalid value encountered in scalar divide\n",
      "  return Z_k3_PD(I,J,CN_I,CN_J)/W_k3_PD(I,J,CN_I,CN_J)\n",
      "/Users/partha/Desktop/research/D3S/D3S/D3S.py:126: RuntimeWarning: invalid value encountered in scalar divide\n",
      "  return Z(I,J,CN_I,CN_J,k3)/W(I,J,CN_I,CN_J,k3)\n"
     ]
    },
    {
     "name": "stdout",
     "output_type": "stream",
     "text": [
      "✅ CSV with D3 energy written to calcs/output/Li2O_1245224.csv\n",
      "Running Test_script.py on /Users/partha/Desktop/research/D3S/calcs/scan/LiHg3_973824.xyz\n",
      "✅ CSV with D3 energy written to calcs/output/LiHg3_973824.csv\n",
      "Running Test_script.py on /Users/partha/Desktop/research/D3S/calcs/scan/LiHo3_973732.xyz\n",
      "✅ CSV with D3 energy written to calcs/output/LiHo3_973732.csv\n",
      "Running Test_script.py on /Users/partha/Desktop/research/D3S/calcs/scan/Li2O2_1180619.xyz\n",
      "✅ CSV with D3 energy written to calcs/output/Li2O2_1180619.csv\n",
      "Running Test_script.py on /Users/partha/Desktop/research/D3S/calcs/scan/Li3W_1185288.xyz\n",
      "✅ CSV with D3 energy written to calcs/output/Li3W_1185288.csv\n",
      "Running Test_script.py on /Users/partha/Desktop/research/D3S/calcs/scan/LiTe3_1185477.xyz\n",
      "✅ CSV with D3 energy written to calcs/output/LiTe3_1185477.csv\n",
      "Running Test_script.py on /Users/partha/Desktop/research/D3S/calcs/scan/LiB_1080576.xyz\n",
      "✅ CSV with D3 energy written to calcs/output/LiB_1080576.csv\n",
      "Running Test_script.py on /Users/partha/Desktop/research/D3S/calcs/scan/LiFe_1211097.xyz\n",
      "✅ CSV with D3 energy written to calcs/output/LiFe_1211097.csv\n",
      "Running Test_script.py on /Users/partha/Desktop/research/D3S/calcs/scan/LiO2_1018789.xyz\n",
      "✅ CSV with D3 energy written to calcs/output/LiO2_1018789.csv\n",
      "Running Test_script.py on /Users/partha/Desktop/research/D3S/calcs/scan/LiEr3_1185345.xyz\n",
      "✅ CSV with D3 energy written to calcs/output/LiEr3_1185345.csv\n",
      "Running Test_script.py on /Users/partha/Desktop/research/D3S/calcs/scan/LiMg2_1094574.xyz\n",
      "✅ CSV with D3 energy written to calcs/output/LiMg2_1094574.csv\n",
      "Running Test_script.py on /Users/partha/Desktop/research/D3S/calcs/scan/LiPa_1185271.xyz\n",
      "✅ CSV with D3 energy written to calcs/output/LiPa_1185271.csv\n",
      "Running Test_script.py on /Users/partha/Desktop/research/D3S/calcs/scan/Li2C_1210743.xyz\n",
      "✅ CSV with D3 energy written to calcs/output/Li2C_1210743.csv\n",
      "Running Test_script.py on /Users/partha/Desktop/research/D3S/calcs/scan/LiMg_1185380.xyz\n",
      "✅ CSV with D3 energy written to calcs/output/LiMg_1185380.csv\n",
      "Running Test_script.py on /Users/partha/Desktop/research/D3S/calcs/scan/LiO8_1236127.xyz\n",
      "✅ CSV with D3 energy written to calcs/output/LiO8_1236127.csv\n",
      "Running Test_script.py on /Users/partha/Desktop/research/D3S/calcs/scan/Li3P7_28336.xyz\n"
     ]
    },
    {
     "name": "stderr",
     "output_type": "stream",
     "text": [
      "/Users/partha/Desktop/research/D3S/D3S/D3S.py:126: RuntimeWarning: invalid value encountered in scalar divide\n",
      "  return Z(I,J,CN_I,CN_J,k3)/W(I,J,CN_I,CN_J,k3)\n"
     ]
    },
    {
     "name": "stdout",
     "output_type": "stream",
     "text": [
      "✅ CSV with D3 energy written to calcs/output/Li3P7_28336.csv\n",
      "Running Test_script.py on /Users/partha/Desktop/research/D3S/calcs/scan/Li2S_1125.xyz\n",
      "✅ CSV with D3 energy written to calcs/output/Li2S_1125.csv\n",
      "Running Test_script.py on /Users/partha/Desktop/research/D3S/calcs/scan/Li3Nd_976264.xyz\n",
      "✅ CSV with D3 energy written to calcs/output/Li3Nd_976264.csv\n",
      "Running Test_script.py on /Users/partha/Desktop/research/D3S/calcs/scan/LiC12_1021323.xyz\n",
      "✅ CSV with D3 energy written to calcs/output/LiC12_1021323.csv\n",
      "Running Test_script.py on /Users/partha/Desktop/research/D3S/calcs/scan/Li3Mg_1094598.xyz\n",
      "✅ CSV with D3 energy written to calcs/output/Li3Mg_1094598.csv\n",
      "Running Test_script.py on /Users/partha/Desktop/research/D3S/calcs/scan/Li2Mg_1094569.xyz\n",
      "✅ CSV with D3 energy written to calcs/output/Li2Mg_1094569.csv\n",
      "Running Test_script.py on /Users/partha/Desktop/research/D3S/calcs/scan/LiO8_1236522.xyz\n",
      "✅ CSV with D3 energy written to calcs/output/LiO8_1236522.csv\n",
      "Running Test_script.py on /Users/partha/Desktop/research/D3S/calcs/scan/LiTe3_2750540.xyz\n",
      "✅ CSV with D3 energy written to calcs/output/LiTe3_2750540.csv\n",
      "Running Test_script.py on /Users/partha/Desktop/research/D3S/calcs/scan/LiBr_976280.xyz\n",
      "✅ CSV with D3 energy written to calcs/output/LiBr_976280.csv\n",
      "Running Test_script.py on /Users/partha/Desktop/research/D3S/calcs/scan/Li3Re_983152.xyz\n",
      "✅ CSV with D3 energy written to calcs/output/Li3Re_983152.csv\n",
      "Running Test_script.py on /Users/partha/Desktop/research/D3S/calcs/scan/Li2Te_2530.xyz\n",
      "✅ CSV with D3 energy written to calcs/output/Li2Te_2530.csv\n",
      "Running Test_script.py on /Users/partha/Desktop/research/D3S/calcs/scan/LiMg149_866755.xyz\n"
     ]
    },
    {
     "name": "stderr",
     "output_type": "stream",
     "text": [
      "/Users/partha/Desktop/research/D3S/D3S/D3S.py:126: RuntimeWarning: invalid value encountered in scalar divide\n",
      "  return Z(I,J,CN_I,CN_J,k3)/W(I,J,CN_I,CN_J,k3)\n"
     ]
    },
    {
     "name": "stdout",
     "output_type": "stream",
     "text": [
      "✅ CSV with D3 energy written to calcs/output/LiMg149_866755.csv\n",
      "Running Test_script.py on /Users/partha/Desktop/research/D3S/calcs/scan/LiCu3_862658.xyz\n",
      "✅ CSV with D3 energy written to calcs/output/LiCu3_862658.csv\n",
      "Running Test_script.py on /Users/partha/Desktop/research/D3S/calcs/scan/LiHg3_1079267.xyz\n",
      "✅ CSV with D3 energy written to calcs/output/LiHg3_1079267.csv\n",
      "Running Test_script.py on /Users/partha/Desktop/research/D3S/calcs/scan/LiZn3_975799.xyz\n",
      "✅ CSV with D3 energy written to calcs/output/LiZn3_975799.csv\n",
      "Running Test_script.py on /Users/partha/Desktop/research/D3S/calcs/scan/Li2Pd_728.xyz\n",
      "✅ CSV with D3 energy written to calcs/output/Li2Pd_728.csv\n",
      "Running Test_script.py on /Users/partha/Desktop/research/D3S/calcs/scan/Li2O_1245009.xyz\n"
     ]
    },
    {
     "name": "stderr",
     "output_type": "stream",
     "text": [
      "/Users/partha/Desktop/research/D3S/D3S/D3S.py:129: RuntimeWarning: invalid value encountered in scalar divide\n",
      "  return Z_k3_PD(I,J,CN_I,CN_J)/W_k3_PD(I,J,CN_I,CN_J)\n",
      "/Users/partha/Desktop/research/D3S/D3S/D3S.py:126: RuntimeWarning: invalid value encountered in scalar divide\n",
      "  return Z(I,J,CN_I,CN_J,k3)/W(I,J,CN_I,CN_J,k3)\n"
     ]
    },
    {
     "name": "stdout",
     "output_type": "stream",
     "text": [
      "✅ CSV with D3 energy written to calcs/output/Li2O_1245009.csv\n",
      "Running Test_script.py on /Users/partha/Desktop/research/D3S/calcs/scan/LiTe3_27466.xyz\n",
      "✅ CSV with D3 energy written to calcs/output/LiTe3_27466.csv\n",
      "Running Test_script.py on /Users/partha/Desktop/research/D3S/calcs/scan/Li2S_32899.xyz\n",
      "✅ CSV with D3 energy written to calcs/output/Li2S_32899.csv\n",
      "Running Test_script.py on /Users/partha/Desktop/research/D3S/calcs/scan/Li7Pb2_30761.xyz\n",
      "✅ CSV with D3 energy written to calcs/output/Li7Pb2_30761.csv\n",
      "Running Test_script.py on /Users/partha/Desktop/research/D3S/calcs/scan/Li3Pm_1185206.xyz\n",
      "✅ CSV with D3 energy written to calcs/output/Li3Pm_1185206.csv\n",
      "Running Test_script.py on /Users/partha/Desktop/research/D3S/calcs/scan/LiMg_1094675.xyz\n",
      "✅ CSV with D3 energy written to calcs/output/LiMg_1094675.csv\n",
      "Running Test_script.py on /Users/partha/Desktop/research/D3S/calcs/scan/Li5Mg_1094590.xyz\n",
      "✅ CSV with D3 energy written to calcs/output/Li5Mg_1094590.csv\n",
      "Running Test_script.py on /Users/partha/Desktop/research/D3S/calcs/scan/LiCd3_973940.xyz\n",
      "✅ CSV with D3 energy written to calcs/output/LiCd3_973940.csv\n",
      "Running Test_script.py on /Users/partha/Desktop/research/D3S/calcs/scan/Li10Pb3_504760.xyz\n"
     ]
    },
    {
     "name": "stderr",
     "output_type": "stream",
     "text": [
      "/Users/partha/Desktop/research/D3S/D3S/D3S.py:126: RuntimeWarning: invalid value encountered in scalar divide\n",
      "  return Z(I,J,CN_I,CN_J,k3)/W(I,J,CN_I,CN_J,k3)\n"
     ]
    },
    {
     "name": "stdout",
     "output_type": "stream",
     "text": [
      "✅ CSV with D3 energy written to calcs/output/Li10Pb3_504760.csv\n",
      "Running Test_script.py on /Users/partha/Desktop/research/D3S/calcs/scan/Li3Hg_1646.xyz\n",
      "✅ CSV with D3 energy written to calcs/output/Li3Hg_1646.csv\n",
      "Running Test_script.py on /Users/partha/Desktop/research/D3S/calcs/scan/Li5Sn2_30766.xyz\n",
      "✅ CSV with D3 energy written to calcs/output/Li5Sn2_30766.csv\n",
      "Running Test_script.py on /Users/partha/Desktop/research/D3S/calcs/scan/LiCl_1185319.xyz\n",
      "✅ CSV with D3 energy written to calcs/output/LiCl_1185319.csv\n",
      "Running Test_script.py on /Users/partha/Desktop/research/D3S/calcs/scan/Li3In2_21293.xyz\n",
      "✅ CSV with D3 energy written to calcs/output/Li3In2_21293.csv\n",
      "Running Test_script.py on /Users/partha/Desktop/research/D3S/calcs/scan/LiCl_22905.xyz\n",
      "✅ CSV with D3 energy written to calcs/output/LiCl_22905.csv\n",
      "Running Test_script.py on /Users/partha/Desktop/research/D3S/calcs/scan/LiB_16726.xyz\n",
      "✅ CSV with D3 energy written to calcs/output/LiB_16726.csv\n",
      "Running Test_script.py on /Users/partha/Desktop/research/D3S/calcs/scan/Li3Sm_977286.xyz\n",
      "✅ CSV with D3 energy written to calcs/output/Li3Sm_977286.csv\n",
      "Running Test_script.py on /Users/partha/Desktop/research/D3S/calcs/scan/LiY3_1185245.xyz\n",
      "✅ CSV with D3 energy written to calcs/output/LiY3_1185245.csv\n",
      "Running Test_script.py on /Users/partha/Desktop/research/D3S/calcs/scan/Li3N_2341.xyz\n",
      "✅ CSV with D3 energy written to calcs/output/Li3N_2341.csv\n",
      "Running Test_script.py on /Users/partha/Desktop/research/D3S/calcs/scan/LiPd3_861936.xyz\n",
      "✅ CSV with D3 energy written to calcs/output/LiPd3_861936.csv\n",
      "Running Test_script.py on /Users/partha/Desktop/research/D3S/calcs/scan/LiAu3_975909.xyz\n",
      "✅ CSV with D3 energy written to calcs/output/LiAu3_975909.csv\n",
      "Running Test_script.py on /Users/partha/Desktop/research/D3S/calcs/scan/Li7Si2_27930.xyz\n"
     ]
    },
    {
     "name": "stderr",
     "output_type": "stream",
     "text": [
      "/Users/partha/Desktop/research/D3S/D3S/D3S.py:126: RuntimeWarning: invalid value encountered in scalar divide\n",
      "  return Z(I,J,CN_I,CN_J,k3)/W(I,J,CN_I,CN_J,k3)\n"
     ]
    },
    {
     "name": "stdout",
     "output_type": "stream",
     "text": [
      "✅ CSV with D3 energy written to calcs/output/Li7Si2_27930.csv\n",
      "Running Test_script.py on /Users/partha/Desktop/research/D3S/calcs/scan/Li13Sn5_30769.xyz\n",
      "✅ CSV with D3 energy written to calcs/output/Li13Sn5_30769.csv\n",
      "Running Test_script.py on /Users/partha/Desktop/research/D3S/calcs/scan/LiMg_1094853.xyz\n",
      "✅ CSV with D3 energy written to calcs/output/LiMg_1094853.csv\n",
      "Running Test_script.py on /Users/partha/Desktop/research/D3S/calcs/scan/Li15Si4_569849.xyz\n"
     ]
    },
    {
     "name": "stderr",
     "output_type": "stream",
     "text": [
      "/Users/partha/Desktop/research/D3S/D3S/D3S.py:126: RuntimeWarning: invalid value encountered in scalar divide\n",
      "  return Z(I,J,CN_I,CN_J,k3)/W(I,J,CN_I,CN_J,k3)\n"
     ]
    },
    {
     "name": "stdout",
     "output_type": "stream",
     "text": [
      "✅ CSV with D3 energy written to calcs/output/Li15Si4_569849.csv\n",
      "Running Test_script.py on /Users/partha/Desktop/research/D3S/calcs/scan/LiMg2_1094600.xyz\n",
      "✅ CSV with D3 energy written to calcs/output/LiMg2_1094600.csv\n",
      "Running Test_script.py on /Users/partha/Desktop/research/D3S/calcs/scan/LiAu_1222403.xyz\n",
      "✅ CSV with D3 energy written to calcs/output/LiAu_1222403.csv\n",
      "Running Test_script.py on /Users/partha/Desktop/research/D3S/calcs/scan/LiF_1185301.xyz\n",
      "✅ CSV with D3 energy written to calcs/output/LiF_1185301.csv\n",
      "Running Test_script.py on /Users/partha/Desktop/research/D3S/calcs/scan/LiGd3_1185526.xyz\n",
      "✅ CSV with D3 energy written to calcs/output/LiGd3_1185526.csv\n",
      "Running Test_script.py on /Users/partha/Desktop/research/D3S/calcs/scan/LiRh_600561.xyz\n",
      "✅ CSV with D3 energy written to calcs/output/LiRh_600561.csv\n",
      "Running Test_script.py on /Users/partha/Desktop/research/D3S/calcs/scan/LiAg_2426.xyz\n",
      "✅ CSV with D3 energy written to calcs/output/LiAg_2426.csv\n",
      "Running Test_script.py on /Users/partha/Desktop/research/D3S/calcs/scan/Li3Tm_1185283.xyz\n",
      "✅ CSV with D3 energy written to calcs/output/Li3Tm_1185283.csv\n",
      "Running Test_script.py on /Users/partha/Desktop/research/D3S/calcs/scan/LiN3_2659.xyz\n",
      "✅ CSV with D3 energy written to calcs/output/LiN3_2659.csv\n",
      "Running Test_script.py on /Users/partha/Desktop/research/D3S/calcs/scan/LiO8_2766401.xyz\n",
      "✅ CSV with D3 energy written to calcs/output/LiO8_2766401.csv\n",
      "Running Test_script.py on /Users/partha/Desktop/research/D3S/calcs/scan/LiTl3_1185253.xyz\n",
      "✅ CSV with D3 energy written to calcs/output/LiTl3_1185253.csv\n",
      "Running Test_script.py on /Users/partha/Desktop/research/D3S/calcs/scan/Li2Ca_11644.xyz\n",
      "✅ CSV with D3 energy written to calcs/output/Li2Ca_11644.csv\n",
      "Running Test_script.py on /Users/partha/Desktop/research/D3S/calcs/scan/LiPt3_861931.xyz\n",
      "✅ CSV with D3 energy written to calcs/output/LiPt3_861931.csv\n",
      "Running Test_script.py on /Users/partha/Desktop/research/D3S/calcs/scan/LiSb3_1185416.xyz\n",
      "✅ CSV with D3 energy written to calcs/output/LiSb3_1185416.csv\n",
      "Running Test_script.py on /Users/partha/Desktop/research/D3S/calcs/scan/Li15Au4_567395.xyz\n"
     ]
    },
    {
     "name": "stderr",
     "output_type": "stream",
     "text": [
      "/Users/partha/Desktop/research/D3S/D3S/D3S.py:126: RuntimeWarning: invalid value encountered in scalar divide\n",
      "  return Z(I,J,CN_I,CN_J,k3)/W(I,J,CN_I,CN_J,k3)\n"
     ]
    },
    {
     "name": "stdout",
     "output_type": "stream",
     "text": [
      "✅ CSV with D3 energy written to calcs/output/Li15Au4_567395.csv\n",
      "Running Test_script.py on /Users/partha/Desktop/research/D3S/calcs/scan/LiS_1180520.xyz\n",
      "✅ CSV with D3 energy written to calcs/output/LiS_1180520.csv\n",
      "Running Test_script.py on /Users/partha/Desktop/research/D3S/calcs/scan/Li3Mg_976254.xyz\n",
      "✅ CSV with D3 energy written to calcs/output/Li3Mg_976254.csv\n",
      "Running Test_script.py on /Users/partha/Desktop/research/D3S/calcs/scan/Li5Ga4_1205930.xyz\n",
      "✅ CSV with D3 energy written to calcs/output/Li5Ga4_1205930.csv\n",
      "Running Test_script.py on /Users/partha/Desktop/research/D3S/calcs/scan/Li3Au_1185200.xyz\n",
      "✅ CSV with D3 energy written to calcs/output/Li3Au_1185200.csv\n",
      "Running Test_script.py on /Users/partha/Desktop/research/D3S/calcs/scan/Li2Mg_977207.xyz\n",
      "✅ CSV with D3 energy written to calcs/output/Li2Mg_977207.csv\n",
      "Running Test_script.py on /Users/partha/Desktop/research/D3S/calcs/scan/LiS4_995393.xyz\n",
      "✅ CSV with D3 energy written to calcs/output/LiS4_995393.csv\n",
      "Running Test_script.py on /Users/partha/Desktop/research/D3S/calcs/scan/Li2Ga_29210.xyz\n",
      "✅ CSV with D3 energy written to calcs/output/Li2Ga_29210.csv\n",
      "Running Test_script.py on /Users/partha/Desktop/research/D3S/calcs/scan/Li3Pt_867227.xyz\n",
      "✅ CSV with D3 energy written to calcs/output/Li3Pt_867227.csv\n",
      "Running Test_script.py on /Users/partha/Desktop/research/D3S/calcs/scan/LiMg_1094982.xyz\n",
      "✅ CSV with D3 energy written to calcs/output/LiMg_1094982.csv\n",
      "Running Test_script.py on /Users/partha/Desktop/research/D3S/calcs/scan/Li2Sb_9563.xyz\n"
     ]
    },
    {
     "name": "stderr",
     "output_type": "stream",
     "text": [
      "/Users/partha/Desktop/research/D3S/D3S/D3S.py:126: RuntimeWarning: invalid value encountered in scalar divide\n",
      "  return Z(I,J,CN_I,CN_J,k3)/W(I,J,CN_I,CN_J,k3)\n"
     ]
    },
    {
     "name": "stdout",
     "output_type": "stream",
     "text": [
      "✅ CSV with D3 energy written to calcs/output/Li2Sb_9563.csv\n",
      "Running Test_script.py on /Users/partha/Desktop/research/D3S/calcs/scan/LiSi_570363.xyz\n",
      "✅ CSV with D3 energy written to calcs/output/LiSi_570363.csv\n",
      "Running Test_script.py on /Users/partha/Desktop/research/D3S/calcs/scan/Li3Pr_976321.xyz\n",
      "✅ CSV with D3 energy written to calcs/output/Li3Pr_976321.csv\n",
      "Running Test_script.py on /Users/partha/Desktop/research/D3S/calcs/scan/LiF_1138.xyz\n",
      "✅ CSV with D3 energy written to calcs/output/LiF_1138.csv\n",
      "Running Test_script.py on /Users/partha/Desktop/research/D3S/calcs/scan/Li3Hg_976047.xyz\n",
      "✅ CSV with D3 energy written to calcs/output/Li3Hg_976047.csv\n",
      "Running Test_script.py on /Users/partha/Desktop/research/D3S/calcs/scan/LiYb3_1185470.xyz\n",
      "✅ CSV with D3 energy written to calcs/output/LiYb3_1185470.csv\n",
      "Running Test_script.py on /Users/partha/Desktop/research/D3S/calcs/scan/Li3Pu_977299.xyz\n",
      "✅ CSV with D3 energy written to calcs/output/Li3Pu_977299.csv\n",
      "Running Test_script.py on /Users/partha/Desktop/research/D3S/calcs/scan/LiP5_2412.xyz\n",
      "✅ CSV with D3 energy written to calcs/output/LiP5_2412.csv\n",
      "Running Test_script.py on /Users/partha/Desktop/research/D3S/calcs/scan/LiMg2_973374.xyz\n",
      "✅ CSV with D3 energy written to calcs/output/LiMg2_973374.csv\n",
      "Running Test_script.py on /Users/partha/Desktop/research/D3S/calcs/scan/LiN_1180489.xyz\n",
      "✅ CSV with D3 energy written to calcs/output/LiN_1180489.csv\n",
      "Running Test_script.py on /Users/partha/Desktop/research/D3S/calcs/scan/LiAl_1067.xyz\n",
      "✅ CSV with D3 energy written to calcs/output/LiAl_1067.csv\n",
      "Running Test_script.py on /Users/partha/Desktop/research/D3S/calcs/scan/Li3In_976055.xyz\n",
      "✅ CSV with D3 energy written to calcs/output/Li3In_976055.csv\n",
      "Running Test_script.py on /Users/partha/Desktop/research/D3S/calcs/scan/Rb3Li_974959.xyz\n",
      "✅ CSV with D3 energy written to calcs/output/Rb3Li_974959.csv\n",
      "Running Test_script.py on /Users/partha/Desktop/research/D3S/calcs/scan/Li3Rh_1185255.xyz\n",
      "✅ CSV with D3 energy written to calcs/output/Li3Rh_1185255.csv\n",
      "Running Test_script.py on /Users/partha/Desktop/research/D3S/calcs/scan/LiMg_2362485.xyz\n",
      "✅ CSV with D3 energy written to calcs/output/LiMg_2362485.csv\n",
      "Running Test_script.py on /Users/partha/Desktop/research/D3S/calcs/scan/Li3N_2251.xyz\n",
      "✅ CSV with D3 energy written to calcs/output/Li3N_2251.csv\n",
      "Running Test_script.py on /Users/partha/Desktop/research/D3S/calcs/scan/Li3Yb_1185286.xyz\n",
      "✅ CSV with D3 energy written to calcs/output/Li3Yb_1185286.csv\n",
      "Running Test_script.py on /Users/partha/Desktop/research/D3S/calcs/scan/LiAs_7943.xyz\n",
      "✅ CSV with D3 energy written to calcs/output/LiAs_7943.csv\n",
      "Running Test_script.py on /Users/partha/Desktop/research/D3S/calcs/scan/LiBi_22902.xyz\n",
      "✅ CSV with D3 energy written to calcs/output/LiBi_22902.csv\n",
      "Running Test_script.py on /Users/partha/Desktop/research/D3S/calcs/scan/LiCd3_865612.xyz\n",
      "✅ CSV with D3 energy written to calcs/output/LiCd3_865612.csv\n",
      "Running Test_script.py on /Users/partha/Desktop/research/D3S/calcs/scan/LiSn3_1185461.xyz\n",
      "✅ CSV with D3 energy written to calcs/output/LiSn3_1185461.csv\n",
      "Running Test_script.py on /Users/partha/Desktop/research/D3S/calcs/scan/Li3Sb_2074.xyz\n",
      "✅ CSV with D3 energy written to calcs/output/Li3Sb_2074.csv\n",
      "Running Test_script.py on /Users/partha/Desktop/research/D3S/calcs/scan/LiMg15_1023493.xyz\n",
      "✅ CSV with D3 energy written to calcs/output/LiMg15_1023493.csv\n",
      "Running Test_script.py on /Users/partha/Desktop/research/D3S/calcs/scan/Li3Mg_976256.xyz\n",
      "✅ CSV with D3 energy written to calcs/output/Li3Mg_976256.csv\n",
      "Running Test_script.py on /Users/partha/Desktop/research/D3S/calcs/scan/LiSi_795.xyz\n",
      "✅ CSV with D3 energy written to calcs/output/LiSi_795.csv\n",
      "Running Test_script.py on /Users/partha/Desktop/research/D3S/calcs/scan/Li3Eu_1185222.xyz\n",
      "✅ CSV with D3 energy written to calcs/output/Li3Eu_1185222.csv\n",
      "Running Test_script.py on /Users/partha/Desktop/research/D3S/calcs/scan/Li3Dy_977188.xyz\n",
      "✅ CSV with D3 energy written to calcs/output/Li3Dy_977188.csv\n",
      "Running Test_script.py on /Users/partha/Desktop/research/D3S/calcs/scan/LiMg_1094573.xyz\n",
      "✅ CSV with D3 energy written to calcs/output/LiMg_1094573.csv\n",
      "Running Test_script.py on /Users/partha/Desktop/research/D3S/calcs/scan/Li3Hg_1185205.xyz\n",
      "✅ CSV with D3 energy written to calcs/output/Li3Hg_1185205.csv\n",
      "Running Test_script.py on /Users/partha/Desktop/research/D3S/calcs/scan/LiCe3_1185343.xyz\n",
      "✅ CSV with D3 energy written to calcs/output/LiCe3_1185343.csv\n",
      "Running Test_script.py on /Users/partha/Desktop/research/D3S/calcs/scan/LiAl_1079240.xyz\n",
      "✅ CSV with D3 energy written to calcs/output/LiAl_1079240.csv\n",
      "Running Test_script.py on /Users/partha/Desktop/research/D3S/calcs/scan/LiAs3_1206724.xyz\n",
      "✅ CSV with D3 energy written to calcs/output/LiAs3_1206724.csv\n",
      "Running Test_script.py on /Users/partha/Desktop/research/D3S/calcs/scan/Li2B_1222698.xyz\n",
      "✅ CSV with D3 energy written to calcs/output/Li2B_1222698.csv\n",
      "Running Test_script.py on /Users/partha/Desktop/research/D3S/calcs/scan/Li2O_1245092.xyz\n"
     ]
    },
    {
     "name": "stderr",
     "output_type": "stream",
     "text": [
      "/Users/partha/Desktop/research/D3S/D3S/D3S.py:129: RuntimeWarning: invalid value encountered in scalar divide\n",
      "  return Z_k3_PD(I,J,CN_I,CN_J)/W_k3_PD(I,J,CN_I,CN_J)\n",
      "/Users/partha/Desktop/research/D3S/D3S/D3S.py:126: RuntimeWarning: invalid value encountered in scalar divide\n",
      "  return Z(I,J,CN_I,CN_J,k3)/W(I,J,CN_I,CN_J,k3)\n"
     ]
    },
    {
     "name": "stdout",
     "output_type": "stream",
     "text": [
      "✅ CSV with D3 energy written to calcs/output/Li2O_1245092.csv\n",
      "Running Test_script.py on /Users/partha/Desktop/research/D3S/calcs/scan/Li5Tl2_12283.xyz\n",
      "✅ CSV with D3 energy written to calcs/output/Li5Tl2_12283.csv\n",
      "Running Test_script.py on /Users/partha/Desktop/research/D3S/calcs/scan/LiRh3_1185455.xyz\n",
      "✅ CSV with D3 energy written to calcs/output/LiRh3_1185455.csv\n",
      "Running Test_script.py on /Users/partha/Desktop/research/D3S/calcs/scan/LiO8_1235059.xyz\n",
      "✅ CSV with D3 energy written to calcs/output/LiO8_1235059.csv\n",
      "Running Test_script.py on /Users/partha/Desktop/research/D3S/calcs/scan/LiPd_2744.xyz\n",
      "✅ CSV with D3 energy written to calcs/output/LiPd_2744.csv\n",
      "Running Test_script.py on /Users/partha/Desktop/research/D3S/calcs/scan/Li4Mg_1222419.xyz\n",
      "✅ CSV with D3 energy written to calcs/output/Li4Mg_1222419.csv\n",
      "Running Test_script.py on /Users/partha/Desktop/research/D3S/calcs/scan/LiHo3_973741.xyz\n",
      "✅ CSV with D3 energy written to calcs/output/LiHo3_973741.csv\n",
      "Running Test_script.py on /Users/partha/Desktop/research/D3S/calcs/scan/LiMg3_1094596.xyz\n",
      "✅ CSV with D3 energy written to calcs/output/LiMg3_1094596.csv\n",
      "Running Test_script.py on /Users/partha/Desktop/research/D3S/calcs/scan/Li3Th_977239.xyz\n",
      "✅ CSV with D3 energy written to calcs/output/Li3Th_977239.csv\n",
      "Running Test_script.py on /Users/partha/Desktop/research/D3S/calcs/scan/Li3Ga7_567306.xyz\n",
      "✅ CSV with D3 energy written to calcs/output/Li3Ga7_567306.csv\n",
      "Running Test_script.py on /Users/partha/Desktop/research/D3S/calcs/scan/Li3Np_1185256.xyz\n",
      "✅ CSV with D3 energy written to calcs/output/Li3Np_1185256.csv\n",
      "Running Test_script.py on /Users/partha/Desktop/research/D3S/calcs/scan/LiCu3_1185338.xyz\n",
      "✅ CSV with D3 energy written to calcs/output/LiCu3_1185338.csv\n",
      "Running Test_script.py on /Users/partha/Desktop/research/D3S/calcs/scan/Li3Cr_977229.xyz\n",
      "✅ CSV with D3 energy written to calcs/output/Li3Cr_977229.csv\n",
      "Running Test_script.py on /Users/partha/Desktop/research/D3S/calcs/scan/LiAu3_1185333.xyz\n",
      "✅ CSV with D3 energy written to calcs/output/LiAu3_1185333.csv\n",
      "Running Test_script.py on /Users/partha/Desktop/research/D3S/calcs/scan/LiGa3_863257.xyz\n",
      "✅ CSV with D3 energy written to calcs/output/LiGa3_863257.csv\n",
      "Running Test_script.py on /Users/partha/Desktop/research/D3S/calcs/scan/LiO2_1094129.xyz\n",
      "✅ CSV with D3 energy written to calcs/output/LiO2_1094129.csv\n",
      "Running Test_script.py on /Users/partha/Desktop/research/D3S/calcs/scan/LiTl_934.xyz\n",
      "✅ CSV with D3 energy written to calcs/output/LiTl_934.csv\n",
      "Running Test_script.py on /Users/partha/Desktop/research/D3S/calcs/scan/Li4Pt_1211180.xyz\n",
      "✅ CSV with D3 energy written to calcs/output/Li4Pt_1211180.csv\n",
      "Running Test_script.py on /Users/partha/Desktop/research/D3S/calcs/scan/Li5Mg_865604.xyz\n",
      "✅ CSV with D3 energy written to calcs/output/Li5Mg_865604.csv\n",
      "Running Test_script.py on /Users/partha/Desktop/research/D3S/calcs/scan/Li3As_757.xyz\n",
      "✅ CSV with D3 energy written to calcs/output/Li3As_757.csv\n",
      "Running Test_script.py on /Users/partha/Desktop/research/D3S/calcs/scan/LiO8_1235698.xyz\n",
      "✅ CSV with D3 energy written to calcs/output/LiO8_1235698.csv\n",
      "Running Test_script.py on /Users/partha/Desktop/research/D3S/calcs/scan/LiAg3_862716.xyz\n",
      "✅ CSV with D3 energy written to calcs/output/LiAg3_862716.csv\n",
      "Running Test_script.py on /Users/partha/Desktop/research/D3S/calcs/scan/LiP3_1025406.xyz\n",
      "✅ CSV with D3 energy written to calcs/output/LiP3_1025406.csv\n",
      "Running Test_script.py on /Users/partha/Desktop/research/D3S/calcs/scan/LiS4_1143546.xyz\n",
      "✅ CSV with D3 energy written to calcs/output/LiS4_1143546.csv\n",
      "Running Test_script.py on /Users/partha/Desktop/research/D3S/calcs/scan/LiDy3_974060.xyz\n",
      "✅ CSV with D3 energy written to calcs/output/LiDy3_974060.csv\n",
      "Running Test_script.py on /Users/partha/Desktop/research/D3S/calcs/scan/Li2S_1153.xyz\n",
      "✅ CSV with D3 energy written to calcs/output/Li2S_1153.csv\n",
      "Running Test_script.py on /Users/partha/Desktop/research/D3S/calcs/scan/Li3Eu_1185227.xyz\n",
      "✅ CSV with D3 energy written to calcs/output/Li3Eu_1185227.csv\n",
      "Running Test_script.py on /Users/partha/Desktop/research/D3S/calcs/scan/Li2Sn5_7924.xyz\n",
      "✅ CSV with D3 energy written to calcs/output/Li2Sn5_7924.csv\n",
      "Running Test_script.py on /Users/partha/Desktop/research/D3S/calcs/scan/Li5B4_27658.xyz\n",
      "✅ CSV with D3 energy written to calcs/output/Li5B4_27658.csv\n",
      "Running Test_script.py on /Users/partha/Desktop/research/D3S/calcs/scan/LiTl_1237690.xyz\n"
     ]
    },
    {
     "name": "stderr",
     "output_type": "stream",
     "text": [
      "/Users/partha/Desktop/research/D3S/D3S/D3S.py:126: RuntimeWarning: invalid value encountered in scalar divide\n",
      "  return Z(I,J,CN_I,CN_J,k3)/W(I,J,CN_I,CN_J,k3)\n"
     ]
    },
    {
     "name": "stdout",
     "output_type": "stream",
     "text": [
      "✅ CSV with D3 energy written to calcs/output/LiTl_1237690.csv\n",
      "Running Test_script.py on /Users/partha/Desktop/research/D3S/calcs/scan/LiMg_1094589.xyz\n",
      "✅ CSV with D3 energy written to calcs/output/LiMg_1094589.csv\n",
      "Running Test_script.py on /Users/partha/Desktop/research/D3S/calcs/scan/Li3Nb_1185216.xyz\n",
      "✅ CSV with D3 energy written to calcs/output/Li3Nb_1185216.csv\n",
      "Running Test_script.py on /Users/partha/Desktop/research/D3S/calcs/scan/LiSm3_1185451.xyz\n",
      "✅ CSV with D3 energy written to calcs/output/LiSm3_1185451.csv\n",
      "Running Test_script.py on /Users/partha/Desktop/research/D3S/calcs/scan/Li3Ac_976407.xyz\n",
      "✅ CSV with D3 energy written to calcs/output/Li3Ac_976407.csv\n",
      "Running Test_script.py on /Users/partha/Desktop/research/D3S/calcs/scan/Li2Al_1210753.xyz\n",
      "✅ CSV with D3 energy written to calcs/output/Li2Al_1210753.csv\n",
      "Running Test_script.py on /Users/partha/Desktop/research/D3S/calcs/scan/LiRh3_1001787.xyz\n",
      "✅ CSV with D3 energy written to calcs/output/LiRh3_1001787.csv\n",
      "Running Test_script.py on /Users/partha/Desktop/research/D3S/calcs/scan/Li7C120_1223102.xyz\n"
     ]
    },
    {
     "name": "stderr",
     "output_type": "stream",
     "text": [
      "/Users/partha/Desktop/research/D3S/D3S/D3S.py:126: RuntimeWarning: invalid value encountered in scalar divide\n",
      "  return Z(I,J,CN_I,CN_J,k3)/W(I,J,CN_I,CN_J,k3)\n"
     ]
    },
    {
     "name": "stdout",
     "output_type": "stream",
     "text": [
      "✅ CSV with D3 energy written to calcs/output/Li7C120_1223102.csv\n",
      "Running Test_script.py on /Users/partha/Desktop/research/D3S/calcs/scan/LiAg3_1185342.xyz\n",
      "✅ CSV with D3 energy written to calcs/output/LiAg3_1185342.csv\n",
      "Running Test_script.py on /Users/partha/Desktop/research/D3S/calcs/scan/Li3Cu_975882.xyz\n",
      "✅ CSV with D3 energy written to calcs/output/Li3Cu_975882.csv\n",
      "Running Test_script.py on /Users/partha/Desktop/research/D3S/calcs/scan/Li3Yb_1185296.xyz\n",
      "✅ CSV with D3 energy written to calcs/output/Li3Yb_1185296.csv\n",
      "Running Test_script.py on /Users/partha/Desktop/research/D3S/calcs/scan/LiIn2_1210993.xyz\n",
      "✅ CSV with D3 energy written to calcs/output/LiIn2_1210993.csv\n",
      "Running Test_script.py on /Users/partha/Desktop/research/D3S/calcs/scan/Li3Tc_977230.xyz\n",
      "✅ CSV with D3 energy written to calcs/output/Li3Tc_977230.csv\n",
      "Running Test_script.py on /Users/partha/Desktop/research/D3S/calcs/scan/LiPu3_1185480.xyz\n",
      "✅ CSV with D3 energy written to calcs/output/LiPu3_1185480.csv\n",
      "Running Test_script.py on /Users/partha/Desktop/research/D3S/calcs/scan/LiTb3_1185429.xyz\n",
      "✅ CSV with D3 energy written to calcs/output/LiTb3_1185429.csv\n",
      "Running Test_script.py on /Users/partha/Desktop/research/D3S/calcs/scan/Li2Se_2286.xyz\n",
      "✅ CSV with D3 energy written to calcs/output/Li2Se_2286.csv\n",
      "Running Test_script.py on /Users/partha/Desktop/research/D3S/calcs/scan/LiMg7_1016274.xyz\n",
      "✅ CSV with D3 energy written to calcs/output/LiMg7_1016274.csv\n",
      "Running Test_script.py on /Users/partha/Desktop/research/D3S/calcs/scan/LiPd_2743.xyz\n",
      "✅ CSV with D3 energy written to calcs/output/LiPd_2743.csv\n",
      "Running Test_script.py on /Users/partha/Desktop/research/D3S/calcs/scan/BaLi4_210.xyz\n"
     ]
    },
    {
     "name": "stderr",
     "output_type": "stream",
     "text": [
      "/Users/partha/Desktop/research/D3S/D3S/D3S.py:126: RuntimeWarning: invalid value encountered in scalar divide\n",
      "  return Z(I,J,CN_I,CN_J,k3)/W(I,J,CN_I,CN_J,k3)\n"
     ]
    },
    {
     "name": "stdout",
     "output_type": "stream",
     "text": [
      "✅ CSV with D3 energy written to calcs/output/BaLi4_210.csv\n",
      "Running Test_script.py on /Users/partha/Desktop/research/D3S/calcs/scan/LiYb3_980190.xyz\n",
      "✅ CSV with D3 energy written to calcs/output/LiYb3_980190.csv\n",
      "Running Test_script.py on /Users/partha/Desktop/research/D3S/calcs/scan/LiSi_1222271.xyz\n",
      "✅ CSV with D3 energy written to calcs/output/LiSi_1222271.csv\n",
      "Running Test_script.py on /Users/partha/Desktop/research/D3S/calcs/scan/LiIr_279.xyz\n",
      "✅ CSV with D3 energy written to calcs/output/LiIr_279.csv\n",
      "Running Test_script.py on /Users/partha/Desktop/research/D3S/calcs/scan/Li3Pd_976281.xyz\n",
      "✅ CSV with D3 energy written to calcs/output/Li3Pd_976281.csv\n",
      "Running Test_script.py on /Users/partha/Desktop/research/D3S/calcs/scan/Li2Al_1210792.xyz\n",
      "✅ CSV with D3 energy written to calcs/output/Li2Al_1210792.csv\n",
      "Running Test_script.py on /Users/partha/Desktop/research/D3S/calcs/scan/LiMg_976262.xyz\n",
      "✅ CSV with D3 energy written to calcs/output/LiMg_976262.csv\n",
      "Running Test_script.py on /Users/partha/Desktop/research/D3S/calcs/scan/LiB11_1103613.xyz\n",
      "✅ CSV with D3 energy written to calcs/output/LiB11_1103613.csv\n",
      "Running Test_script.py on /Users/partha/Desktop/research/D3S/calcs/scan/Li3Pb_30760.xyz\n",
      "✅ CSV with D3 energy written to calcs/output/Li3Pb_30760.csv\n",
      "Running Test_script.py on /Users/partha/Desktop/research/D3S/calcs/scan/LiB3_1222413.xyz\n",
      "✅ CSV with D3 energy written to calcs/output/LiB3_1222413.csv\n",
      "Running Test_script.py on /Users/partha/Desktop/research/D3S/calcs/scan/LiB3_1222412.xyz\n",
      "✅ CSV with D3 energy written to calcs/output/LiB3_1222412.csv\n",
      "Running Test_script.py on /Users/partha/Desktop/research/D3S/calcs/scan/LiMg_1094575.xyz\n",
      "✅ CSV with D3 energy written to calcs/output/LiMg_1094575.csv\n",
      "Running Test_script.py on /Users/partha/Desktop/research/D3S/calcs/scan/LiAl3_10890.xyz\n",
      "✅ CSV with D3 energy written to calcs/output/LiAl3_10890.csv\n",
      "Running Test_script.py on /Users/partha/Desktop/research/D3S/calcs/scan/Li7Sn3_30768.xyz\n"
     ]
    },
    {
     "name": "stderr",
     "output_type": "stream",
     "text": [
      "/Users/partha/Desktop/research/D3S/D3S/D3S.py:126: RuntimeWarning: invalid value encountered in scalar divide\n",
      "  return Z(I,J,CN_I,CN_J,k3)/W(I,J,CN_I,CN_J,k3)\n"
     ]
    },
    {
     "name": "stdout",
     "output_type": "stream",
     "text": [
      "✅ CSV with D3 energy written to calcs/output/Li7Sn3_30768.csv\n",
      "Running Test_script.py on /Users/partha/Desktop/research/D3S/calcs/scan/Li27As10_676620.xyz\n"
     ]
    },
    {
     "name": "stderr",
     "output_type": "stream",
     "text": [
      "/Users/partha/Desktop/research/D3S/D3S/D3S.py:126: RuntimeWarning: invalid value encountered in scalar divide\n",
      "  return Z(I,J,CN_I,CN_J,k3)/W(I,J,CN_I,CN_J,k3)\n"
     ]
    },
    {
     "name": "stdout",
     "output_type": "stream",
     "text": [
      "✅ CSV with D3 energy written to calcs/output/Li27As10_676620.csv\n",
      "Running Test_script.py on /Users/partha/Desktop/research/D3S/calcs/scan/LiP5_32760.xyz\n",
      "✅ CSV with D3 energy written to calcs/output/LiP5_32760.csv\n",
      "Running Test_script.py on /Users/partha/Desktop/research/D3S/calcs/scan/LiHg3_1185337.xyz\n",
      "✅ CSV with D3 energy written to calcs/output/LiHg3_1185337.csv\n",
      "Running Test_script.py on /Users/partha/Desktop/research/D3S/calcs/scan/LiCu3_1185312.xyz\n",
      "✅ CSV with D3 energy written to calcs/output/LiCu3_1185312.csv\n",
      "Running Test_script.py on /Users/partha/Desktop/research/D3S/calcs/scan/LiMg3_1016222.xyz\n",
      "✅ CSV with D3 energy written to calcs/output/LiMg3_1016222.csv\n",
      "Running Test_script.py on /Users/partha/Desktop/research/D3S/calcs/scan/LiCu3_974058.xyz\n",
      "✅ CSV with D3 energy written to calcs/output/LiCu3_974058.csv\n",
      "Running Test_script.py on /Users/partha/Desktop/research/D3S/calcs/scan/Li3Mg5_1206428.xyz\n",
      "✅ CSV with D3 energy written to calcs/output/Li3Mg5_1206428.csv\n",
      "Running Test_script.py on /Users/partha/Desktop/research/D3S/calcs/scan/LiIr3_30738.xyz\n",
      "✅ CSV with D3 energy written to calcs/output/LiIr3_30738.csv\n",
      "Running Test_script.py on /Users/partha/Desktop/research/D3S/calcs/scan/LiSn_569073.xyz\n",
      "✅ CSV with D3 energy written to calcs/output/LiSn_569073.csv\n",
      "Running Test_script.py on /Users/partha/Desktop/research/D3S/calcs/scan/Li3Bi_23222.xyz\n",
      "✅ CSV with D3 energy written to calcs/output/Li3Bi_23222.csv\n",
      "Running Test_script.py on /Users/partha/Desktop/research/D3S/calcs/scan/LiTm3_975649.xyz\n",
      "✅ CSV with D3 energy written to calcs/output/LiTm3_975649.csv\n",
      "Running Test_script.py on /Users/partha/Desktop/research/D3S/calcs/scan/LiHf_973948.xyz\n",
      "✅ CSV with D3 energy written to calcs/output/LiHf_973948.csv\n",
      "Running Test_script.py on /Users/partha/Desktop/research/D3S/calcs/scan/Li3Tl_7396.xyz\n",
      "✅ CSV with D3 energy written to calcs/output/Li3Tl_7396.csv\n",
      "Running Test_script.py on /Users/partha/Desktop/research/D3S/calcs/scan/Li3Ga_976025.xyz\n",
      "✅ CSV with D3 energy written to calcs/output/Li3Ga_976025.csv\n",
      "Running Test_script.py on /Users/partha/Desktop/research/D3S/calcs/scan/LiF3_1185348.xyz\n",
      "✅ CSV with D3 energy written to calcs/output/LiF3_1185348.csv\n",
      "Running Test_script.py on /Users/partha/Desktop/research/D3S/calcs/scan/LiB_1001831.xyz\n",
      "✅ CSV with D3 energy written to calcs/output/LiB_1001831.csv\n",
      "Running Test_script.py on /Users/partha/Desktop/research/D3S/calcs/scan/Li9Al4_568404.xyz\n",
      "✅ CSV with D3 energy written to calcs/output/Li9Al4_568404.csv\n",
      "Running Test_script.py on /Users/partha/Desktop/research/D3S/calcs/scan/Li3Pu_1185258.xyz\n",
      "✅ CSV with D3 energy written to calcs/output/Li3Pu_1185258.csv\n",
      "Running Test_script.py on /Users/partha/Desktop/research/D3S/calcs/scan/Li3Pt_976322.xyz\n",
      "✅ CSV with D3 energy written to calcs/output/Li3Pt_976322.csv\n",
      "Running Test_script.py on /Users/partha/Desktop/research/D3S/calcs/scan/Li3As7_680395.xyz\n"
     ]
    },
    {
     "name": "stderr",
     "output_type": "stream",
     "text": [
      "/Users/partha/Desktop/research/D3S/D3S/D3S.py:129: RuntimeWarning: invalid value encountered in scalar divide\n",
      "  return Z_k3_PD(I,J,CN_I,CN_J)/W_k3_PD(I,J,CN_I,CN_J)\n",
      "/Users/partha/Desktop/research/D3S/D3S/D3S.py:126: RuntimeWarning: invalid value encountered in scalar divide\n",
      "  return Z(I,J,CN_I,CN_J,k3)/W(I,J,CN_I,CN_J,k3)\n"
     ]
    },
    {
     "name": "stdout",
     "output_type": "stream",
     "text": [
      "✅ CSV with D3 energy written to calcs/output/Li3As7_680395.csv\n",
      "Running Test_script.py on /Users/partha/Desktop/research/D3S/calcs/scan/LiMg_1094578.xyz\n",
      "✅ CSV with D3 energy written to calcs/output/LiMg_1094578.csv\n",
      "Running Test_script.py on /Users/partha/Desktop/research/D3S/calcs/scan/Li2S_723352.xyz\n",
      "✅ CSV with D3 energy written to calcs/output/Li2S_723352.csv\n",
      "Running Test_script.py on /Users/partha/Desktop/research/D3S/calcs/scan/LiI_568273.xyz\n",
      "✅ CSV with D3 energy written to calcs/output/LiI_568273.csv\n",
      "Running Test_script.py on /Users/partha/Desktop/research/D3S/calcs/scan/Li3Be_975794.xyz\n",
      "✅ CSV with D3 energy written to calcs/output/Li3Be_975794.csv\n",
      "Running Test_script.py on /Users/partha/Desktop/research/D3S/calcs/scan/LiMg_1094592.xyz\n",
      "✅ CSV with D3 energy written to calcs/output/LiMg_1094592.csv\n",
      "Running Test_script.py on /Users/partha/Desktop/research/D3S/calcs/scan/Li2Si_27705.xyz\n",
      "✅ CSV with D3 energy written to calcs/output/Li2Si_27705.csv\n",
      "Running Test_script.py on /Users/partha/Desktop/research/D3S/calcs/scan/Li22Pb5_573651.xyz\n"
     ]
    },
    {
     "name": "stderr",
     "output_type": "stream",
     "text": [
      "/Users/partha/Desktop/research/D3S/D3S/D3S.py:126: RuntimeWarning: invalid value encountered in scalar divide\n",
      "  return Z(I,J,CN_I,CN_J,k3)/W(I,J,CN_I,CN_J,k3)\n"
     ]
    },
    {
     "name": "stdout",
     "output_type": "stream",
     "text": [
      "✅ CSV with D3 energy written to calcs/output/Li22Pb5_573651.csv\n",
      "Running Test_script.py on /Users/partha/Desktop/research/D3S/calcs/scan/Li13Si4_672287.xyz\n"
     ]
    },
    {
     "name": "stderr",
     "output_type": "stream",
     "text": [
      "/Users/partha/Desktop/research/D3S/D3S/D3S.py:126: RuntimeWarning: invalid value encountered in scalar divide\n",
      "  return Z(I,J,CN_I,CN_J,k3)/W(I,J,CN_I,CN_J,k3)\n"
     ]
    },
    {
     "name": "stdout",
     "output_type": "stream",
     "text": [
      "✅ CSV with D3 energy written to calcs/output/Li13Si4_672287.csv\n",
      "Running Test_script.py on /Users/partha/Desktop/research/D3S/calcs/scan/LiHo3_1185384.xyz\n",
      "✅ CSV with D3 energy written to calcs/output/LiHo3_1185384.csv\n",
      "Running Test_script.py on /Users/partha/Desktop/research/D3S/calcs/scan/LiPt_11807.xyz\n",
      "✅ CSV with D3 energy written to calcs/output/LiPt_11807.csv\n",
      "Running Test_script.py on /Users/partha/Desktop/research/D3S/calcs/scan/LiRe3_1185410.xyz\n",
      "✅ CSV with D3 energy written to calcs/output/LiRe3_1185410.csv\n",
      "Running Test_script.py on /Users/partha/Desktop/research/D3S/calcs/scan/Li2O2_841.xyz\n",
      "✅ CSV with D3 energy written to calcs/output/Li2O2_841.csv\n",
      "Running Test_script.py on /Users/partha/Desktop/research/D3S/calcs/scan/Li3Nb_1185184.xyz\n",
      "✅ CSV with D3 energy written to calcs/output/Li3Nb_1185184.csv\n",
      "Running Test_script.py on /Users/partha/Desktop/research/D3S/calcs/scan/Li22Ge5_1204063.xyz\n"
     ]
    },
    {
     "name": "stderr",
     "output_type": "stream",
     "text": [
      "/Users/partha/Desktop/research/D3S/D3S/D3S.py:126: RuntimeWarning: invalid value encountered in scalar divide\n",
      "  return Z(I,J,CN_I,CN_J,k3)/W(I,J,CN_I,CN_J,k3)\n"
     ]
    },
    {
     "name": "stdout",
     "output_type": "stream",
     "text": [
      "✅ CSV with D3 energy written to calcs/output/Li22Ge5_1204063.csv\n",
      "Running Test_script.py on /Users/partha/Desktop/research/D3S/calcs/scan/LiCd3_1222405.xyz\n",
      "✅ CSV with D3 energy written to calcs/output/LiCd3_1222405.csv\n",
      "Running Test_script.py on /Users/partha/Desktop/research/D3S/calcs/scan/Li17Pb4_574275.xyz\n"
     ]
    },
    {
     "name": "stderr",
     "output_type": "stream",
     "text": [
      "/Users/partha/Desktop/research/D3S/D3S/D3S.py:126: RuntimeWarning: invalid value encountered in scalar divide\n",
      "  return Z(I,J,CN_I,CN_J,k3)/W(I,J,CN_I,CN_J,k3)\n"
     ]
    },
    {
     "name": "stdout",
     "output_type": "stream",
     "text": [
      "✅ CSV with D3 energy written to calcs/output/Li17Pb4_574275.csv\n",
      "Running Test_script.py on /Users/partha/Desktop/research/D3S/calcs/scan/Li3Ge_867342.xyz\n",
      "✅ CSV with D3 energy written to calcs/output/Li3Ge_867342.csv\n",
      "Running Test_script.py on /Users/partha/Desktop/research/D3S/calcs/scan/Li8Ag5_1211140.xyz\n"
     ]
    },
    {
     "name": "stderr",
     "output_type": "stream",
     "text": [
      "/Users/partha/Desktop/research/D3S/D3S/D3S.py:126: RuntimeWarning: invalid value encountered in scalar divide\n",
      "  return Z(I,J,CN_I,CN_J,k3)/W(I,J,CN_I,CN_J,k3)\n"
     ]
    },
    {
     "name": "stdout",
     "output_type": "stream",
     "text": [
      "✅ CSV with D3 energy written to calcs/output/Li8Ag5_1211140.csv\n",
      "Running Test_script.py on /Users/partha/Desktop/research/D3S/calcs/scan/Rb3Li_974950.xyz\n",
      "✅ CSV with D3 energy written to calcs/output/Rb3Li_974950.csv\n",
      "Running Test_script.py on /Users/partha/Desktop/research/D3S/calcs/scan/LiZn2_1210982.xyz\n",
      "✅ CSV with D3 energy written to calcs/output/LiZn2_1210982.csv\n",
      "Running Test_script.py on /Users/partha/Desktop/research/D3S/calcs/scan/LiP7_27687.xyz\n"
     ]
    },
    {
     "name": "stderr",
     "output_type": "stream",
     "text": [
      "/Users/partha/Desktop/research/D3S/D3S/D3S.py:126: RuntimeWarning: invalid value encountered in scalar divide\n",
      "  return Z(I,J,CN_I,CN_J,k3)/W(I,J,CN_I,CN_J,k3)\n"
     ]
    },
    {
     "name": "stdout",
     "output_type": "stream",
     "text": [
      "✅ CSV with D3 energy written to calcs/output/LiP7_27687.csv\n",
      "Running Test_script.py on /Users/partha/Desktop/research/D3S/calcs/scan/LiAl_1191737.xyz\n"
     ]
    },
    {
     "name": "stderr",
     "output_type": "stream",
     "text": [
      "/Users/partha/Desktop/research/D3S/D3S/D3S.py:126: RuntimeWarning: invalid value encountered in scalar divide\n",
      "  return Z(I,J,CN_I,CN_J,k3)/W(I,J,CN_I,CN_J,k3)\n"
     ]
    },
    {
     "name": "stdout",
     "output_type": "stream",
     "text": [
      "✅ CSV with D3 energy written to calcs/output/LiAl_1191737.csv\n",
      "Running Test_script.py on /Users/partha/Desktop/research/D3S/calcs/scan/LiMg3_1094603.xyz\n"
     ]
    },
    {
     "name": "stderr",
     "output_type": "stream",
     "text": [
      "/Users/partha/Desktop/research/D3S/D3S/D3S.py:126: RuntimeWarning: invalid value encountered in scalar divide\n",
      "  return Z(I,J,CN_I,CN_J,k3)/W(I,J,CN_I,CN_J,k3)\n"
     ]
    },
    {
     "name": "stdout",
     "output_type": "stream",
     "text": [
      "✅ CSV with D3 energy written to calcs/output/LiMg3_1094603.csv\n",
      "Running Test_script.py on /Users/partha/Desktop/research/D3S/calcs/scan/LiCa3_976272.xyz\n",
      "✅ CSV with D3 energy written to calcs/output/LiCa3_976272.csv\n",
      "Running Test_script.py on /Users/partha/Desktop/research/D3S/calcs/scan/Li2Mg_977218.xyz\n",
      "✅ CSV with D3 energy written to calcs/output/Li2Mg_977218.csv\n",
      "Running Test_script.py on /Users/partha/Desktop/research/D3S/calcs/scan/Li2Mg_976885.xyz\n",
      "✅ CSV with D3 energy written to calcs/output/Li2Mg_976885.csv\n",
      "Running Test_script.py on /Users/partha/Desktop/research/D3S/calcs/scan/LiMg3_1094602.xyz\n",
      "✅ CSV with D3 energy written to calcs/output/LiMg3_1094602.csv\n",
      "Running Test_script.py on /Users/partha/Desktop/research/D3S/calcs/scan/Li3In_867226.xyz\n",
      "✅ CSV with D3 energy written to calcs/output/Li3In_867226.csv\n",
      "Running Test_script.py on /Users/partha/Desktop/research/D3S/calcs/scan/LiMg_976244.xyz\n",
      "✅ CSV with D3 energy written to calcs/output/LiMg_976244.csv\n",
      "Running Test_script.py on /Users/partha/Desktop/research/D3S/calcs/scan/LiF_1009009.xyz\n",
      "✅ CSV with D3 energy written to calcs/output/LiF_1009009.csv\n",
      "Running Test_script.py on /Users/partha/Desktop/research/D3S/calcs/scan/Li3Ni_1185204.xyz\n",
      "✅ CSV with D3 energy written to calcs/output/Li3Ni_1185204.csv\n",
      "Running Test_script.py on /Users/partha/Desktop/research/D3S/calcs/scan/Li3Tc_976334.xyz\n",
      "✅ CSV with D3 energy written to calcs/output/Li3Tc_976334.csv\n",
      "Running Test_script.py on /Users/partha/Desktop/research/D3S/calcs/scan/LiPb3_1211148.xyz\n",
      "✅ CSV with D3 energy written to calcs/output/LiPb3_1211148.csv\n",
      "Running Test_script.py on /Users/partha/Desktop/research/D3S/calcs/scan/LiMg2_865939.xyz\n",
      "✅ CSV with D3 energy written to calcs/output/LiMg2_865939.csv\n",
      "Running Test_script.py on /Users/partha/Desktop/research/D3S/calcs/scan/Sr3Li_972285.xyz\n",
      "✅ CSV with D3 energy written to calcs/output/Sr3Li_972285.csv\n",
      "Running Test_script.py on /Users/partha/Desktop/research/D3S/calcs/scan/LiO8_1235252.xyz\n",
      "✅ CSV with D3 energy written to calcs/output/LiO8_1235252.csv\n",
      "Running Test_script.py on /Users/partha/Desktop/research/D3S/calcs/scan/LiAl3_975906.xyz\n",
      "✅ CSV with D3 energy written to calcs/output/LiAl3_975906.csv\n",
      "Running Test_script.py on /Users/partha/Desktop/research/D3S/calcs/scan/LiO3_1001790.xyz\n",
      "✅ CSV with D3 energy written to calcs/output/LiO3_1001790.csv\n",
      "Running Test_script.py on /Users/partha/Desktop/research/D3S/calcs/scan/KLi3_1184961.xyz\n",
      "✅ CSV with D3 energy written to calcs/output/KLi3_1184961.csv\n",
      "Running Test_script.py on /Users/partha/Desktop/research/D3S/calcs/scan/Li3Ni_1185214.xyz\n",
      "✅ CSV with D3 energy written to calcs/output/Li3Ni_1185214.csv\n",
      "Running Test_script.py on /Users/partha/Desktop/research/D3S/calcs/scan/Li3Ga_976023.xyz\n",
      "✅ CSV with D3 energy written to calcs/output/Li3Ga_976023.csv\n",
      "Running Test_script.py on /Users/partha/Desktop/research/D3S/calcs/scan/Li3Sc_1185268.xyz\n"
     ]
    },
    {
     "name": "stderr",
     "output_type": "stream",
     "text": [
      "Traceback (most recent call last):\n",
      "  File \"/Users/partha/Desktop/research/D3S/Test_script.py\", line 13, in <module>\n",
      "    S6,S8,ALPHA1,ALPHA2 = D3S.DFT_D30_parameters[\"BLYP\"]\n",
      "                          ^^^^^^^^^^^^^^^^^^^^^^\n",
      "AttributeError: module 'D3S.D3S' has no attribute 'DFT_D30_parameters'. Did you mean: 'DFT_D3BJ_parameters'?\n"
     ]
    },
    {
     "name": "stdout",
     "output_type": "stream",
     "text": [
      "✅ CSV with D3 energy written to calcs/output/Li3Sc_1185268.csv\n",
      "Running Test_script.py on /Users/partha/Desktop/research/D3S/calcs/scan/LiMg_1222270.xyz\n"
     ]
    },
    {
     "name": "stderr",
     "output_type": "stream",
     "text": [
      "Traceback (most recent call last):\n",
      "  File \"/Users/partha/Desktop/research/D3S/Test_script.py\", line 13, in <module>\n",
      "    S6,S8,ALPHA1,ALPHA2 = D3S.DFT_D30_parameters[\"BLYP\"]\n",
      "                          ^^^^^^^^^^^^^^^^^^^^^^\n",
      "AttributeError: module 'D3S.D3S' has no attribute 'DFT_D30_parameters'. Did you mean: 'DFT_D3BJ_parameters'?\n"
     ]
    },
    {
     "name": "stdout",
     "output_type": "stream",
     "text": [
      "✅ CSV with D3 energy written to calcs/output/LiMg_1222270.csv\n",
      "Running Test_script.py on /Users/partha/Desktop/research/D3S/calcs/scan/LiPb_2314.xyz\n"
     ]
    },
    {
     "name": "stderr",
     "output_type": "stream",
     "text": [
      "Traceback (most recent call last):\n",
      "  File \"/Users/partha/Desktop/research/D3S/Test_script.py\", line 13, in <module>\n",
      "    S6,S8,ALPHA1,ALPHA2 = D3S.DFT_D30_parameters[\"BLYP\"]\n",
      "                          ^^^^^^^^^^^^^^^^^^^^^^\n",
      "AttributeError: module 'D3S.D3S' has no attribute 'DFT_D30_parameters'. Did you mean: 'DFT_D3BJ_parameters'?\n"
     ]
    },
    {
     "name": "stdout",
     "output_type": "stream",
     "text": [
      "✅ CSV with D3 energy written to calcs/output/LiPb_2314.csv\n",
      "Running Test_script.py on /Users/partha/Desktop/research/D3S/calcs/scan/Li3C_976060.xyz\n"
     ]
    },
    {
     "name": "stderr",
     "output_type": "stream",
     "text": [
      "Traceback (most recent call last):\n",
      "  File \"/Users/partha/Desktop/research/D3S/Test_script.py\", line 13, in <module>\n",
      "    S6,S8,ALPHA1,ALPHA2 = D3S.DFT_D30_parameters[\"BLYP\"]\n",
      "                          ^^^^^^^^^^^^^^^^^^^^^^\n",
      "AttributeError: module 'D3S.D3S' has no attribute 'DFT_D30_parameters'. Did you mean: 'DFT_D3BJ_parameters'?\n"
     ]
    },
    {
     "name": "stdout",
     "output_type": "stream",
     "text": [
      "✅ CSV with D3 energy written to calcs/output/Li3C_976060.csv\n",
      "Running Test_script.py on /Users/partha/Desktop/research/D3S/calcs/scan/Li2O2_558312.xyz\n"
     ]
    },
    {
     "name": "stderr",
     "output_type": "stream",
     "text": [
      "Traceback (most recent call last):\n",
      "  File \"/Users/partha/Desktop/research/D3S/Test_script.py\", line 13, in <module>\n",
      "    S6,S8,ALPHA1,ALPHA2 = D3S.DFT_D30_parameters[\"BLYP\"]\n",
      "                          ^^^^^^^^^^^^^^^^^^^^^^\n",
      "AttributeError: module 'D3S.D3S' has no attribute 'DFT_D30_parameters'. Did you mean: 'DFT_D3BJ_parameters'?\n"
     ]
    },
    {
     "name": "stdout",
     "output_type": "stream",
     "text": [
      "✅ CSV with D3 energy written to calcs/output/Li2O2_558312.csv\n",
      "Running Test_script.py on /Users/partha/Desktop/research/D3S/calcs/scan/LiLa3_973415.xyz\n"
     ]
    },
    {
     "name": "stderr",
     "output_type": "stream",
     "text": [
      "Traceback (most recent call last):\n",
      "  File \"/Users/partha/Desktop/research/D3S/Test_script.py\", line 13, in <module>\n",
      "    S6,S8,ALPHA1,ALPHA2 = D3S.DFT_D30_parameters[\"BLYP\"]\n",
      "                          ^^^^^^^^^^^^^^^^^^^^^^\n",
      "AttributeError: module 'D3S.D3S' has no attribute 'DFT_D30_parameters'. Did you mean: 'DFT_D3BJ_parameters'?\n"
     ]
    },
    {
     "name": "stdout",
     "output_type": "stream",
     "text": [
      "✅ CSV with D3 energy written to calcs/output/LiLa3_973415.csv\n",
      "Running Test_script.py on /Users/partha/Desktop/research/D3S/calcs/scan/Li3Co_977165.xyz\n"
     ]
    },
    {
     "name": "stderr",
     "output_type": "stream",
     "text": [
      "Traceback (most recent call last):\n",
      "  File \"/Users/partha/Desktop/research/D3S/Test_script.py\", line 13, in <module>\n",
      "    S6,S8,ALPHA1,ALPHA2 = D3S.DFT_D30_parameters[\"BLYP\"]\n",
      "                          ^^^^^^^^^^^^^^^^^^^^^^\n",
      "AttributeError: module 'D3S.D3S' has no attribute 'DFT_D30_parameters'. Did you mean: 'DFT_D3BJ_parameters'?\n"
     ]
    },
    {
     "name": "stdout",
     "output_type": "stream",
     "text": [
      "✅ CSV with D3 energy written to calcs/output/Li3Co_977165.csv\n",
      "Running Test_script.py on /Users/partha/Desktop/research/D3S/calcs/scan/Li2Mg_976843.xyz\n"
     ]
    },
    {
     "name": "stderr",
     "output_type": "stream",
     "text": [
      "Traceback (most recent call last):\n",
      "  File \"/Users/partha/Desktop/research/D3S/Test_script.py\", line 13, in <module>\n",
      "    S6,S8,ALPHA1,ALPHA2 = D3S.DFT_D30_parameters[\"BLYP\"]\n",
      "                          ^^^^^^^^^^^^^^^^^^^^^^\n",
      "AttributeError: module 'D3S.D3S' has no attribute 'DFT_D30_parameters'. Did you mean: 'DFT_D3BJ_parameters'?\n"
     ]
    },
    {
     "name": "stdout",
     "output_type": "stream",
     "text": [
      "✅ CSV with D3 energy written to calcs/output/Li2Mg_976843.csv\n",
      "Running Test_script.py on /Users/partha/Desktop/research/D3S/calcs/scan/Li13In3_510430.xyz\n"
     ]
    },
    {
     "name": "stderr",
     "output_type": "stream",
     "text": [
      "Traceback (most recent call last):\n",
      "  File \"/Users/partha/Desktop/research/D3S/Test_script.py\", line 13, in <module>\n",
      "    S6,S8,ALPHA1,ALPHA2 = D3S.DFT_D30_parameters[\"BLYP\"]\n",
      "                          ^^^^^^^^^^^^^^^^^^^^^^\n",
      "AttributeError: module 'D3S.D3S' has no attribute 'DFT_D30_parameters'. Did you mean: 'DFT_D3BJ_parameters'?\n"
     ]
    },
    {
     "name": "stdout",
     "output_type": "stream",
     "text": [
      "✅ CSV with D3 energy written to calcs/output/Li13In3_510430.csv\n",
      "Running Test_script.py on /Users/partha/Desktop/research/D3S/calcs/scan/Li3Cd_867343.xyz\n"
     ]
    },
    {
     "name": "stderr",
     "output_type": "stream",
     "text": [
      "Traceback (most recent call last):\n",
      "  File \"/Users/partha/Desktop/research/D3S/Test_script.py\", line 13, in <module>\n",
      "    S6,S8,ALPHA1,ALPHA2 = D3S.DFT_D30_parameters[\"BLYP\"]\n",
      "                          ^^^^^^^^^^^^^^^^^^^^^^\n",
      "AttributeError: module 'D3S.D3S' has no attribute 'DFT_D30_parameters'. Did you mean: 'DFT_D3BJ_parameters'?\n"
     ]
    },
    {
     "name": "stdout",
     "output_type": "stream",
     "text": [
      "✅ CSV with D3 energy written to calcs/output/Li3Cd_867343.csv\n",
      "Running Test_script.py on /Users/partha/Desktop/research/D3S/calcs/scan/Li2O_1245303.xyz\n"
     ]
    },
    {
     "name": "stderr",
     "output_type": "stream",
     "text": [
      "Traceback (most recent call last):\n",
      "  File \"/Users/partha/Desktop/research/D3S/Test_script.py\", line 13, in <module>\n",
      "    S6,S8,ALPHA1,ALPHA2 = D3S.DFT_D30_parameters[\"BLYP\"]\n",
      "                          ^^^^^^^^^^^^^^^^^^^^^^\n",
      "AttributeError: module 'D3S.D3S' has no attribute 'DFT_D30_parameters'. Did you mean: 'DFT_D3BJ_parameters'?\n"
     ]
    },
    {
     "name": "stdout",
     "output_type": "stream",
     "text": [
      "✅ CSV with D3 energy written to calcs/output/Li2O_1245303.csv\n",
      "Running Test_script.py on /Users/partha/Desktop/research/D3S/calcs/scan/Ba3Li_1183341.xyz\n"
     ]
    },
    {
     "name": "stderr",
     "output_type": "stream",
     "text": [
      "Traceback (most recent call last):\n",
      "  File \"/Users/partha/Desktop/research/D3S/Test_script.py\", line 13, in <module>\n",
      "    S6,S8,ALPHA1,ALPHA2 = D3S.DFT_D30_parameters[\"BLYP\"]\n",
      "                          ^^^^^^^^^^^^^^^^^^^^^^\n",
      "AttributeError: module 'D3S.D3S' has no attribute 'DFT_D30_parameters'. Did you mean: 'DFT_D3BJ_parameters'?\n"
     ]
    },
    {
     "name": "stdout",
     "output_type": "stream",
     "text": [
      "✅ CSV with D3 energy written to calcs/output/Ba3Li_1183341.csv\n",
      "Running Test_script.py on /Users/partha/Desktop/research/D3S/calcs/scan/LiMg_1094580.xyz\n"
     ]
    },
    {
     "name": "stderr",
     "output_type": "stream",
     "text": [
      "Traceback (most recent call last):\n",
      "  File \"/Users/partha/Desktop/research/D3S/Test_script.py\", line 13, in <module>\n",
      "    S6,S8,ALPHA1,ALPHA2 = D3S.DFT_D30_parameters[\"BLYP\"]\n",
      "                          ^^^^^^^^^^^^^^^^^^^^^^\n",
      "AttributeError: module 'D3S.D3S' has no attribute 'DFT_D30_parameters'. Did you mean: 'DFT_D3BJ_parameters'?\n"
     ]
    },
    {
     "name": "stdout",
     "output_type": "stream",
     "text": [
      "✅ CSV with D3 energy written to calcs/output/LiMg_1094580.csv\n",
      "Running Test_script.py on /Users/partha/Desktop/research/D3S/calcs/scan/LiAu3_11248.xyz\n"
     ]
    },
    {
     "name": "stderr",
     "output_type": "stream",
     "text": [
      "Traceback (most recent call last):\n",
      "  File \"/Users/partha/Desktop/research/D3S/Test_script.py\", line 13, in <module>\n",
      "    S6,S8,ALPHA1,ALPHA2 = D3S.DFT_D30_parameters[\"BLYP\"]\n",
      "                          ^^^^^^^^^^^^^^^^^^^^^^\n",
      "AttributeError: module 'D3S.D3S' has no attribute 'DFT_D30_parameters'. Did you mean: 'DFT_D3BJ_parameters'?\n"
     ]
    },
    {
     "name": "stdout",
     "output_type": "stream",
     "text": [
      "✅ CSV with D3 energy written to calcs/output/LiAu3_11248.csv\n",
      "Running Test_script.py on /Users/partha/Desktop/research/D3S/calcs/scan/LiMg_1094594.xyz\n"
     ]
    },
    {
     "name": "stderr",
     "output_type": "stream",
     "text": [
      "Traceback (most recent call last):\n",
      "  File \"/Users/partha/Desktop/research/D3S/Test_script.py\", line 13, in <module>\n",
      "    S6,S8,ALPHA1,ALPHA2 = D3S.DFT_D30_parameters[\"BLYP\"]\n",
      "                          ^^^^^^^^^^^^^^^^^^^^^^\n",
      "AttributeError: module 'D3S.D3S' has no attribute 'DFT_D30_parameters'. Did you mean: 'DFT_D3BJ_parameters'?\n"
     ]
    },
    {
     "name": "stdout",
     "output_type": "stream",
     "text": [
      "✅ CSV with D3 energy written to calcs/output/LiMg_1094594.csv\n",
      "Running Test_script.py on /Users/partha/Desktop/research/D3S/calcs/scan/LiGe_9918.xyz\n"
     ]
    },
    {
     "name": "stderr",
     "output_type": "stream",
     "text": [
      "Traceback (most recent call last):\n",
      "  File \"/Users/partha/Desktop/research/D3S/Test_script.py\", line 13, in <module>\n",
      "    S6,S8,ALPHA1,ALPHA2 = D3S.DFT_D30_parameters[\"BLYP\"]\n",
      "                          ^^^^^^^^^^^^^^^^^^^^^^\n",
      "AttributeError: module 'D3S.D3S' has no attribute 'DFT_D30_parameters'. Did you mean: 'DFT_D3BJ_parameters'?\n"
     ]
    },
    {
     "name": "stdout",
     "output_type": "stream",
     "text": [
      "✅ CSV with D3 energy written to calcs/output/LiGe_9918.csv\n",
      "Running Test_script.py on /Users/partha/Desktop/research/D3S/calcs/scan/Li3Zn_1185291.xyz\n"
     ]
    },
    {
     "name": "stderr",
     "output_type": "stream",
     "text": [
      "Traceback (most recent call last):\n",
      "  File \"/Users/partha/Desktop/research/D3S/Test_script.py\", line 13, in <module>\n",
      "    S6,S8,ALPHA1,ALPHA2 = D3S.DFT_D30_parameters[\"BLYP\"]\n",
      "                          ^^^^^^^^^^^^^^^^^^^^^^\n",
      "AttributeError: module 'D3S.D3S' has no attribute 'DFT_D30_parameters'. Did you mean: 'DFT_D3BJ_parameters'?\n"
     ]
    },
    {
     "name": "stdout",
     "output_type": "stream",
     "text": [
      "✅ CSV with D3 energy written to calcs/output/Li3Zn_1185291.csv\n",
      "Running Test_script.py on /Users/partha/Desktop/research/D3S/calcs/scan/Li3Cr_1185185.xyz\n"
     ]
    },
    {
     "name": "stderr",
     "output_type": "stream",
     "text": [
      "Traceback (most recent call last):\n",
      "  File \"/Users/partha/Desktop/research/D3S/Test_script.py\", line 13, in <module>\n",
      "    S6,S8,ALPHA1,ALPHA2 = D3S.DFT_D30_parameters[\"BLYP\"]\n",
      "                          ^^^^^^^^^^^^^^^^^^^^^^\n",
      "AttributeError: module 'D3S.D3S' has no attribute 'DFT_D30_parameters'. Did you mean: 'DFT_D3BJ_parameters'?\n"
     ]
    },
    {
     "name": "stdout",
     "output_type": "stream",
     "text": [
      "✅ CSV with D3 energy written to calcs/output/Li3Cr_1185185.csv\n",
      "Running Test_script.py on /Users/partha/Desktop/research/D3S/calcs/scan/LiDy3_1185340.xyz\n"
     ]
    },
    {
     "name": "stderr",
     "output_type": "stream",
     "text": [
      "Traceback (most recent call last):\n",
      "  File \"/Users/partha/Desktop/research/D3S/Test_script.py\", line 13, in <module>\n",
      "    S6,S8,ALPHA1,ALPHA2 = D3S.DFT_D30_parameters[\"BLYP\"]\n",
      "                          ^^^^^^^^^^^^^^^^^^^^^^\n",
      "AttributeError: module 'D3S.D3S' has no attribute 'DFT_D30_parameters'. Did you mean: 'DFT_D3BJ_parameters'?\n"
     ]
    },
    {
     "name": "stdout",
     "output_type": "stream",
     "text": [
      "✅ CSV with D3 energy written to calcs/output/LiDy3_1185340.csv\n",
      "Running Test_script.py on /Users/partha/Desktop/research/D3S/calcs/scan/LiGa3_1185352.xyz\n"
     ]
    },
    {
     "name": "stderr",
     "output_type": "stream",
     "text": [
      "Traceback (most recent call last):\n",
      "  File \"/Users/partha/Desktop/research/D3S/Test_script.py\", line 13, in <module>\n",
      "    S6,S8,ALPHA1,ALPHA2 = D3S.DFT_D30_parameters[\"BLYP\"]\n",
      "                          ^^^^^^^^^^^^^^^^^^^^^^\n",
      "AttributeError: module 'D3S.D3S' has no attribute 'DFT_D30_parameters'. Did you mean: 'DFT_D3BJ_parameters'?\n"
     ]
    },
    {
     "name": "stdout",
     "output_type": "stream",
     "text": [
      "✅ CSV with D3 energy written to calcs/output/LiGa3_1185352.csv\n",
      "Running Test_script.py on /Users/partha/Desktop/research/D3S/calcs/scan/LiO2_1094135.xyz\n"
     ]
    },
    {
     "name": "stderr",
     "output_type": "stream",
     "text": [
      "Traceback (most recent call last):\n",
      "  File \"/Users/partha/Desktop/research/D3S/Test_script.py\", line 13, in <module>\n",
      "    S6,S8,ALPHA1,ALPHA2 = D3S.DFT_D30_parameters[\"BLYP\"]\n",
      "                          ^^^^^^^^^^^^^^^^^^^^^^\n",
      "AttributeError: module 'D3S.D3S' has no attribute 'DFT_D30_parameters'. Did you mean: 'DFT_D3BJ_parameters'?\n"
     ]
    },
    {
     "name": "stdout",
     "output_type": "stream",
     "text": [
      "✅ CSV with D3 energy written to calcs/output/LiO2_1094135.csv\n",
      "Running Test_script.py on /Users/partha/Desktop/research/D3S/calcs/scan/Li3Mg_976139.xyz\n"
     ]
    },
    {
     "name": "stderr",
     "output_type": "stream",
     "text": [
      "Traceback (most recent call last):\n",
      "  File \"/Users/partha/Desktop/research/D3S/Test_script.py\", line 13, in <module>\n",
      "    S6,S8,ALPHA1,ALPHA2 = D3S.DFT_D30_parameters[\"BLYP\"]\n",
      "                          ^^^^^^^^^^^^^^^^^^^^^^\n",
      "AttributeError: module 'D3S.D3S' has no attribute 'DFT_D30_parameters'. Did you mean: 'DFT_D3BJ_parameters'?\n"
     ]
    },
    {
     "name": "stdout",
     "output_type": "stream",
     "text": [
      "✅ CSV with D3 energy written to calcs/output/Li3Mg_976139.csv\n",
      "Running Test_script.py on /Users/partha/Desktop/research/D3S/calcs/scan/LiZn13_1193737.xyz\n"
     ]
    },
    {
     "name": "stderr",
     "output_type": "stream",
     "text": [
      "Traceback (most recent call last):\n",
      "  File \"/Users/partha/Desktop/research/D3S/Test_script.py\", line 13, in <module>\n",
      "    S6,S8,ALPHA1,ALPHA2 = D3S.DFT_D30_parameters[\"BLYP\"]\n",
      "                          ^^^^^^^^^^^^^^^^^^^^^^\n",
      "AttributeError: module 'D3S.D3S' has no attribute 'DFT_D30_parameters'. Did you mean: 'DFT_D3BJ_parameters'?\n"
     ]
    },
    {
     "name": "stdout",
     "output_type": "stream",
     "text": [
      "✅ CSV with D3 energy written to calcs/output/LiZn13_1193737.csv\n",
      "Running Test_script.py on /Users/partha/Desktop/research/D3S/calcs/scan/LiLa3_976424.xyz\n"
     ]
    },
    {
     "name": "stderr",
     "output_type": "stream",
     "text": [
      "Traceback (most recent call last):\n",
      "  File \"/Users/partha/Desktop/research/D3S/Test_script.py\", line 13, in <module>\n",
      "    S6,S8,ALPHA1,ALPHA2 = D3S.DFT_D30_parameters[\"BLYP\"]\n",
      "                          ^^^^^^^^^^^^^^^^^^^^^^\n",
      "AttributeError: module 'D3S.D3S' has no attribute 'DFT_D30_parameters'. Did you mean: 'DFT_D3BJ_parameters'?\n"
     ]
    },
    {
     "name": "stdout",
     "output_type": "stream",
     "text": [
      "✅ CSV with D3 energy written to calcs/output/LiLa3_976424.csv\n",
      "Running Test_script.py on /Users/partha/Desktop/research/D3S/calcs/scan/Li3Sm_1185272.xyz\n"
     ]
    },
    {
     "name": "stderr",
     "output_type": "stream",
     "text": [
      "Traceback (most recent call last):\n",
      "  File \"/Users/partha/Desktop/research/D3S/Test_script.py\", line 13, in <module>\n",
      "    S6,S8,ALPHA1,ALPHA2 = D3S.DFT_D30_parameters[\"BLYP\"]\n",
      "                          ^^^^^^^^^^^^^^^^^^^^^^\n",
      "AttributeError: module 'D3S.D3S' has no attribute 'DFT_D30_parameters'. Did you mean: 'DFT_D3BJ_parameters'?\n"
     ]
    },
    {
     "name": "stdout",
     "output_type": "stream",
     "text": [
      "✅ CSV with D3 energy written to calcs/output/Li3Sm_1185272.csv\n",
      "Running Test_script.py on /Users/partha/Desktop/research/D3S/calcs/scan/Li3Ca_976075.xyz\n"
     ]
    },
    {
     "name": "stderr",
     "output_type": "stream",
     "text": [
      "Traceback (most recent call last):\n",
      "  File \"/Users/partha/Desktop/research/D3S/Test_script.py\", line 13, in <module>\n",
      "    S6,S8,ALPHA1,ALPHA2 = D3S.DFT_D30_parameters[\"BLYP\"]\n",
      "                          ^^^^^^^^^^^^^^^^^^^^^^\n",
      "AttributeError: module 'D3S.D3S' has no attribute 'DFT_D30_parameters'. Did you mean: 'DFT_D3BJ_parameters'?\n"
     ]
    },
    {
     "name": "stdout",
     "output_type": "stream",
     "text": [
      "✅ CSV with D3 energy written to calcs/output/Li3Ca_976075.csv\n",
      "Running Test_script.py on /Users/partha/Desktop/research/D3S/calcs/scan/LiS4_1546006.xyz\n"
     ]
    },
    {
     "name": "stderr",
     "output_type": "stream",
     "text": [
      "Traceback (most recent call last):\n",
      "  File \"/Users/partha/Desktop/research/D3S/Test_script.py\", line 13, in <module>\n",
      "    S6,S8,ALPHA1,ALPHA2 = D3S.DFT_D30_parameters[\"BLYP\"]\n",
      "                          ^^^^^^^^^^^^^^^^^^^^^^\n",
      "AttributeError: module 'D3S.D3S' has no attribute 'DFT_D30_parameters'. Did you mean: 'DFT_D3BJ_parameters'?\n"
     ]
    },
    {
     "name": "stdout",
     "output_type": "stream",
     "text": [
      "✅ CSV with D3 energy written to calcs/output/LiS4_1546006.csv\n",
      "Running Test_script.py on /Users/partha/Desktop/research/D3S/calcs/scan/LiS_32641.xyz\n"
     ]
    },
    {
     "name": "stderr",
     "output_type": "stream",
     "text": [
      "Traceback (most recent call last):\n",
      "  File \"/Users/partha/Desktop/research/D3S/Test_script.py\", line 13, in <module>\n",
      "    S6,S8,ALPHA1,ALPHA2 = D3S.DFT_D30_parameters[\"BLYP\"]\n",
      "                          ^^^^^^^^^^^^^^^^^^^^^^\n",
      "AttributeError: module 'D3S.D3S' has no attribute 'DFT_D30_parameters'. Did you mean: 'DFT_D3BJ_parameters'?\n"
     ]
    },
    {
     "name": "stdout",
     "output_type": "stream",
     "text": [
      "✅ CSV with D3 energy written to calcs/output/LiS_32641.csv\n",
      "Running Test_script.py on /Users/partha/Desktop/research/D3S/calcs/scan/Li3Al2_16506.xyz\n"
     ]
    },
    {
     "name": "stderr",
     "output_type": "stream",
     "text": [
      "Traceback (most recent call last):\n",
      "  File \"/Users/partha/Desktop/research/D3S/Test_script.py\", line 13, in <module>\n",
      "    S6,S8,ALPHA1,ALPHA2 = D3S.DFT_D30_parameters[\"BLYP\"]\n",
      "                          ^^^^^^^^^^^^^^^^^^^^^^\n",
      "AttributeError: module 'D3S.D3S' has no attribute 'DFT_D30_parameters'. Did you mean: 'DFT_D3BJ_parameters'?\n"
     ]
    },
    {
     "name": "stdout",
     "output_type": "stream",
     "text": [
      "✅ CSV with D3 energy written to calcs/output/Li3Al2_16506.csv\n",
      "Running Test_script.py on /Users/partha/Desktop/research/D3S/calcs/scan/LiSn_13444.xyz\n"
     ]
    },
    {
     "name": "stderr",
     "output_type": "stream",
     "text": [
      "Traceback (most recent call last):\n",
      "  File \"/Users/partha/Desktop/research/D3S/Test_script.py\", line 13, in <module>\n",
      "    S6,S8,ALPHA1,ALPHA2 = D3S.DFT_D30_parameters[\"BLYP\"]\n",
      "                          ^^^^^^^^^^^^^^^^^^^^^^\n",
      "AttributeError: module 'D3S.D3S' has no attribute 'DFT_D30_parameters'. Did you mean: 'DFT_D3BJ_parameters'?\n"
     ]
    },
    {
     "name": "stdout",
     "output_type": "stream",
     "text": [
      "✅ CSV with D3 energy written to calcs/output/LiSn_13444.csv\n",
      "Running Test_script.py on /Users/partha/Desktop/research/D3S/calcs/scan/LiMg3_1094567.xyz\n"
     ]
    },
    {
     "name": "stderr",
     "output_type": "stream",
     "text": [
      "Traceback (most recent call last):\n",
      "  File \"/Users/partha/Desktop/research/D3S/Test_script.py\", line 13, in <module>\n",
      "    S6,S8,ALPHA1,ALPHA2 = D3S.DFT_D30_parameters[\"BLYP\"]\n",
      "                          ^^^^^^^^^^^^^^^^^^^^^^\n",
      "AttributeError: module 'D3S.D3S' has no attribute 'DFT_D30_parameters'. Did you mean: 'DFT_D3BJ_parameters'?\n"
     ]
    },
    {
     "name": "stdout",
     "output_type": "stream",
     "text": [
      "✅ CSV with D3 energy written to calcs/output/LiMg3_1094567.csv\n",
      "Running Test_script.py on /Users/partha/Desktop/research/D3S/calcs/scan/LiYb3_1185469.xyz\n"
     ]
    },
    {
     "name": "stderr",
     "output_type": "stream",
     "text": [
      "Traceback (most recent call last):\n",
      "  File \"/Users/partha/Desktop/research/D3S/Test_script.py\", line 13, in <module>\n",
      "    S6,S8,ALPHA1,ALPHA2 = D3S.DFT_D30_parameters[\"BLYP\"]\n",
      "                          ^^^^^^^^^^^^^^^^^^^^^^\n",
      "AttributeError: module 'D3S.D3S' has no attribute 'DFT_D30_parameters'. Did you mean: 'DFT_D3BJ_parameters'?\n"
     ]
    },
    {
     "name": "stdout",
     "output_type": "stream",
     "text": [
      "✅ CSV with D3 energy written to calcs/output/LiYb3_1185469.csv\n",
      "Running Test_script.py on /Users/partha/Desktop/research/D3S/calcs/scan/LiCa4_1211157.xyz\n"
     ]
    },
    {
     "name": "stderr",
     "output_type": "stream",
     "text": [
      "Traceback (most recent call last):\n",
      "  File \"/Users/partha/Desktop/research/D3S/Test_script.py\", line 13, in <module>\n",
      "    S6,S8,ALPHA1,ALPHA2 = D3S.DFT_D30_parameters[\"BLYP\"]\n",
      "                          ^^^^^^^^^^^^^^^^^^^^^^\n",
      "AttributeError: module 'D3S.D3S' has no attribute 'DFT_D30_parameters'. Did you mean: 'DFT_D3BJ_parameters'?\n"
     ]
    },
    {
     "name": "stdout",
     "output_type": "stream",
     "text": [
      "✅ CSV with D3 energy written to calcs/output/LiCa4_1211157.csv\n",
      "Running Test_script.py on /Users/partha/Desktop/research/D3S/calcs/scan/LiB11_1180507.xyz\n"
     ]
    },
    {
     "name": "stderr",
     "output_type": "stream",
     "text": [
      "Traceback (most recent call last):\n",
      "  File \"/Users/partha/Desktop/research/D3S/Test_script.py\", line 13, in <module>\n",
      "    S6,S8,ALPHA1,ALPHA2 = D3S.DFT_D30_parameters[\"BLYP\"]\n",
      "                          ^^^^^^^^^^^^^^^^^^^^^^\n",
      "AttributeError: module 'D3S.D3S' has no attribute 'DFT_D30_parameters'. Did you mean: 'DFT_D3BJ_parameters'?\n"
     ]
    },
    {
     "name": "stdout",
     "output_type": "stream",
     "text": [
      "✅ CSV with D3 energy written to calcs/output/LiB11_1180507.csv\n",
      "Running Test_script.py on /Users/partha/Desktop/research/D3S/calcs/scan/Li22Sn5_1198729.xyz\n"
     ]
    },
    {
     "name": "stderr",
     "output_type": "stream",
     "text": [
      "Traceback (most recent call last):\n",
      "  File \"/Users/partha/Desktop/research/D3S/Test_script.py\", line 13, in <module>\n",
      "    S6,S8,ALPHA1,ALPHA2 = D3S.DFT_D30_parameters[\"BLYP\"]\n",
      "                          ^^^^^^^^^^^^^^^^^^^^^^\n",
      "AttributeError: module 'D3S.D3S' has no attribute 'DFT_D30_parameters'. Did you mean: 'DFT_D3BJ_parameters'?\n"
     ]
    },
    {
     "name": "stdout",
     "output_type": "stream",
     "text": [
      "✅ CSV with D3 energy written to calcs/output/Li22Sn5_1198729.csv\n",
      "Running Test_script.py on /Users/partha/Desktop/research/D3S/calcs/scan/LiMg_1094568.xyz\n"
     ]
    },
    {
     "name": "stderr",
     "output_type": "stream",
     "text": [
      "Traceback (most recent call last):\n",
      "  File \"/Users/partha/Desktop/research/D3S/Test_script.py\", line 13, in <module>\n",
      "    S6,S8,ALPHA1,ALPHA2 = D3S.DFT_D30_parameters[\"BLYP\"]\n",
      "                          ^^^^^^^^^^^^^^^^^^^^^^\n",
      "AttributeError: module 'D3S.D3S' has no attribute 'DFT_D30_parameters'. Did you mean: 'DFT_D3BJ_parameters'?\n"
     ]
    },
    {
     "name": "stdout",
     "output_type": "stream",
     "text": [
      "✅ CSV with D3 energy written to calcs/output/LiMg_1094568.csv\n",
      "Running Test_script.py on /Users/partha/Desktop/research/D3S/calcs/scan/LiB11_1103394.xyz\n"
     ]
    },
    {
     "name": "stderr",
     "output_type": "stream",
     "text": [
      "Traceback (most recent call last):\n",
      "  File \"/Users/partha/Desktop/research/D3S/Test_script.py\", line 13, in <module>\n",
      "    S6,S8,ALPHA1,ALPHA2 = D3S.DFT_D30_parameters[\"BLYP\"]\n",
      "                          ^^^^^^^^^^^^^^^^^^^^^^\n",
      "AttributeError: module 'D3S.D3S' has no attribute 'DFT_D30_parameters'. Did you mean: 'DFT_D3BJ_parameters'?\n"
     ]
    },
    {
     "name": "stdout",
     "output_type": "stream",
     "text": [
      "✅ CSV with D3 energy written to calcs/output/LiB11_1103394.csv\n",
      "Running Test_script.py on /Users/partha/Desktop/research/D3S/calcs/scan/LiCa3_1185350.xyz\n"
     ]
    },
    {
     "name": "stderr",
     "output_type": "stream",
     "text": [
      "Traceback (most recent call last):\n",
      "  File \"/Users/partha/Desktop/research/D3S/Test_script.py\", line 13, in <module>\n",
      "    S6,S8,ALPHA1,ALPHA2 = D3S.DFT_D30_parameters[\"BLYP\"]\n",
      "                          ^^^^^^^^^^^^^^^^^^^^^^\n",
      "AttributeError: module 'D3S.D3S' has no attribute 'DFT_D30_parameters'. Did you mean: 'DFT_D3BJ_parameters'?\n"
     ]
    },
    {
     "name": "stdout",
     "output_type": "stream",
     "text": [
      "✅ CSV with D3 energy written to calcs/output/LiCa3_1185350.csv\n",
      "Running Test_script.py on /Users/partha/Desktop/research/D3S/calcs/scan/Li9Ge4_2362521.xyz\n"
     ]
    },
    {
     "name": "stderr",
     "output_type": "stream",
     "text": [
      "Traceback (most recent call last):\n",
      "  File \"/Users/partha/Desktop/research/D3S/Test_script.py\", line 13, in <module>\n",
      "    S6,S8,ALPHA1,ALPHA2 = D3S.DFT_D30_parameters[\"BLYP\"]\n",
      "                          ^^^^^^^^^^^^^^^^^^^^^^\n",
      "AttributeError: module 'D3S.D3S' has no attribute 'DFT_D30_parameters'. Did you mean: 'DFT_D3BJ_parameters'?\n"
     ]
    },
    {
     "name": "stdout",
     "output_type": "stream",
     "text": [
      "✅ CSV with D3 energy written to calcs/output/Li9Ge4_2362521.csv\n",
      "Running Test_script.py on /Users/partha/Desktop/research/D3S/calcs/scan/Li2O_755894.xyz\n"
     ]
    },
    {
     "name": "stderr",
     "output_type": "stream",
     "text": [
      "Traceback (most recent call last):\n",
      "  File \"/Users/partha/Desktop/research/D3S/Test_script.py\", line 13, in <module>\n",
      "    S6,S8,ALPHA1,ALPHA2 = D3S.DFT_D30_parameters[\"BLYP\"]\n",
      "                          ^^^^^^^^^^^^^^^^^^^^^^\n",
      "AttributeError: module 'D3S.D3S' has no attribute 'DFT_D30_parameters'. Did you mean: 'DFT_D3BJ_parameters'?\n"
     ]
    },
    {
     "name": "stdout",
     "output_type": "stream",
     "text": [
      "✅ CSV with D3 energy written to calcs/output/Li2O_755894.csv\n",
      "Running Test_script.py on /Users/partha/Desktop/research/D3S/calcs/scan/Li2N_1062345.xyz\n"
     ]
    },
    {
     "name": "stderr",
     "output_type": "stream",
     "text": [
      "Traceback (most recent call last):\n",
      "  File \"/Users/partha/Desktop/research/D3S/Test_script.py\", line 13, in <module>\n",
      "    S6,S8,ALPHA1,ALPHA2 = D3S.DFT_D30_parameters[\"BLYP\"]\n",
      "                          ^^^^^^^^^^^^^^^^^^^^^^\n",
      "AttributeError: module 'D3S.D3S' has no attribute 'DFT_D30_parameters'. Did you mean: 'DFT_D3BJ_parameters'?\n"
     ]
    },
    {
     "name": "stdout",
     "output_type": "stream",
     "text": [
      "✅ CSV with D3 energy written to calcs/output/Li2N_1062345.csv\n",
      "Running Test_script.py on /Users/partha/Desktop/research/D3S/calcs/scan/LiB_1001835.xyz\n"
     ]
    },
    {
     "name": "stderr",
     "output_type": "stream",
     "text": [
      "Traceback (most recent call last):\n",
      "  File \"/Users/partha/Desktop/research/D3S/Test_script.py\", line 13, in <module>\n",
      "    S6,S8,ALPHA1,ALPHA2 = D3S.DFT_D30_parameters[\"BLYP\"]\n",
      "                          ^^^^^^^^^^^^^^^^^^^^^^\n",
      "AttributeError: module 'D3S.D3S' has no attribute 'DFT_D30_parameters'. Did you mean: 'DFT_D3BJ_parameters'?\n"
     ]
    },
    {
     "name": "stdout",
     "output_type": "stream",
     "text": [
      "✅ CSV with D3 energy written to calcs/output/LiB_1001835.csv\n",
      "Running Test_script.py on /Users/partha/Desktop/research/D3S/calcs/scan/LiZn3_865907.xyz\n"
     ]
    },
    {
     "name": "stderr",
     "output_type": "stream",
     "text": [
      "Traceback (most recent call last):\n",
      "  File \"/Users/partha/Desktop/research/D3S/Test_script.py\", line 13, in <module>\n",
      "    S6,S8,ALPHA1,ALPHA2 = D3S.DFT_D30_parameters[\"BLYP\"]\n",
      "                          ^^^^^^^^^^^^^^^^^^^^^^\n",
      "AttributeError: module 'D3S.D3S' has no attribute 'DFT_D30_parameters'. Did you mean: 'DFT_D3BJ_parameters'?\n"
     ]
    },
    {
     "name": "stdout",
     "output_type": "stream",
     "text": [
      "✅ CSV with D3 energy written to calcs/output/LiZn3_865907.csv\n",
      "Running Test_script.py on /Users/partha/Desktop/research/D3S/calcs/scan/LiMg2_2034417.xyz\n"
     ]
    },
    {
     "name": "stderr",
     "output_type": "stream",
     "text": [
      "Traceback (most recent call last):\n",
      "  File \"/Users/partha/Desktop/research/D3S/Test_script.py\", line 13, in <module>\n",
      "    S6,S8,ALPHA1,ALPHA2 = D3S.DFT_D30_parameters[\"BLYP\"]\n",
      "                          ^^^^^^^^^^^^^^^^^^^^^^\n",
      "AttributeError: module 'D3S.D3S' has no attribute 'DFT_D30_parameters'. Did you mean: 'DFT_D3BJ_parameters'?\n"
     ]
    },
    {
     "name": "stdout",
     "output_type": "stream",
     "text": [
      "✅ CSV with D3 energy written to calcs/output/LiMg2_2034417.csv\n",
      "Running Test_script.py on /Users/partha/Desktop/research/D3S/calcs/scan/NaLi3_973316.xyz\n"
     ]
    },
    {
     "name": "stderr",
     "output_type": "stream",
     "text": [
      "Traceback (most recent call last):\n",
      "  File \"/Users/partha/Desktop/research/D3S/Test_script.py\", line 13, in <module>\n",
      "    S6,S8,ALPHA1,ALPHA2 = D3S.DFT_D30_parameters[\"BLYP\"]\n",
      "                          ^^^^^^^^^^^^^^^^^^^^^^\n",
      "AttributeError: module 'D3S.D3S' has no attribute 'DFT_D30_parameters'. Did you mean: 'DFT_D3BJ_parameters'?\n"
     ]
    },
    {
     "name": "stdout",
     "output_type": "stream",
     "text": [
      "✅ CSV with D3 energy written to calcs/output/NaLi3_973316.csv\n",
      "Running Test_script.py on /Users/partha/Desktop/research/D3S/calcs/scan/Li2Ca_570466.xyz\n"
     ]
    },
    {
     "name": "stderr",
     "output_type": "stream",
     "text": [
      "Traceback (most recent call last):\n",
      "  File \"/Users/partha/Desktop/research/D3S/Test_script.py\", line 13, in <module>\n",
      "    S6,S8,ALPHA1,ALPHA2 = D3S.DFT_D30_parameters[\"BLYP\"]\n",
      "                          ^^^^^^^^^^^^^^^^^^^^^^\n",
      "AttributeError: module 'D3S.D3S' has no attribute 'DFT_D30_parameters'. Did you mean: 'DFT_D3BJ_parameters'?\n"
     ]
    },
    {
     "name": "stdout",
     "output_type": "stream",
     "text": [
      "✅ CSV with D3 energy written to calcs/output/Li2Ca_570466.csv\n",
      "Running Test_script.py on /Users/partha/Desktop/research/D3S/calcs/scan/Li17Sn4_573471.xyz\n"
     ]
    },
    {
     "name": "stderr",
     "output_type": "stream",
     "text": [
      "Traceback (most recent call last):\n",
      "  File \"/Users/partha/Desktop/research/D3S/Test_script.py\", line 13, in <module>\n",
      "    S6,S8,ALPHA1,ALPHA2 = D3S.DFT_D30_parameters[\"BLYP\"]\n",
      "                          ^^^^^^^^^^^^^^^^^^^^^^\n",
      "AttributeError: module 'D3S.D3S' has no attribute 'DFT_D30_parameters'. Did you mean: 'DFT_D3BJ_parameters'?\n"
     ]
    },
    {
     "name": "stdout",
     "output_type": "stream",
     "text": [
      "✅ CSV with D3 energy written to calcs/output/Li17Sn4_573471.csv\n",
      "Running Test_script.py on /Users/partha/Desktop/research/D3S/calcs/scan/Li3B_1185180.xyz\n"
     ]
    },
    {
     "name": "stderr",
     "output_type": "stream",
     "text": [
      "Traceback (most recent call last):\n",
      "  File \"/Users/partha/Desktop/research/D3S/Test_script.py\", line 13, in <module>\n",
      "    S6,S8,ALPHA1,ALPHA2 = D3S.DFT_D30_parameters[\"BLYP\"]\n",
      "                          ^^^^^^^^^^^^^^^^^^^^^^\n",
      "AttributeError: module 'D3S.D3S' has no attribute 'DFT_D30_parameters'. Did you mean: 'DFT_D3BJ_parameters'?\n"
     ]
    },
    {
     "name": "stdout",
     "output_type": "stream",
     "text": [
      "✅ CSV with D3 energy written to calcs/output/Li3B_1185180.csv\n",
      "Running Test_script.py on /Users/partha/Desktop/research/D3S/calcs/scan/NaLi3_1186151.xyz\n"
     ]
    },
    {
     "name": "stderr",
     "output_type": "stream",
     "text": [
      "Traceback (most recent call last):\n",
      "  File \"/Users/partha/Desktop/research/D3S/Test_script.py\", line 13, in <module>\n",
      "    S6,S8,ALPHA1,ALPHA2 = D3S.DFT_D30_parameters[\"BLYP\"]\n",
      "                          ^^^^^^^^^^^^^^^^^^^^^^\n",
      "AttributeError: module 'D3S.D3S' has no attribute 'DFT_D30_parameters'. Did you mean: 'DFT_D3BJ_parameters'?\n"
     ]
    },
    {
     "name": "stdout",
     "output_type": "stream",
     "text": [
      "✅ CSV with D3 energy written to calcs/output/NaLi3_1186151.csv\n",
      "Running Test_script.py on /Users/partha/Desktop/research/D3S/calcs/scan/Li3Sn_1185265.xyz\n"
     ]
    },
    {
     "name": "stderr",
     "output_type": "stream",
     "text": [
      "Traceback (most recent call last):\n",
      "  File \"/Users/partha/Desktop/research/D3S/Test_script.py\", line 13, in <module>\n",
      "    S6,S8,ALPHA1,ALPHA2 = D3S.DFT_D30_parameters[\"BLYP\"]\n",
      "                          ^^^^^^^^^^^^^^^^^^^^^^\n",
      "AttributeError: module 'D3S.D3S' has no attribute 'DFT_D30_parameters'. Did you mean: 'DFT_D3BJ_parameters'?\n"
     ]
    },
    {
     "name": "stdout",
     "output_type": "stream",
     "text": [
      "✅ CSV with D3 energy written to calcs/output/Li3Sn_1185265.csv\n",
      "Running Test_script.py on /Users/partha/Desktop/research/D3S/calcs/scan/LiPr3_1185406.xyz\n"
     ]
    },
    {
     "name": "stderr",
     "output_type": "stream",
     "text": [
      "Traceback (most recent call last):\n",
      "  File \"/Users/partha/Desktop/research/D3S/Test_script.py\", line 13, in <module>\n",
      "    S6,S8,ALPHA1,ALPHA2 = D3S.DFT_D30_parameters[\"BLYP\"]\n",
      "                          ^^^^^^^^^^^^^^^^^^^^^^\n",
      "AttributeError: module 'D3S.D3S' has no attribute 'DFT_D30_parameters'. Did you mean: 'DFT_D3BJ_parameters'?\n"
     ]
    },
    {
     "name": "stdout",
     "output_type": "stream",
     "text": [
      "✅ CSV with D3 energy written to calcs/output/LiPr3_1185406.csv\n",
      "Running Test_script.py on /Users/partha/Desktop/research/D3S/calcs/scan/LiMg_1094889.xyz\n"
     ]
    },
    {
     "name": "stderr",
     "output_type": "stream",
     "text": [
      "Traceback (most recent call last):\n",
      "  File \"/Users/partha/Desktop/research/D3S/Test_script.py\", line 13, in <module>\n",
      "    S6,S8,ALPHA1,ALPHA2 = D3S.DFT_D30_parameters[\"BLYP\"]\n",
      "                          ^^^^^^^^^^^^^^^^^^^^^^\n",
      "AttributeError: module 'D3S.D3S' has no attribute 'DFT_D30_parameters'. Did you mean: 'DFT_D3BJ_parameters'?\n"
     ]
    },
    {
     "name": "stdout",
     "output_type": "stream",
     "text": [
      "✅ CSV with D3 energy written to calcs/output/LiMg_1094889.csv\n",
      "Running Test_script.py on /Users/partha/Desktop/research/D3S/calcs/scan/Li3Ca_975929.xyz\n"
     ]
    },
    {
     "name": "stderr",
     "output_type": "stream",
     "text": [
      "Traceback (most recent call last):\n",
      "  File \"/Users/partha/Desktop/research/D3S/Test_script.py\", line 13, in <module>\n",
      "    S6,S8,ALPHA1,ALPHA2 = D3S.DFT_D30_parameters[\"BLYP\"]\n",
      "                          ^^^^^^^^^^^^^^^^^^^^^^\n",
      "AttributeError: module 'D3S.D3S' has no attribute 'DFT_D30_parameters'. Did you mean: 'DFT_D3BJ_parameters'?\n"
     ]
    },
    {
     "name": "stdout",
     "output_type": "stream",
     "text": [
      "✅ CSV with D3 energy written to calcs/output/Li3Ca_975929.csv\n",
      "Running Test_script.py on /Users/partha/Desktop/research/D3S/calcs/scan/LiMg5_1094588.xyz\n"
     ]
    },
    {
     "name": "stderr",
     "output_type": "stream",
     "text": [
      "Traceback (most recent call last):\n",
      "  File \"/Users/partha/Desktop/research/D3S/Test_script.py\", line 13, in <module>\n",
      "    S6,S8,ALPHA1,ALPHA2 = D3S.DFT_D30_parameters[\"BLYP\"]\n",
      "                          ^^^^^^^^^^^^^^^^^^^^^^\n",
      "AttributeError: module 'D3S.D3S' has no attribute 'DFT_D30_parameters'. Did you mean: 'DFT_D3BJ_parameters'?\n"
     ]
    },
    {
     "name": "stdout",
     "output_type": "stream",
     "text": [
      "✅ CSV with D3 energy written to calcs/output/LiMg5_1094588.csv\n",
      "Running Test_script.py on /Users/partha/Desktop/research/D3S/calcs/scan/Li15Ge4_1777.xyz\n"
     ]
    },
    {
     "name": "stderr",
     "output_type": "stream",
     "text": [
      "Traceback (most recent call last):\n",
      "  File \"/Users/partha/Desktop/research/D3S/Test_script.py\", line 13, in <module>\n",
      "    S6,S8,ALPHA1,ALPHA2 = D3S.DFT_D30_parameters[\"BLYP\"]\n",
      "                          ^^^^^^^^^^^^^^^^^^^^^^\n",
      "AttributeError: module 'D3S.D3S' has no attribute 'DFT_D30_parameters'. Did you mean: 'DFT_D3BJ_parameters'?\n"
     ]
    },
    {
     "name": "stdout",
     "output_type": "stream",
     "text": [
      "✅ CSV with D3 energy written to calcs/output/Li15Ge4_1777.csv\n",
      "Running Test_script.py on /Users/partha/Desktop/research/D3S/calcs/scan/Li22Si5_542598.xyz\n"
     ]
    },
    {
     "name": "stderr",
     "output_type": "stream",
     "text": [
      "Traceback (most recent call last):\n",
      "  File \"/Users/partha/Desktop/research/D3S/Test_script.py\", line 13, in <module>\n",
      "    S6,S8,ALPHA1,ALPHA2 = D3S.DFT_D30_parameters[\"BLYP\"]\n",
      "                          ^^^^^^^^^^^^^^^^^^^^^^\n",
      "AttributeError: module 'D3S.D3S' has no attribute 'DFT_D30_parameters'. Did you mean: 'DFT_D3BJ_parameters'?\n"
     ]
    },
    {
     "name": "stdout",
     "output_type": "stream",
     "text": [
      "✅ CSV with D3 energy written to calcs/output/Li22Si5_542598.csv\n",
      "Running Test_script.py on /Users/partha/Desktop/research/D3S/calcs/scan/Li3Cd_975904.xyz\n"
     ]
    },
    {
     "name": "stderr",
     "output_type": "stream",
     "text": [
      "Traceback (most recent call last):\n",
      "  File \"/Users/partha/Desktop/research/D3S/Test_script.py\", line 13, in <module>\n",
      "    S6,S8,ALPHA1,ALPHA2 = D3S.DFT_D30_parameters[\"BLYP\"]\n",
      "                          ^^^^^^^^^^^^^^^^^^^^^^\n",
      "AttributeError: module 'D3S.D3S' has no attribute 'DFT_D30_parameters'. Did you mean: 'DFT_D3BJ_parameters'?\n"
     ]
    },
    {
     "name": "stdout",
     "output_type": "stream",
     "text": [
      "✅ CSV with D3 energy written to calcs/output/Li3Cd_975904.csv\n",
      "Running Test_script.py on /Users/partha/Desktop/research/D3S/calcs/scan/LiMg_1185370.xyz\n"
     ]
    },
    {
     "name": "stderr",
     "output_type": "stream",
     "text": [
      "Traceback (most recent call last):\n",
      "  File \"/Users/partha/Desktop/research/D3S/Test_script.py\", line 13, in <module>\n",
      "    S6,S8,ALPHA1,ALPHA2 = D3S.DFT_D30_parameters[\"BLYP\"]\n",
      "                          ^^^^^^^^^^^^^^^^^^^^^^\n",
      "AttributeError: module 'D3S.D3S' has no attribute 'DFT_D30_parameters'. Did you mean: 'DFT_D3BJ_parameters'?\n"
     ]
    },
    {
     "name": "stdout",
     "output_type": "stream",
     "text": [
      "✅ CSV with D3 energy written to calcs/output/LiMg_1185370.csv\n",
      "Running Test_script.py on /Users/partha/Desktop/research/D3S/calcs/scan/LiB9_1105976.xyz\n"
     ]
    },
    {
     "name": "stderr",
     "output_type": "stream",
     "text": [
      "Traceback (most recent call last):\n",
      "  File \"/Users/partha/Desktop/research/D3S/Test_script.py\", line 13, in <module>\n",
      "    S6,S8,ALPHA1,ALPHA2 = D3S.DFT_D30_parameters[\"BLYP\"]\n",
      "                          ^^^^^^^^^^^^^^^^^^^^^^\n",
      "AttributeError: module 'D3S.D3S' has no attribute 'DFT_D30_parameters'. Did you mean: 'DFT_D3BJ_parameters'?\n"
     ]
    },
    {
     "name": "stdout",
     "output_type": "stream",
     "text": [
      "✅ CSV with D3 energy written to calcs/output/LiB9_1105976.csv\n",
      "Running Test_script.py on /Users/partha/Desktop/research/D3S/calcs/scan/LiBe_1001825.xyz\n"
     ]
    },
    {
     "name": "stderr",
     "output_type": "stream",
     "text": [
      "Traceback (most recent call last):\n",
      "  File \"/Users/partha/Desktop/research/D3S/Test_script.py\", line 13, in <module>\n",
      "    S6,S8,ALPHA1,ALPHA2 = D3S.DFT_D30_parameters[\"BLYP\"]\n",
      "                          ^^^^^^^^^^^^^^^^^^^^^^\n",
      "AttributeError: module 'D3S.D3S' has no attribute 'DFT_D30_parameters'. Did you mean: 'DFT_D3BJ_parameters'?\n"
     ]
    },
    {
     "name": "stdout",
     "output_type": "stream",
     "text": [
      "✅ CSV with D3 energy written to calcs/output/LiBe_1001825.csv\n",
      "Running Test_script.py on /Users/partha/Desktop/research/D3S/calcs/scan/LiEu3_1185411.xyz\n"
     ]
    },
    {
     "name": "stderr",
     "output_type": "stream",
     "text": [
      "Traceback (most recent call last):\n",
      "  File \"/Users/partha/Desktop/research/D3S/Test_script.py\", line 13, in <module>\n",
      "    S6,S8,ALPHA1,ALPHA2 = D3S.DFT_D30_parameters[\"BLYP\"]\n",
      "                          ^^^^^^^^^^^^^^^^^^^^^^\n",
      "AttributeError: module 'D3S.D3S' has no attribute 'DFT_D30_parameters'. Did you mean: 'DFT_D3BJ_parameters'?\n"
     ]
    },
    {
     "name": "stdout",
     "output_type": "stream",
     "text": [
      "✅ CSV with D3 energy written to calcs/output/LiEu3_1185411.csv\n",
      "Running Test_script.py on /Users/partha/Desktop/research/D3S/calcs/scan/Li3P_736.xyz\n"
     ]
    },
    {
     "name": "stderr",
     "output_type": "stream",
     "text": [
      "Traceback (most recent call last):\n",
      "  File \"/Users/partha/Desktop/research/D3S/Test_script.py\", line 13, in <module>\n",
      "    S6,S8,ALPHA1,ALPHA2 = D3S.DFT_D30_parameters[\"BLYP\"]\n",
      "                          ^^^^^^^^^^^^^^^^^^^^^^\n",
      "AttributeError: module 'D3S.D3S' has no attribute 'DFT_D30_parameters'. Did you mean: 'DFT_D3BJ_parameters'?\n"
     ]
    },
    {
     "name": "stdout",
     "output_type": "stream",
     "text": [
      "✅ CSV with D3 energy written to calcs/output/Li3P_736.csv\n",
      "Running Test_script.py on /Users/partha/Desktop/research/D3S/calcs/scan/LiTb3_972125.xyz\n"
     ]
    },
    {
     "name": "stderr",
     "output_type": "stream",
     "text": [
      "Traceback (most recent call last):\n",
      "  File \"/Users/partha/Desktop/research/D3S/Test_script.py\", line 13, in <module>\n",
      "    S6,S8,ALPHA1,ALPHA2 = D3S.DFT_D30_parameters[\"BLYP\"]\n",
      "                          ^^^^^^^^^^^^^^^^^^^^^^\n",
      "AttributeError: module 'D3S.D3S' has no attribute 'DFT_D30_parameters'. Did you mean: 'DFT_D3BJ_parameters'?\n"
     ]
    },
    {
     "name": "stdout",
     "output_type": "stream",
     "text": [
      "✅ CSV with D3 energy written to calcs/output/LiTb3_972125.csv\n",
      "Running Test_script.py on /Users/partha/Desktop/research/D3S/calcs/scan/Li2O_1960.xyz\n"
     ]
    },
    {
     "name": "stderr",
     "output_type": "stream",
     "text": [
      "Traceback (most recent call last):\n",
      "  File \"/Users/partha/Desktop/research/D3S/Test_script.py\", line 13, in <module>\n",
      "    S6,S8,ALPHA1,ALPHA2 = D3S.DFT_D30_parameters[\"BLYP\"]\n",
      "                          ^^^^^^^^^^^^^^^^^^^^^^\n",
      "AttributeError: module 'D3S.D3S' has no attribute 'DFT_D30_parameters'. Did you mean: 'DFT_D3BJ_parameters'?\n"
     ]
    },
    {
     "name": "stdout",
     "output_type": "stream",
     "text": [
      "✅ CSV with D3 energy written to calcs/output/Li2O_1960.csv\n",
      "Running Test_script.py on /Users/partha/Desktop/research/D3S/calcs/scan/Li5Mg_981935.xyz\n"
     ]
    },
    {
     "name": "stderr",
     "output_type": "stream",
     "text": [
      "Traceback (most recent call last):\n",
      "  File \"/Users/partha/Desktop/research/D3S/Test_script.py\", line 13, in <module>\n",
      "    S6,S8,ALPHA1,ALPHA2 = D3S.DFT_D30_parameters[\"BLYP\"]\n",
      "                          ^^^^^^^^^^^^^^^^^^^^^^\n",
      "AttributeError: module 'D3S.D3S' has no attribute 'DFT_D30_parameters'. Did you mean: 'DFT_D3BJ_parameters'?\n"
     ]
    },
    {
     "name": "stdout",
     "output_type": "stream",
     "text": [
      "✅ CSV with D3 energy written to calcs/output/Li5Mg_981935.csv\n",
      "Running Test_script.py on /Users/partha/Desktop/research/D3S/calcs/scan/Li2Pt_2170.xyz\n"
     ]
    },
    {
     "name": "stderr",
     "output_type": "stream",
     "text": [
      "Traceback (most recent call last):\n",
      "  File \"/Users/partha/Desktop/research/D3S/Test_script.py\", line 13, in <module>\n",
      "    S6,S8,ALPHA1,ALPHA2 = D3S.DFT_D30_parameters[\"BLYP\"]\n",
      "                          ^^^^^^^^^^^^^^^^^^^^^^\n",
      "AttributeError: module 'D3S.D3S' has no attribute 'DFT_D30_parameters'. Did you mean: 'DFT_D3BJ_parameters'?\n"
     ]
    },
    {
     "name": "stdout",
     "output_type": "stream",
     "text": [
      "✅ CSV with D3 energy written to calcs/output/Li2Pt_2170.csv\n",
      "Running Test_script.py on /Users/partha/Desktop/research/D3S/calcs/scan/Li3Y_1185289.xyz\n"
     ]
    },
    {
     "name": "stderr",
     "output_type": "stream",
     "text": [
      "Traceback (most recent call last):\n",
      "  File \"/Users/partha/Desktop/research/D3S/Test_script.py\", line 13, in <module>\n",
      "    S6,S8,ALPHA1,ALPHA2 = D3S.DFT_D30_parameters[\"BLYP\"]\n",
      "                          ^^^^^^^^^^^^^^^^^^^^^^\n",
      "AttributeError: module 'D3S.D3S' has no attribute 'DFT_D30_parameters'. Did you mean: 'DFT_D3BJ_parameters'?\n"
     ]
    },
    {
     "name": "stdout",
     "output_type": "stream",
     "text": [
      "✅ CSV with D3 energy written to calcs/output/Li3Y_1185289.csv\n",
      "Running Test_script.py on /Users/partha/Desktop/research/D3S/calcs/scan/Li12Si7_1314.xyz\n"
     ]
    },
    {
     "name": "stderr",
     "output_type": "stream",
     "text": [
      "Traceback (most recent call last):\n",
      "  File \"/Users/partha/Desktop/research/D3S/Test_script.py\", line 13, in <module>\n",
      "    S6,S8,ALPHA1,ALPHA2 = D3S.DFT_D30_parameters[\"BLYP\"]\n",
      "                          ^^^^^^^^^^^^^^^^^^^^^^\n",
      "AttributeError: module 'D3S.D3S' has no attribute 'DFT_D30_parameters'. Did you mean: 'DFT_D3BJ_parameters'?\n"
     ]
    },
    {
     "name": "stdout",
     "output_type": "stream",
     "text": [
      "✅ CSV with D3 energy written to calcs/output/Li12Si7_1314.csv\n",
      "Running Test_script.py on /Users/partha/Desktop/research/D3S/calcs/scan/Li3Ag2_1222584.xyz\n"
     ]
    },
    {
     "name": "stderr",
     "output_type": "stream",
     "text": [
      "Traceback (most recent call last):\n",
      "  File \"/Users/partha/Desktop/research/D3S/Test_script.py\", line 13, in <module>\n",
      "    S6,S8,ALPHA1,ALPHA2 = D3S.DFT_D30_parameters[\"BLYP\"]\n",
      "                          ^^^^^^^^^^^^^^^^^^^^^^\n",
      "AttributeError: module 'D3S.D3S' has no attribute 'DFT_D30_parameters'. Did you mean: 'DFT_D3BJ_parameters'?\n"
     ]
    },
    {
     "name": "stdout",
     "output_type": "stream",
     "text": [
      "✅ CSV with D3 energy written to calcs/output/Li3Ag2_1222584.csv\n",
      "Running Test_script.py on /Users/partha/Desktop/research/D3S/calcs/scan/Li3Ag_977126.xyz\n"
     ]
    },
    {
     "name": "stderr",
     "output_type": "stream",
     "text": [
      "Traceback (most recent call last):\n",
      "  File \"/Users/partha/Desktop/research/D3S/Test_script.py\", line 13, in <module>\n",
      "    S6,S8,ALPHA1,ALPHA2 = D3S.DFT_D30_parameters[\"BLYP\"]\n",
      "                          ^^^^^^^^^^^^^^^^^^^^^^\n",
      "AttributeError: module 'D3S.D3S' has no attribute 'DFT_D30_parameters'. Did you mean: 'DFT_D3BJ_parameters'?\n"
     ]
    },
    {
     "name": "stdout",
     "output_type": "stream",
     "text": [
      "✅ CSV with D3 energy written to calcs/output/Li3Ag_977126.csv\n",
      "Running Test_script.py on /Users/partha/Desktop/research/D3S/calcs/scan/LiMg2_1094156.xyz\n"
     ]
    },
    {
     "name": "stderr",
     "output_type": "stream",
     "text": [
      "Traceback (most recent call last):\n",
      "  File \"/Users/partha/Desktop/research/D3S/Test_script.py\", line 13, in <module>\n",
      "    S6,S8,ALPHA1,ALPHA2 = D3S.DFT_D30_parameters[\"BLYP\"]\n",
      "                          ^^^^^^^^^^^^^^^^^^^^^^\n",
      "AttributeError: module 'D3S.D3S' has no attribute 'DFT_D30_parameters'. Did you mean: 'DFT_D3BJ_parameters'?\n"
     ]
    },
    {
     "name": "stdout",
     "output_type": "stream",
     "text": [
      "✅ CSV with D3 energy written to calcs/output/LiMg2_1094156.csv\n",
      "Running Test_script.py on /Users/partha/Desktop/research/D3S/calcs/scan/Li3Mo_1185187.xyz\n"
     ]
    },
    {
     "name": "stderr",
     "output_type": "stream",
     "text": [
      "Traceback (most recent call last):\n",
      "  File \"/Users/partha/Desktop/research/D3S/Test_script.py\", line 13, in <module>\n",
      "    S6,S8,ALPHA1,ALPHA2 = D3S.DFT_D30_parameters[\"BLYP\"]\n",
      "                          ^^^^^^^^^^^^^^^^^^^^^^\n",
      "AttributeError: module 'D3S.D3S' has no attribute 'DFT_D30_parameters'. Did you mean: 'DFT_D3BJ_parameters'?\n"
     ]
    },
    {
     "name": "stdout",
     "output_type": "stream",
     "text": [
      "✅ CSV with D3 energy written to calcs/output/Li3Mo_1185187.csv\n",
      "Running Test_script.py on /Users/partha/Desktop/research/D3S/calcs/scan/Li3Cd_1222495.xyz\n"
     ]
    },
    {
     "name": "stderr",
     "output_type": "stream",
     "text": [
      "Traceback (most recent call last):\n",
      "  File \"/Users/partha/Desktop/research/D3S/Test_script.py\", line 13, in <module>\n",
      "    S6,S8,ALPHA1,ALPHA2 = D3S.DFT_D30_parameters[\"BLYP\"]\n",
      "                          ^^^^^^^^^^^^^^^^^^^^^^\n",
      "AttributeError: module 'D3S.D3S' has no attribute 'DFT_D30_parameters'. Did you mean: 'DFT_D3BJ_parameters'?\n"
     ]
    },
    {
     "name": "stdout",
     "output_type": "stream",
     "text": [
      "✅ CSV with D3 energy written to calcs/output/Li3Cd_1222495.csv\n",
      "Running Test_script.py on /Users/partha/Desktop/research/D3S/calcs/scan/Li3W_1185290.xyz\n"
     ]
    },
    {
     "name": "stderr",
     "output_type": "stream",
     "text": [
      "Traceback (most recent call last):\n",
      "  File \"/Users/partha/Desktop/research/D3S/Test_script.py\", line 13, in <module>\n",
      "    S6,S8,ALPHA1,ALPHA2 = D3S.DFT_D30_parameters[\"BLYP\"]\n",
      "                          ^^^^^^^^^^^^^^^^^^^^^^\n",
      "AttributeError: module 'D3S.D3S' has no attribute 'DFT_D30_parameters'. Did you mean: 'DFT_D3BJ_parameters'?\n"
     ]
    },
    {
     "name": "stdout",
     "output_type": "stream",
     "text": [
      "✅ CSV with D3 energy written to calcs/output/Li3W_1185290.csv\n",
      "Running Test_script.py on /Users/partha/Desktop/research/D3S/calcs/scan/Li9Ge4_27932.xyz\n"
     ]
    },
    {
     "name": "stderr",
     "output_type": "stream",
     "text": [
      "Traceback (most recent call last):\n",
      "  File \"/Users/partha/Desktop/research/D3S/Test_script.py\", line 13, in <module>\n",
      "    S6,S8,ALPHA1,ALPHA2 = D3S.DFT_D30_parameters[\"BLYP\"]\n",
      "                          ^^^^^^^^^^^^^^^^^^^^^^\n",
      "AttributeError: module 'D3S.D3S' has no attribute 'DFT_D30_parameters'. Did you mean: 'DFT_D3BJ_parameters'?\n"
     ]
    },
    {
     "name": "stdout",
     "output_type": "stream",
     "text": [
      "✅ CSV with D3 energy written to calcs/output/Li9Ge4_27932.csv\n",
      "Running Test_script.py on /Users/partha/Desktop/research/D3S/calcs/scan/Li5Mg_976944.xyz\n"
     ]
    },
    {
     "name": "stderr",
     "output_type": "stream",
     "text": [
      "Traceback (most recent call last):\n",
      "  File \"/Users/partha/Desktop/research/D3S/Test_script.py\", line 13, in <module>\n",
      "    S6,S8,ALPHA1,ALPHA2 = D3S.DFT_D30_parameters[\"BLYP\"]\n",
      "                          ^^^^^^^^^^^^^^^^^^^^^^\n",
      "AttributeError: module 'D3S.D3S' has no attribute 'DFT_D30_parameters'. Did you mean: 'DFT_D3BJ_parameters'?\n"
     ]
    },
    {
     "name": "stdout",
     "output_type": "stream",
     "text": [
      "✅ CSV with D3 energy written to calcs/output/Li5Mg_976944.csv\n",
      "Running Test_script.py on /Users/partha/Desktop/research/D3S/calcs/scan/LiMg_1100190.xyz\n"
     ]
    },
    {
     "name": "stderr",
     "output_type": "stream",
     "text": [
      "Traceback (most recent call last):\n",
      "  File \"/Users/partha/Desktop/research/D3S/Test_script.py\", line 13, in <module>\n",
      "    S6,S8,ALPHA1,ALPHA2 = D3S.DFT_D30_parameters[\"BLYP\"]\n",
      "                          ^^^^^^^^^^^^^^^^^^^^^^\n",
      "AttributeError: module 'D3S.D3S' has no attribute 'DFT_D30_parameters'. Did you mean: 'DFT_D3BJ_parameters'?\n"
     ]
    },
    {
     "name": "stdout",
     "output_type": "stream",
     "text": [
      "✅ CSV with D3 energy written to calcs/output/LiMg_1100190.csv\n",
      "Running Test_script.py on /Users/partha/Desktop/research/D3S/calcs/scan/LiMg2_1094593.xyz\n"
     ]
    },
    {
     "name": "stderr",
     "output_type": "stream",
     "text": [
      "Traceback (most recent call last):\n",
      "  File \"/Users/partha/Desktop/research/D3S/Test_script.py\", line 13, in <module>\n",
      "    S6,S8,ALPHA1,ALPHA2 = D3S.DFT_D30_parameters[\"BLYP\"]\n",
      "                          ^^^^^^^^^^^^^^^^^^^^^^\n",
      "AttributeError: module 'D3S.D3S' has no attribute 'DFT_D30_parameters'. Did you mean: 'DFT_D3BJ_parameters'?\n"
     ]
    },
    {
     "name": "stdout",
     "output_type": "stream",
     "text": [
      "✅ CSV with D3 energy written to calcs/output/LiMg2_1094593.csv\n",
      "Running Test_script.py on /Users/partha/Desktop/research/D3S/calcs/scan/LiMn_1185402.xyz\n"
     ]
    },
    {
     "name": "stderr",
     "output_type": "stream",
     "text": [
      "Traceback (most recent call last):\n",
      "  File \"/Users/partha/Desktop/research/D3S/Test_script.py\", line 13, in <module>\n",
      "    S6,S8,ALPHA1,ALPHA2 = D3S.DFT_D30_parameters[\"BLYP\"]\n",
      "                          ^^^^^^^^^^^^^^^^^^^^^^\n",
      "AttributeError: module 'D3S.D3S' has no attribute 'DFT_D30_parameters'. Did you mean: 'DFT_D3BJ_parameters'?\n"
     ]
    },
    {
     "name": "stdout",
     "output_type": "stream",
     "text": [
      "✅ CSV with D3 energy written to calcs/output/LiMn_1185402.csv\n",
      "Running Test_script.py on /Users/partha/Desktop/research/D3S/calcs/scan/LiMg2_1094587.xyz\n"
     ]
    },
    {
     "name": "stderr",
     "output_type": "stream",
     "text": [
      "Traceback (most recent call last):\n",
      "  File \"/Users/partha/Desktop/research/D3S/Test_script.py\", line 13, in <module>\n",
      "    S6,S8,ALPHA1,ALPHA2 = D3S.DFT_D30_parameters[\"BLYP\"]\n",
      "                          ^^^^^^^^^^^^^^^^^^^^^^\n",
      "AttributeError: module 'D3S.D3S' has no attribute 'DFT_D30_parameters'. Did you mean: 'DFT_D3BJ_parameters'?\n"
     ]
    },
    {
     "name": "stdout",
     "output_type": "stream",
     "text": [
      "✅ CSV with D3 energy written to calcs/output/LiMg2_1094587.csv\n",
      "Running Test_script.py on /Users/partha/Desktop/research/D3S/calcs/scan/LiAc3_1185287.xyz\n"
     ]
    },
    {
     "name": "stderr",
     "output_type": "stream",
     "text": [
      "Traceback (most recent call last):\n",
      "  File \"/Users/partha/Desktop/research/D3S/Test_script.py\", line 13, in <module>\n",
      "    S6,S8,ALPHA1,ALPHA2 = D3S.DFT_D30_parameters[\"BLYP\"]\n",
      "                          ^^^^^^^^^^^^^^^^^^^^^^\n",
      "AttributeError: module 'D3S.D3S' has no attribute 'DFT_D30_parameters'. Did you mean: 'DFT_D3BJ_parameters'?\n"
     ]
    },
    {
     "name": "stdout",
     "output_type": "stream",
     "text": [
      "✅ CSV with D3 energy written to calcs/output/LiAc3_1185287.csv\n",
      "Running Test_script.py on /Users/partha/Desktop/research/D3S/calcs/scan/Li7Ge2_29630.xyz\n"
     ]
    },
    {
     "name": "stderr",
     "output_type": "stream",
     "text": [
      "Traceback (most recent call last):\n",
      "  File \"/Users/partha/Desktop/research/D3S/Test_script.py\", line 13, in <module>\n",
      "    S6,S8,ALPHA1,ALPHA2 = D3S.DFT_D30_parameters[\"BLYP\"]\n",
      "                          ^^^^^^^^^^^^^^^^^^^^^^\n",
      "AttributeError: module 'D3S.D3S' has no attribute 'DFT_D30_parameters'. Did you mean: 'DFT_D3BJ_parameters'?\n"
     ]
    },
    {
     "name": "stdout",
     "output_type": "stream",
     "text": [
      "✅ CSV with D3 energy written to calcs/output/Li7Ge2_29630.csv\n",
      "Running Test_script.py on /Users/partha/Desktop/research/D3S/calcs/scan/LiLu3_973493.xyz\n"
     ]
    },
    {
     "name": "stderr",
     "output_type": "stream",
     "text": [
      "Traceback (most recent call last):\n",
      "  File \"/Users/partha/Desktop/research/D3S/Test_script.py\", line 13, in <module>\n",
      "    S6,S8,ALPHA1,ALPHA2 = D3S.DFT_D30_parameters[\"BLYP\"]\n",
      "                          ^^^^^^^^^^^^^^^^^^^^^^\n",
      "AttributeError: module 'D3S.D3S' has no attribute 'DFT_D30_parameters'. Did you mean: 'DFT_D3BJ_parameters'?\n"
     ]
    },
    {
     "name": "stdout",
     "output_type": "stream",
     "text": [
      "✅ CSV with D3 energy written to calcs/output/LiLu3_973493.csv\n",
      "Running Test_script.py on /Users/partha/Desktop/research/D3S/calcs/scan/LiO8_1235185.xyz\n"
     ]
    },
    {
     "name": "stderr",
     "output_type": "stream",
     "text": [
      "Traceback (most recent call last):\n",
      "  File \"/Users/partha/Desktop/research/D3S/Test_script.py\", line 13, in <module>\n",
      "    S6,S8,ALPHA1,ALPHA2 = D3S.DFT_D30_parameters[\"BLYP\"]\n",
      "                          ^^^^^^^^^^^^^^^^^^^^^^\n",
      "AttributeError: module 'D3S.D3S' has no attribute 'DFT_D30_parameters'. Did you mean: 'DFT_D3BJ_parameters'?\n"
     ]
    },
    {
     "name": "stdout",
     "output_type": "stream",
     "text": [
      "✅ CSV with D3 energy written to calcs/output/LiO8_1235185.csv\n",
      "Running Test_script.py on /Users/partha/Desktop/research/D3S/calcs/scan/Li3Au_11247.xyz\n"
     ]
    },
    {
     "name": "stderr",
     "output_type": "stream",
     "text": [
      "Traceback (most recent call last):\n",
      "  File \"/Users/partha/Desktop/research/D3S/Test_script.py\", line 13, in <module>\n",
      "    S6,S8,ALPHA1,ALPHA2 = D3S.DFT_D30_parameters[\"BLYP\"]\n",
      "                          ^^^^^^^^^^^^^^^^^^^^^^\n",
      "AttributeError: module 'D3S.D3S' has no attribute 'DFT_D30_parameters'. Did you mean: 'DFT_D3BJ_parameters'?\n"
     ]
    },
    {
     "name": "stdout",
     "output_type": "stream",
     "text": [
      "✅ CSV with D3 energy written to calcs/output/Li3Au_11247.csv\n",
      "Running Test_script.py on /Users/partha/Desktop/research/D3S/calcs/scan/Li3Al_975868.xyz\n"
     ]
    },
    {
     "name": "stderr",
     "output_type": "stream",
     "text": [
      "Traceback (most recent call last):\n",
      "  File \"/Users/partha/Desktop/research/D3S/Test_script.py\", line 13, in <module>\n",
      "    S6,S8,ALPHA1,ALPHA2 = D3S.DFT_D30_parameters[\"BLYP\"]\n",
      "                          ^^^^^^^^^^^^^^^^^^^^^^\n",
      "AttributeError: module 'D3S.D3S' has no attribute 'DFT_D30_parameters'. Did you mean: 'DFT_D3BJ_parameters'?\n"
     ]
    },
    {
     "name": "stdout",
     "output_type": "stream",
     "text": [
      "✅ CSV with D3 energy written to calcs/output/Li3Al_975868.csv\n",
      "Running Test_script.py on /Users/partha/Desktop/research/D3S/calcs/scan/Li3Cr_976010.xyz\n"
     ]
    },
    {
     "name": "stderr",
     "output_type": "stream",
     "text": [
      "Traceback (most recent call last):\n",
      "  File \"/Users/partha/Desktop/research/D3S/Test_script.py\", line 13, in <module>\n",
      "    S6,S8,ALPHA1,ALPHA2 = D3S.DFT_D30_parameters[\"BLYP\"]\n",
      "                          ^^^^^^^^^^^^^^^^^^^^^^\n",
      "AttributeError: module 'D3S.D3S' has no attribute 'DFT_D30_parameters'. Did you mean: 'DFT_D3BJ_parameters'?\n"
     ]
    },
    {
     "name": "stdout",
     "output_type": "stream",
     "text": [
      "✅ CSV with D3 energy written to calcs/output/Li3Cr_976010.csv\n",
      "Running Test_script.py on /Users/partha/Desktop/research/D3S/calcs/scan/LiGa2_1210887.xyz\n"
     ]
    },
    {
     "name": "stderr",
     "output_type": "stream",
     "text": [
      "Traceback (most recent call last):\n",
      "  File \"/Users/partha/Desktop/research/D3S/Test_script.py\", line 13, in <module>\n",
      "    S6,S8,ALPHA1,ALPHA2 = D3S.DFT_D30_parameters[\"BLYP\"]\n",
      "                          ^^^^^^^^^^^^^^^^^^^^^^\n",
      "AttributeError: module 'D3S.D3S' has no attribute 'DFT_D30_parameters'. Did you mean: 'DFT_D3BJ_parameters'?\n"
     ]
    },
    {
     "name": "stdout",
     "output_type": "stream",
     "text": [
      "✅ CSV with D3 energy written to calcs/output/LiGa2_1210887.csv\n",
      "Running Test_script.py on /Users/partha/Desktop/research/D3S/calcs/scan/Li3Zn_976414.xyz\n"
     ]
    },
    {
     "name": "stderr",
     "output_type": "stream",
     "text": [
      "Traceback (most recent call last):\n",
      "  File \"/Users/partha/Desktop/research/D3S/Test_script.py\", line 13, in <module>\n",
      "    S6,S8,ALPHA1,ALPHA2 = D3S.DFT_D30_parameters[\"BLYP\"]\n",
      "                          ^^^^^^^^^^^^^^^^^^^^^^\n",
      "AttributeError: module 'D3S.D3S' has no attribute 'DFT_D30_parameters'. Did you mean: 'DFT_D3BJ_parameters'?\n"
     ]
    },
    {
     "name": "stdout",
     "output_type": "stream",
     "text": [
      "✅ CSV with D3 energy written to calcs/output/Li3Zn_976414.csv\n",
      "Running Test_script.py on /Users/partha/Desktop/research/D3S/calcs/scan/LiAg_1018026.xyz\n"
     ]
    },
    {
     "name": "stderr",
     "output_type": "stream",
     "text": [
      "Traceback (most recent call last):\n",
      "  File \"/Users/partha/Desktop/research/D3S/Test_script.py\", line 13, in <module>\n",
      "    S6,S8,ALPHA1,ALPHA2 = D3S.DFT_D30_parameters[\"BLYP\"]\n",
      "                          ^^^^^^^^^^^^^^^^^^^^^^\n",
      "AttributeError: module 'D3S.D3S' has no attribute 'DFT_D30_parameters'. Did you mean: 'DFT_D3BJ_parameters'?\n"
     ]
    },
    {
     "name": "stdout",
     "output_type": "stream",
     "text": [
      "✅ CSV with D3 energy written to calcs/output/LiAg_1018026.csv\n",
      "Running Test_script.py on /Users/partha/Desktop/research/D3S/calcs/scan/Li3As_1191653.xyz\n"
     ]
    },
    {
     "name": "stderr",
     "output_type": "stream",
     "text": [
      "Traceback (most recent call last):\n",
      "  File \"/Users/partha/Desktop/research/D3S/Test_script.py\", line 13, in <module>\n",
      "    S6,S8,ALPHA1,ALPHA2 = D3S.DFT_D30_parameters[\"BLYP\"]\n",
      "                          ^^^^^^^^^^^^^^^^^^^^^^\n",
      "AttributeError: module 'D3S.D3S' has no attribute 'DFT_D30_parameters'. Did you mean: 'DFT_D3BJ_parameters'?\n"
     ]
    },
    {
     "name": "stdout",
     "output_type": "stream",
     "text": [
      "✅ CSV with D3 energy written to calcs/output/Li3As_1191653.csv\n",
      "Running Test_script.py on /Users/partha/Desktop/research/D3S/calcs/scan/Sr3Li_1187126.xyz\n"
     ]
    },
    {
     "name": "stderr",
     "output_type": "stream",
     "text": [
      "Traceback (most recent call last):\n",
      "  File \"/Users/partha/Desktop/research/D3S/Test_script.py\", line 13, in <module>\n",
      "    S6,S8,ALPHA1,ALPHA2 = D3S.DFT_D30_parameters[\"BLYP\"]\n",
      "                          ^^^^^^^^^^^^^^^^^^^^^^\n",
      "AttributeError: module 'D3S.D3S' has no attribute 'DFT_D30_parameters'. Did you mean: 'DFT_D3BJ_parameters'?\n"
     ]
    },
    {
     "name": "stdout",
     "output_type": "stream",
     "text": [
      "✅ CSV with D3 energy written to calcs/output/Sr3Li_1187126.csv\n",
      "Running Test_script.py on /Users/partha/Desktop/research/D3S/calcs/scan/LiGe_8490.xyz\n"
     ]
    },
    {
     "name": "stderr",
     "output_type": "stream",
     "text": [
      "Traceback (most recent call last):\n",
      "  File \"/Users/partha/Desktop/research/D3S/Test_script.py\", line 13, in <module>\n",
      "    S6,S8,ALPHA1,ALPHA2 = D3S.DFT_D30_parameters[\"BLYP\"]\n",
      "                          ^^^^^^^^^^^^^^^^^^^^^^\n",
      "AttributeError: module 'D3S.D3S' has no attribute 'DFT_D30_parameters'. Did you mean: 'DFT_D3BJ_parameters'?\n"
     ]
    },
    {
     "name": "stdout",
     "output_type": "stream",
     "text": [
      "✅ CSV with D3 energy written to calcs/output/LiGe_8490.csv\n",
      "Running Test_script.py on /Users/partha/Desktop/research/D3S/calcs/scan/LiMg2_1094579.xyz\n"
     ]
    },
    {
     "name": "stderr",
     "output_type": "stream",
     "text": [
      "Traceback (most recent call last):\n",
      "  File \"/Users/partha/Desktop/research/D3S/Test_script.py\", line 13, in <module>\n",
      "    S6,S8,ALPHA1,ALPHA2 = D3S.DFT_D30_parameters[\"BLYP\"]\n",
      "                          ^^^^^^^^^^^^^^^^^^^^^^\n",
      "AttributeError: module 'D3S.D3S' has no attribute 'DFT_D30_parameters'. Did you mean: 'DFT_D3BJ_parameters'?\n"
     ]
    },
    {
     "name": "stdout",
     "output_type": "stream",
     "text": [
      "✅ CSV with D3 energy written to calcs/output/LiMg2_1094579.csv\n",
      "Running Test_script.py on /Users/partha/Desktop/research/D3S/calcs/scan/Li5B4_632822.xyz\n"
     ]
    },
    {
     "name": "stderr",
     "output_type": "stream",
     "text": [
      "Traceback (most recent call last):\n",
      "  File \"/Users/partha/Desktop/research/D3S/Test_script.py\", line 13, in <module>\n",
      "    S6,S8,ALPHA1,ALPHA2 = D3S.DFT_D30_parameters[\"BLYP\"]\n",
      "                          ^^^^^^^^^^^^^^^^^^^^^^\n",
      "AttributeError: module 'D3S.D3S' has no attribute 'DFT_D30_parameters'. Did you mean: 'DFT_D3BJ_parameters'?\n"
     ]
    },
    {
     "name": "stdout",
     "output_type": "stream",
     "text": [
      "✅ CSV with D3 energy written to calcs/output/Li5B4_632822.csv\n",
      "Running Test_script.py on /Users/partha/Desktop/research/D3S/calcs/scan/Li3Bi_2646976.xyz\n"
     ]
    },
    {
     "name": "stderr",
     "output_type": "stream",
     "text": [
      "Traceback (most recent call last):\n",
      "  File \"/Users/partha/Desktop/research/D3S/Test_script.py\", line 13, in <module>\n",
      "    S6,S8,ALPHA1,ALPHA2 = D3S.DFT_D30_parameters[\"BLYP\"]\n",
      "                          ^^^^^^^^^^^^^^^^^^^^^^\n",
      "AttributeError: module 'D3S.D3S' has no attribute 'DFT_D30_parameters'. Did you mean: 'DFT_D3BJ_parameters'?\n"
     ]
    },
    {
     "name": "stdout",
     "output_type": "stream",
     "text": [
      "✅ CSV with D3 energy written to calcs/output/Li3Bi_2646976.csv\n",
      "Running Test_script.py on /Users/partha/Desktop/research/D3S/calcs/scan/Li7Sn2_30767.xyz\n"
     ]
    },
    {
     "name": "stderr",
     "output_type": "stream",
     "text": [
      "Traceback (most recent call last):\n",
      "  File \"/Users/partha/Desktop/research/D3S/Test_script.py\", line 13, in <module>\n",
      "    S6,S8,ALPHA1,ALPHA2 = D3S.DFT_D30_parameters[\"BLYP\"]\n",
      "                          ^^^^^^^^^^^^^^^^^^^^^^\n",
      "AttributeError: module 'D3S.D3S' has no attribute 'DFT_D30_parameters'. Did you mean: 'DFT_D3BJ_parameters'?\n"
     ]
    },
    {
     "name": "stdout",
     "output_type": "stream",
     "text": [
      "✅ CSV with D3 energy written to calcs/output/Li7Sn2_30767.csv\n",
      "Running Test_script.py on /Users/partha/Desktop/research/D3S/calcs/scan/Li2Mg_1094607.xyz\n"
     ]
    },
    {
     "name": "stderr",
     "output_type": "stream",
     "text": [
      "Traceback (most recent call last):\n",
      "  File \"/Users/partha/Desktop/research/D3S/Test_script.py\", line 13, in <module>\n",
      "    S6,S8,ALPHA1,ALPHA2 = D3S.DFT_D30_parameters[\"BLYP\"]\n",
      "                          ^^^^^^^^^^^^^^^^^^^^^^\n",
      "AttributeError: module 'D3S.D3S' has no attribute 'DFT_D30_parameters'. Did you mean: 'DFT_D3BJ_parameters'?\n"
     ]
    },
    {
     "name": "stdout",
     "output_type": "stream",
     "text": [
      "✅ CSV with D3 energy written to calcs/output/Li2Mg_1094607.csv\n",
      "Running Test_script.py on /Users/partha/Desktop/research/D3S/calcs/scan/Li3Nb_976263.xyz\n"
     ]
    },
    {
     "name": "stderr",
     "output_type": "stream",
     "text": [
      "Traceback (most recent call last):\n",
      "  File \"/Users/partha/Desktop/research/D3S/Test_script.py\", line 13, in <module>\n",
      "    S6,S8,ALPHA1,ALPHA2 = D3S.DFT_D30_parameters[\"BLYP\"]\n",
      "                          ^^^^^^^^^^^^^^^^^^^^^^\n",
      "AttributeError: module 'D3S.D3S' has no attribute 'DFT_D30_parameters'. Did you mean: 'DFT_D3BJ_parameters'?\n"
     ]
    },
    {
     "name": "stdout",
     "output_type": "stream",
     "text": [
      "✅ CSV with D3 energy written to calcs/output/Li3Nb_976263.csv\n",
      "Running Test_script.py on /Users/partha/Desktop/research/D3S/calcs/scan/Li2Mg_976982.xyz\n"
     ]
    },
    {
     "name": "stderr",
     "output_type": "stream",
     "text": [
      "Traceback (most recent call last):\n",
      "  File \"/Users/partha/Desktop/research/D3S/Test_script.py\", line 13, in <module>\n",
      "    S6,S8,ALPHA1,ALPHA2 = D3S.DFT_D30_parameters[\"BLYP\"]\n",
      "                          ^^^^^^^^^^^^^^^^^^^^^^\n",
      "AttributeError: module 'D3S.D3S' has no attribute 'DFT_D30_parameters'. Did you mean: 'DFT_D3BJ_parameters'?\n"
     ]
    },
    {
     "name": "stdout",
     "output_type": "stream",
     "text": [
      "✅ CSV with D3 energy written to calcs/output/Li2Mg_976982.csv\n",
      "Running Test_script.py on /Users/partha/Desktop/research/D3S/calcs/scan/LiNi3_1185266.xyz\n"
     ]
    },
    {
     "name": "stderr",
     "output_type": "stream",
     "text": [
      "Traceback (most recent call last):\n",
      "  File \"/Users/partha/Desktop/research/D3S/Test_script.py\", line 13, in <module>\n",
      "    S6,S8,ALPHA1,ALPHA2 = D3S.DFT_D30_parameters[\"BLYP\"]\n",
      "                          ^^^^^^^^^^^^^^^^^^^^^^\n",
      "AttributeError: module 'D3S.D3S' has no attribute 'DFT_D30_parameters'. Did you mean: 'DFT_D3BJ_parameters'?\n"
     ]
    },
    {
     "name": "stdout",
     "output_type": "stream",
     "text": [
      "✅ CSV with D3 energy written to calcs/output/LiNi3_1185266.csv\n",
      "Running Test_script.py on /Users/partha/Desktop/research/D3S/calcs/scan/Li3Zr_1185295.xyz\n"
     ]
    },
    {
     "name": "stderr",
     "output_type": "stream",
     "text": [
      "Traceback (most recent call last):\n",
      "  File \"/Users/partha/Desktop/research/D3S/Test_script.py\", line 13, in <module>\n",
      "    S6,S8,ALPHA1,ALPHA2 = D3S.DFT_D30_parameters[\"BLYP\"]\n",
      "                          ^^^^^^^^^^^^^^^^^^^^^^\n",
      "AttributeError: module 'D3S.D3S' has no attribute 'DFT_D30_parameters'. Did you mean: 'DFT_D3BJ_parameters'?\n"
     ]
    },
    {
     "name": "stdout",
     "output_type": "stream",
     "text": [
      "✅ CSV with D3 energy written to calcs/output/Li3Zr_1185295.csv\n",
      "Running Test_script.py on /Users/partha/Desktop/research/D3S/calcs/scan/Li27Sb10_676024.xyz\n"
     ]
    },
    {
     "name": "stderr",
     "output_type": "stream",
     "text": [
      "Traceback (most recent call last):\n",
      "  File \"/Users/partha/Desktop/research/D3S/Test_script.py\", line 13, in <module>\n",
      "    S6,S8,ALPHA1,ALPHA2 = D3S.DFT_D30_parameters[\"BLYP\"]\n",
      "                          ^^^^^^^^^^^^^^^^^^^^^^\n",
      "AttributeError: module 'D3S.D3S' has no attribute 'DFT_D30_parameters'. Did you mean: 'DFT_D3BJ_parameters'?\n"
     ]
    },
    {
     "name": "stdout",
     "output_type": "stream",
     "text": [
      "✅ CSV with D3 energy written to calcs/output/Li27Sb10_676024.csv\n",
      "Running Test_script.py on /Users/partha/Desktop/research/D3S/calcs/scan/LiAu_1206794.xyz\n"
     ]
    },
    {
     "name": "stderr",
     "output_type": "stream",
     "text": [
      "Traceback (most recent call last):\n",
      "  File \"/Users/partha/Desktop/research/D3S/Test_script.py\", line 13, in <module>\n",
      "    S6,S8,ALPHA1,ALPHA2 = D3S.DFT_D30_parameters[\"BLYP\"]\n",
      "                          ^^^^^^^^^^^^^^^^^^^^^^\n",
      "AttributeError: module 'D3S.D3S' has no attribute 'DFT_D30_parameters'. Did you mean: 'DFT_D3BJ_parameters'?\n"
     ]
    },
    {
     "name": "stdout",
     "output_type": "stream",
     "text": [
      "✅ CSV with D3 energy written to calcs/output/LiAu_1206794.csv\n",
      "Running Test_script.py on /Users/partha/Desktop/research/D3S/calcs/scan/LiMg2_1094582.xyz\n"
     ]
    },
    {
     "name": "stderr",
     "output_type": "stream",
     "text": [
      "Traceback (most recent call last):\n",
      "  File \"/Users/partha/Desktop/research/D3S/Test_script.py\", line 13, in <module>\n",
      "    S6,S8,ALPHA1,ALPHA2 = D3S.DFT_D30_parameters[\"BLYP\"]\n",
      "                          ^^^^^^^^^^^^^^^^^^^^^^\n",
      "AttributeError: module 'D3S.D3S' has no attribute 'DFT_D30_parameters'. Did you mean: 'DFT_D3BJ_parameters'?\n"
     ]
    },
    {
     "name": "stdout",
     "output_type": "stream",
     "text": [
      "✅ CSV with D3 energy written to calcs/output/LiMg2_1094582.csv\n",
      "Running Test_script.py on /Users/partha/Desktop/research/D3S/calcs/scan/Li2Cd_1210799.xyz\n"
     ]
    },
    {
     "name": "stderr",
     "output_type": "stream",
     "text": [
      "Traceback (most recent call last):\n",
      "  File \"/Users/partha/Desktop/research/D3S/Test_script.py\", line 13, in <module>\n",
      "    S6,S8,ALPHA1,ALPHA2 = D3S.DFT_D30_parameters[\"BLYP\"]\n",
      "                          ^^^^^^^^^^^^^^^^^^^^^^\n",
      "AttributeError: module 'D3S.D3S' has no attribute 'DFT_D30_parameters'. Did you mean: 'DFT_D3BJ_parameters'?\n"
     ]
    },
    {
     "name": "stdout",
     "output_type": "stream",
     "text": [
      "✅ CSV with D3 energy written to calcs/output/Li2Cd_1210799.csv\n",
      "Running Test_script.py on /Users/partha/Desktop/research/D3S/calcs/scan/LiB11_1103120.xyz\n"
     ]
    },
    {
     "name": "stderr",
     "output_type": "stream",
     "text": [
      "Traceback (most recent call last):\n",
      "  File \"/Users/partha/Desktop/research/D3S/Test_script.py\", line 13, in <module>\n",
      "    S6,S8,ALPHA1,ALPHA2 = D3S.DFT_D30_parameters[\"BLYP\"]\n",
      "                          ^^^^^^^^^^^^^^^^^^^^^^\n",
      "AttributeError: module 'D3S.D3S' has no attribute 'DFT_D30_parameters'. Did you mean: 'DFT_D3BJ_parameters'?\n"
     ]
    },
    {
     "name": "stdout",
     "output_type": "stream",
     "text": [
      "✅ CSV with D3 energy written to calcs/output/LiB11_1103120.csv\n",
      "Running Test_script.py on /Users/partha/Desktop/research/D3S/calcs/scan/LiCd_1437.xyz\n"
     ]
    },
    {
     "name": "stderr",
     "output_type": "stream",
     "text": [
      "Traceback (most recent call last):\n",
      "  File \"/Users/partha/Desktop/research/D3S/Test_script.py\", line 13, in <module>\n",
      "    S6,S8,ALPHA1,ALPHA2 = D3S.DFT_D30_parameters[\"BLYP\"]\n",
      "                          ^^^^^^^^^^^^^^^^^^^^^^\n",
      "AttributeError: module 'D3S.D3S' has no attribute 'DFT_D30_parameters'. Did you mean: 'DFT_D3BJ_parameters'?\n"
     ]
    },
    {
     "name": "stdout",
     "output_type": "stream",
     "text": [
      "✅ CSV with D3 energy written to calcs/output/LiCd_1437.csv\n",
      "Running Test_script.py on /Users/partha/Desktop/research/D3S/calcs/scan/Li2S_557142.xyz\n"
     ]
    },
    {
     "name": "stderr",
     "output_type": "stream",
     "text": [
      "Traceback (most recent call last):\n",
      "  File \"/Users/partha/Desktop/research/D3S/Test_script.py\", line 13, in <module>\n",
      "    S6,S8,ALPHA1,ALPHA2 = D3S.DFT_D30_parameters[\"BLYP\"]\n",
      "                          ^^^^^^^^^^^^^^^^^^^^^^\n",
      "AttributeError: module 'D3S.D3S' has no attribute 'DFT_D30_parameters'. Did you mean: 'DFT_D3BJ_parameters'?\n"
     ]
    },
    {
     "name": "stdout",
     "output_type": "stream",
     "text": [
      "✅ CSV with D3 energy written to calcs/output/Li2S_557142.csv\n",
      "Running Test_script.py on /Users/partha/Desktop/research/D3S/calcs/scan/Li12Ge7_1212365.xyz\n"
     ]
    },
    {
     "name": "stderr",
     "output_type": "stream",
     "text": [
      "Traceback (most recent call last):\n",
      "  File \"/Users/partha/Desktop/research/D3S/Test_script.py\", line 13, in <module>\n",
      "    S6,S8,ALPHA1,ALPHA2 = D3S.DFT_D30_parameters[\"BLYP\"]\n",
      "                          ^^^^^^^^^^^^^^^^^^^^^^\n",
      "AttributeError: module 'D3S.D3S' has no attribute 'DFT_D30_parameters'. Did you mean: 'DFT_D3BJ_parameters'?\n"
     ]
    },
    {
     "name": "stdout",
     "output_type": "stream",
     "text": [
      "✅ CSV with D3 energy written to calcs/output/Li12Ge7_1212365.csv\n",
      "Running Test_script.py on /Users/partha/Desktop/research/D3S/calcs/scan/LiMg3_1094665.xyz\n"
     ]
    },
    {
     "name": "stderr",
     "output_type": "stream",
     "text": [
      "Traceback (most recent call last):\n",
      "  File \"/Users/partha/Desktop/research/D3S/Test_script.py\", line 13, in <module>\n",
      "    S6,S8,ALPHA1,ALPHA2 = D3S.DFT_D30_parameters[\"BLYP\"]\n",
      "                          ^^^^^^^^^^^^^^^^^^^^^^\n",
      "AttributeError: module 'D3S.D3S' has no attribute 'DFT_D30_parameters'. Did you mean: 'DFT_D3BJ_parameters'?\n"
     ]
    },
    {
     "name": "stdout",
     "output_type": "stream",
     "text": [
      "✅ CSV with D3 energy written to calcs/output/LiMg3_1094665.csv\n",
      "Running Test_script.py on /Users/partha/Desktop/research/D3S/calcs/scan/LiPt7_30765.xyz\n"
     ]
    },
    {
     "name": "stderr",
     "output_type": "stream",
     "text": [
      "Traceback (most recent call last):\n",
      "  File \"/Users/partha/Desktop/research/D3S/Test_script.py\", line 13, in <module>\n",
      "    S6,S8,ALPHA1,ALPHA2 = D3S.DFT_D30_parameters[\"BLYP\"]\n",
      "                          ^^^^^^^^^^^^^^^^^^^^^^\n",
      "AttributeError: module 'D3S.D3S' has no attribute 'DFT_D30_parameters'. Did you mean: 'DFT_D3BJ_parameters'?\n"
     ]
    },
    {
     "name": "stdout",
     "output_type": "stream",
     "text": [
      "✅ CSV with D3 energy written to calcs/output/LiPt7_30765.csv\n",
      "Running Test_script.py on /Users/partha/Desktop/research/D3S/calcs/scan/Li3Pm_1185191.xyz\n"
     ]
    },
    {
     "name": "stderr",
     "output_type": "stream",
     "text": [
      "Traceback (most recent call last):\n",
      "  File \"/Users/partha/Desktop/research/D3S/Test_script.py\", line 13, in <module>\n",
      "    S6,S8,ALPHA1,ALPHA2 = D3S.DFT_D30_parameters[\"BLYP\"]\n",
      "                          ^^^^^^^^^^^^^^^^^^^^^^\n",
      "AttributeError: module 'D3S.D3S' has no attribute 'DFT_D30_parameters'. Did you mean: 'DFT_D3BJ_parameters'?\n"
     ]
    },
    {
     "name": "stdout",
     "output_type": "stream",
     "text": [
      "✅ CSV with D3 energy written to calcs/output/Li3Pm_1185191.csv\n",
      "Running Test_script.py on /Users/partha/Desktop/research/D3S/calcs/scan/Li3Be_977119.xyz\n"
     ]
    },
    {
     "name": "stderr",
     "output_type": "stream",
     "text": [
      "Traceback (most recent call last):\n",
      "  File \"/Users/partha/Desktop/research/D3S/Test_script.py\", line 13, in <module>\n",
      "    S6,S8,ALPHA1,ALPHA2 = D3S.DFT_D30_parameters[\"BLYP\"]\n",
      "                          ^^^^^^^^^^^^^^^^^^^^^^\n",
      "AttributeError: module 'D3S.D3S' has no attribute 'DFT_D30_parameters'. Did you mean: 'DFT_D3BJ_parameters'?\n"
     ]
    },
    {
     "name": "stdout",
     "output_type": "stream",
     "text": [
      "✅ CSV with D3 energy written to calcs/output/Li3Be_977119.csv\n",
      "Running Test_script.py on /Users/partha/Desktop/research/D3S/calcs/scan/LiC12_1232339.xyz\n"
     ]
    },
    {
     "name": "stderr",
     "output_type": "stream",
     "text": [
      "Traceback (most recent call last):\n",
      "  File \"/Users/partha/Desktop/research/D3S/Test_script.py\", line 13, in <module>\n",
      "    S6,S8,ALPHA1,ALPHA2 = D3S.DFT_D30_parameters[\"BLYP\"]\n",
      "                          ^^^^^^^^^^^^^^^^^^^^^^\n",
      "AttributeError: module 'D3S.D3S' has no attribute 'DFT_D30_parameters'. Did you mean: 'DFT_D3BJ_parameters'?\n"
     ]
    },
    {
     "name": "stdout",
     "output_type": "stream",
     "text": [
      "✅ CSV with D3 energy written to calcs/output/LiC12_1232339.csv\n",
      "Running Test_script.py on /Users/partha/Desktop/research/D3S/calcs/scan/Li3Ag_865875.xyz\n"
     ]
    },
    {
     "name": "stderr",
     "output_type": "stream",
     "text": [
      "Traceback (most recent call last):\n",
      "  File \"/Users/partha/Desktop/research/D3S/Test_script.py\", line 13, in <module>\n",
      "    S6,S8,ALPHA1,ALPHA2 = D3S.DFT_D30_parameters[\"BLYP\"]\n",
      "                          ^^^^^^^^^^^^^^^^^^^^^^\n",
      "AttributeError: module 'D3S.D3S' has no attribute 'DFT_D30_parameters'. Did you mean: 'DFT_D3BJ_parameters'?\n"
     ]
    },
    {
     "name": "stdout",
     "output_type": "stream",
     "text": [
      "✅ CSV with D3 energy written to calcs/output/Li3Ag_865875.csv\n",
      "Running Test_script.py on /Users/partha/Desktop/research/D3S/calcs/scan/Li2In_31324.xyz\n"
     ]
    },
    {
     "name": "stderr",
     "output_type": "stream",
     "text": [
      "Traceback (most recent call last):\n",
      "  File \"/Users/partha/Desktop/research/D3S/Test_script.py\", line 13, in <module>\n",
      "    S6,S8,ALPHA1,ALPHA2 = D3S.DFT_D30_parameters[\"BLYP\"]\n",
      "                          ^^^^^^^^^^^^^^^^^^^^^^\n",
      "AttributeError: module 'D3S.D3S' has no attribute 'DFT_D30_parameters'. Did you mean: 'DFT_D3BJ_parameters'?\n"
     ]
    },
    {
     "name": "stdout",
     "output_type": "stream",
     "text": [
      "✅ CSV with D3 energy written to calcs/output/Li2In_31324.csv\n",
      "Running Test_script.py on /Users/partha/Desktop/research/D3S/calcs/scan/LiBr_23259.xyz\n"
     ]
    },
    {
     "name": "stderr",
     "output_type": "stream",
     "text": [
      "Traceback (most recent call last):\n",
      "  File \"/Users/partha/Desktop/research/D3S/Test_script.py\", line 13, in <module>\n",
      "    S6,S8,ALPHA1,ALPHA2 = D3S.DFT_D30_parameters[\"BLYP\"]\n",
      "                          ^^^^^^^^^^^^^^^^^^^^^^\n",
      "AttributeError: module 'D3S.D3S' has no attribute 'DFT_D30_parameters'. Did you mean: 'DFT_D3BJ_parameters'?\n"
     ]
    },
    {
     "name": "stdout",
     "output_type": "stream",
     "text": [
      "✅ CSV with D3 energy written to calcs/output/LiBr_23259.csv\n",
      "Running Test_script.py on /Users/partha/Desktop/research/D3S/calcs/scan/LiMg3_1094670.xyz\n"
     ]
    },
    {
     "name": "stderr",
     "output_type": "stream",
     "text": [
      "Traceback (most recent call last):\n",
      "  File \"/Users/partha/Desktop/research/D3S/Test_script.py\", line 13, in <module>\n",
      "    S6,S8,ALPHA1,ALPHA2 = D3S.DFT_D30_parameters[\"BLYP\"]\n",
      "                          ^^^^^^^^^^^^^^^^^^^^^^\n",
      "AttributeError: module 'D3S.D3S' has no attribute 'DFT_D30_parameters'. Did you mean: 'DFT_D3BJ_parameters'?\n"
     ]
    },
    {
     "name": "stdout",
     "output_type": "stream",
     "text": [
      "✅ CSV with D3 energy written to calcs/output/LiMg3_1094670.csv\n",
      "Running Test_script.py on /Users/partha/Desktop/research/D3S/calcs/scan/LiC6_1001581.xyz\n"
     ]
    },
    {
     "name": "stderr",
     "output_type": "stream",
     "text": [
      "Traceback (most recent call last):\n",
      "  File \"/Users/partha/Desktop/research/D3S/Test_script.py\", line 13, in <module>\n",
      "    S6,S8,ALPHA1,ALPHA2 = D3S.DFT_D30_parameters[\"BLYP\"]\n",
      "                          ^^^^^^^^^^^^^^^^^^^^^^\n",
      "AttributeError: module 'D3S.D3S' has no attribute 'DFT_D30_parameters'. Did you mean: 'DFT_D3BJ_parameters'?\n"
     ]
    },
    {
     "name": "stdout",
     "output_type": "stream",
     "text": [
      "✅ CSV with D3 energy written to calcs/output/LiC6_1001581.csv\n",
      "Running Test_script.py on /Users/partha/Desktop/research/D3S/calcs/scan/Li3Mg_1094591.xyz\n"
     ]
    },
    {
     "name": "stderr",
     "output_type": "stream",
     "text": [
      "Traceback (most recent call last):\n",
      "  File \"/Users/partha/Desktop/research/D3S/Test_script.py\", line 13, in <module>\n",
      "    S6,S8,ALPHA1,ALPHA2 = D3S.DFT_D30_parameters[\"BLYP\"]\n",
      "                          ^^^^^^^^^^^^^^^^^^^^^^\n",
      "AttributeError: module 'D3S.D3S' has no attribute 'DFT_D30_parameters'. Did you mean: 'DFT_D3BJ_parameters'?\n"
     ]
    },
    {
     "name": "stdout",
     "output_type": "stream",
     "text": [
      "✅ CSV with D3 energy written to calcs/output/Li3Mg_1094591.csv\n",
      "Running Test_script.py on /Users/partha/Desktop/research/D3S/calcs/scan/LiB_1205309.xyz\n"
     ]
    },
    {
     "name": "stderr",
     "output_type": "stream",
     "text": [
      "Traceback (most recent call last):\n",
      "  File \"/Users/partha/Desktop/research/D3S/Test_script.py\", line 13, in <module>\n",
      "    S6,S8,ALPHA1,ALPHA2 = D3S.DFT_D30_parameters[\"BLYP\"]\n",
      "                          ^^^^^^^^^^^^^^^^^^^^^^\n",
      "AttributeError: module 'D3S.D3S' has no attribute 'DFT_D30_parameters'. Did you mean: 'DFT_D3BJ_parameters'?\n"
     ]
    },
    {
     "name": "stdout",
     "output_type": "stream",
     "text": [
      "✅ CSV with D3 energy written to calcs/output/LiB_1205309.csv\n",
      "Running Test_script.py on /Users/partha/Desktop/research/D3S/calcs/scan/LiMg5_1094558.xyz\n"
     ]
    },
    {
     "name": "stderr",
     "output_type": "stream",
     "text": [
      "Traceback (most recent call last):\n",
      "  File \"/Users/partha/Desktop/research/D3S/Test_script.py\", line 13, in <module>\n",
      "    S6,S8,ALPHA1,ALPHA2 = D3S.DFT_D30_parameters[\"BLYP\"]\n",
      "                          ^^^^^^^^^^^^^^^^^^^^^^\n",
      "AttributeError: module 'D3S.D3S' has no attribute 'DFT_D30_parameters'. Did you mean: 'DFT_D3BJ_parameters'?\n"
     ]
    },
    {
     "name": "stdout",
     "output_type": "stream",
     "text": [
      "✅ CSV with D3 energy written to calcs/output/LiMg5_1094558.csv\n",
      "Running Test_script.py on /Users/partha/Desktop/research/D3S/calcs/scan/Li3Er_977195.xyz\n"
     ]
    },
    {
     "name": "stderr",
     "output_type": "stream",
     "text": [
      "Traceback (most recent call last):\n",
      "  File \"/Users/partha/Desktop/research/D3S/Test_script.py\", line 13, in <module>\n",
      "    S6,S8,ALPHA1,ALPHA2 = D3S.DFT_D30_parameters[\"BLYP\"]\n",
      "                          ^^^^^^^^^^^^^^^^^^^^^^\n",
      "AttributeError: module 'D3S.D3S' has no attribute 'DFT_D30_parameters'. Did you mean: 'DFT_D3BJ_parameters'?\n"
     ]
    },
    {
     "name": "stdout",
     "output_type": "stream",
     "text": [
      "✅ CSV with D3 energy written to calcs/output/Li3Er_977195.csv\n",
      "Running Test_script.py on /Users/partha/Desktop/research/D3S/calcs/scan/K3Li_1184876.xyz\n"
     ]
    },
    {
     "name": "stderr",
     "output_type": "stream",
     "text": [
      "Traceback (most recent call last):\n",
      "  File \"/Users/partha/Desktop/research/D3S/Test_script.py\", line 13, in <module>\n",
      "    S6,S8,ALPHA1,ALPHA2 = D3S.DFT_D30_parameters[\"BLYP\"]\n",
      "                          ^^^^^^^^^^^^^^^^^^^^^^\n",
      "AttributeError: module 'D3S.D3S' has no attribute 'DFT_D30_parameters'. Did you mean: 'DFT_D3BJ_parameters'?\n"
     ]
    },
    {
     "name": "stdout",
     "output_type": "stream",
     "text": [
      "✅ CSV with D3 energy written to calcs/output/K3Li_1184876.csv\n",
      "Running Test_script.py on /Users/partha/Desktop/research/D3S/calcs/scan/LiAg3_1185300.xyz\n"
     ]
    },
    {
     "name": "stderr",
     "output_type": "stream",
     "text": [
      "Traceback (most recent call last):\n",
      "  File \"/Users/partha/Desktop/research/D3S/Test_script.py\", line 13, in <module>\n",
      "    S6,S8,ALPHA1,ALPHA2 = D3S.DFT_D30_parameters[\"BLYP\"]\n",
      "                          ^^^^^^^^^^^^^^^^^^^^^^\n",
      "AttributeError: module 'D3S.D3S' has no attribute 'DFT_D30_parameters'. Did you mean: 'DFT_D3BJ_parameters'?\n"
     ]
    },
    {
     "name": "stdout",
     "output_type": "stream",
     "text": [
      "✅ CSV with D3 energy written to calcs/output/LiAg3_1185300.csv\n",
      "Running Test_script.py on /Users/partha/Desktop/research/D3S/calcs/scan/Li3Ga2_9568.xyz\n"
     ]
    },
    {
     "name": "stderr",
     "output_type": "stream",
     "text": [
      "Traceback (most recent call last):\n",
      "  File \"/Users/partha/Desktop/research/D3S/Test_script.py\", line 13, in <module>\n",
      "    S6,S8,ALPHA1,ALPHA2 = D3S.DFT_D30_parameters[\"BLYP\"]\n",
      "                          ^^^^^^^^^^^^^^^^^^^^^^\n",
      "AttributeError: module 'D3S.D3S' has no attribute 'DFT_D30_parameters'. Did you mean: 'DFT_D3BJ_parameters'?\n"
     ]
    },
    {
     "name": "stdout",
     "output_type": "stream",
     "text": [
      "✅ CSV with D3 energy written to calcs/output/Li3Ga2_9568.csv\n",
      "Running Test_script.py on /Users/partha/Desktop/research/D3S/calcs/scan/LiI_570935.xyz\n"
     ]
    },
    {
     "name": "stderr",
     "output_type": "stream",
     "text": [
      "Traceback (most recent call last):\n",
      "  File \"/Users/partha/Desktop/research/D3S/Test_script.py\", line 13, in <module>\n",
      "    S6,S8,ALPHA1,ALPHA2 = D3S.DFT_D30_parameters[\"BLYP\"]\n",
      "                          ^^^^^^^^^^^^^^^^^^^^^^\n",
      "AttributeError: module 'D3S.D3S' has no attribute 'DFT_D30_parameters'. Did you mean: 'DFT_D3BJ_parameters'?\n"
     ]
    },
    {
     "name": "stdout",
     "output_type": "stream",
     "text": [
      "✅ CSV with D3 energy written to calcs/output/LiI_570935.csv\n",
      "Running Test_script.py on /Users/partha/Desktop/research/D3S/calcs/scan/Sr3Li2_7507.xyz\n"
     ]
    },
    {
     "name": "stderr",
     "output_type": "stream",
     "text": [
      "Traceback (most recent call last):\n",
      "  File \"/Users/partha/Desktop/research/D3S/Test_script.py\", line 13, in <module>\n",
      "    S6,S8,ALPHA1,ALPHA2 = D3S.DFT_D30_parameters[\"BLYP\"]\n",
      "                          ^^^^^^^^^^^^^^^^^^^^^^\n",
      "AttributeError: module 'D3S.D3S' has no attribute 'DFT_D30_parameters'. Did you mean: 'DFT_D3BJ_parameters'?\n"
     ]
    },
    {
     "name": "stdout",
     "output_type": "stream",
     "text": [
      "✅ CSV with D3 energy written to calcs/output/Sr3Li2_7507.csv\n",
      "Running Test_script.py on /Users/partha/Desktop/research/D3S/calcs/scan/LiTl_1078753.xyz\n"
     ]
    },
    {
     "name": "stderr",
     "output_type": "stream",
     "text": [
      "Traceback (most recent call last):\n",
      "  File \"/Users/partha/Desktop/research/D3S/Test_script.py\", line 13, in <module>\n",
      "    S6,S8,ALPHA1,ALPHA2 = D3S.DFT_D30_parameters[\"BLYP\"]\n",
      "                          ^^^^^^^^^^^^^^^^^^^^^^\n",
      "AttributeError: module 'D3S.D3S' has no attribute 'DFT_D30_parameters'. Did you mean: 'DFT_D3BJ_parameters'?\n"
     ]
    },
    {
     "name": "stdout",
     "output_type": "stream",
     "text": [
      "✅ CSV with D3 energy written to calcs/output/LiTl_1078753.csv\n",
      "Running Test_script.py on /Users/partha/Desktop/research/D3S/calcs/scan/LiTl3_973191.xyz\n"
     ]
    },
    {
     "name": "stderr",
     "output_type": "stream",
     "text": [
      "Traceback (most recent call last):\n",
      "  File \"/Users/partha/Desktop/research/D3S/Test_script.py\", line 13, in <module>\n",
      "    S6,S8,ALPHA1,ALPHA2 = D3S.DFT_D30_parameters[\"BLYP\"]\n",
      "                          ^^^^^^^^^^^^^^^^^^^^^^\n",
      "AttributeError: module 'D3S.D3S' has no attribute 'DFT_D30_parameters'. Did you mean: 'DFT_D3BJ_parameters'?\n"
     ]
    },
    {
     "name": "stdout",
     "output_type": "stream",
     "text": [
      "✅ CSV with D3 energy written to calcs/output/LiTl3_973191.csv\n",
      "Running Test_script.py on /Users/partha/Desktop/research/D3S/calcs/scan/Li2Tl_1077191.xyz\n"
     ]
    },
    {
     "name": "stderr",
     "output_type": "stream",
     "text": [
      "Traceback (most recent call last):\n",
      "  File \"/Users/partha/Desktop/research/D3S/Test_script.py\", line 13, in <module>\n",
      "    S6,S8,ALPHA1,ALPHA2 = D3S.DFT_D30_parameters[\"BLYP\"]\n",
      "                          ^^^^^^^^^^^^^^^^^^^^^^\n",
      "AttributeError: module 'D3S.D3S' has no attribute 'DFT_D30_parameters'. Did you mean: 'DFT_D3BJ_parameters'?\n"
     ]
    },
    {
     "name": "stdout",
     "output_type": "stream",
     "text": [
      "✅ CSV with D3 energy written to calcs/output/Li2Tl_1077191.csv\n",
      "Running Test_script.py on /Users/partha/Desktop/research/D3S/calcs/scan/Li3Sb_7955.xyz\n"
     ]
    },
    {
     "name": "stderr",
     "output_type": "stream",
     "text": [
      "Traceback (most recent call last):\n",
      "  File \"/Users/partha/Desktop/research/D3S/Test_script.py\", line 13, in <module>\n",
      "    S6,S8,ALPHA1,ALPHA2 = D3S.DFT_D30_parameters[\"BLYP\"]\n",
      "                          ^^^^^^^^^^^^^^^^^^^^^^\n",
      "AttributeError: module 'D3S.D3S' has no attribute 'DFT_D30_parameters'. Did you mean: 'DFT_D3BJ_parameters'?\n"
     ]
    },
    {
     "name": "stdout",
     "output_type": "stream",
     "text": [
      "✅ CSV with D3 energy written to calcs/output/Li3Sb_7955.csv\n",
      "Running Test_script.py on /Users/partha/Desktop/research/D3S/calcs/scan/Li2Mg_982380.xyz\n"
     ]
    },
    {
     "name": "stderr",
     "output_type": "stream",
     "text": [
      "Traceback (most recent call last):\n",
      "  File \"/Users/partha/Desktop/research/D3S/Test_script.py\", line 13, in <module>\n",
      "    S6,S8,ALPHA1,ALPHA2 = D3S.DFT_D30_parameters[\"BLYP\"]\n",
      "                          ^^^^^^^^^^^^^^^^^^^^^^\n",
      "AttributeError: module 'D3S.D3S' has no attribute 'DFT_D30_parameters'. Did you mean: 'DFT_D3BJ_parameters'?\n"
     ]
    },
    {
     "name": "stdout",
     "output_type": "stream",
     "text": [
      "✅ CSV with D3 energy written to calcs/output/Li2Mg_982380.csv\n",
      "Running Test_script.py on /Users/partha/Desktop/research/D3S/calcs/scan/Sr6Li23_2272.xyz\n"
     ]
    },
    {
     "name": "stderr",
     "output_type": "stream",
     "text": [
      "Traceback (most recent call last):\n",
      "  File \"/Users/partha/Desktop/research/D3S/Test_script.py\", line 13, in <module>\n",
      "    S6,S8,ALPHA1,ALPHA2 = D3S.DFT_D30_parameters[\"BLYP\"]\n",
      "                          ^^^^^^^^^^^^^^^^^^^^^^\n",
      "AttributeError: module 'D3S.D3S' has no attribute 'DFT_D30_parameters'. Did you mean: 'DFT_D3BJ_parameters'?\n"
     ]
    },
    {
     "name": "stdout",
     "output_type": "stream",
     "text": [
      "✅ CSV with D3 energy written to calcs/output/Sr6Li23_2272.csv\n",
      "Running Test_script.py on /Users/partha/Desktop/research/D3S/calcs/scan/Li15Pd4_1197547.xyz\n"
     ]
    },
    {
     "name": "stderr",
     "output_type": "stream",
     "text": [
      "Traceback (most recent call last):\n",
      "  File \"/Users/partha/Desktop/research/D3S/Test_script.py\", line 13, in <module>\n",
      "    S6,S8,ALPHA1,ALPHA2 = D3S.DFT_D30_parameters[\"BLYP\"]\n",
      "                          ^^^^^^^^^^^^^^^^^^^^^^\n",
      "AttributeError: module 'D3S.D3S' has no attribute 'DFT_D30_parameters'. Did you mean: 'DFT_D3BJ_parameters'?\n"
     ]
    },
    {
     "name": "stdout",
     "output_type": "stream",
     "text": [
      "✅ CSV with D3 energy written to calcs/output/Li15Pd4_1197547.csv\n",
      "Running Test_script.py on /Users/partha/Desktop/research/D3S/calcs/scan/LiMg2_1094581.xyz\n"
     ]
    },
    {
     "name": "stderr",
     "output_type": "stream",
     "text": [
      "Traceback (most recent call last):\n",
      "  File \"/Users/partha/Desktop/research/D3S/Test_script.py\", line 13, in <module>\n",
      "    S6,S8,ALPHA1,ALPHA2 = D3S.DFT_D30_parameters[\"BLYP\"]\n",
      "                          ^^^^^^^^^^^^^^^^^^^^^^\n",
      "AttributeError: module 'D3S.D3S' has no attribute 'DFT_D30_parameters'. Did you mean: 'DFT_D3BJ_parameters'?\n"
     ]
    },
    {
     "name": "stdout",
     "output_type": "stream",
     "text": [
      "✅ CSV with D3 energy written to calcs/output/LiMg2_1094581.csv\n",
      "Running Test_script.py on /Users/partha/Desktop/research/D3S/calcs/scan/LiMg5_1094599.xyz\n"
     ]
    },
    {
     "name": "stderr",
     "output_type": "stream",
     "text": [
      "Traceback (most recent call last):\n",
      "  File \"/Users/partha/Desktop/research/D3S/Test_script.py\", line 13, in <module>\n",
      "    S6,S8,ALPHA1,ALPHA2 = D3S.DFT_D30_parameters[\"BLYP\"]\n",
      "                          ^^^^^^^^^^^^^^^^^^^^^^\n",
      "AttributeError: module 'D3S.D3S' has no attribute 'DFT_D30_parameters'. Did you mean: 'DFT_D3BJ_parameters'?\n"
     ]
    },
    {
     "name": "stdout",
     "output_type": "stream",
     "text": [
      "✅ CSV with D3 energy written to calcs/output/LiMg5_1094599.csv\n",
      "Running Test_script.py on /Users/partha/Desktop/research/D3S/calcs/scan/Li2Mg_1094576.xyz\n"
     ]
    },
    {
     "name": "stderr",
     "output_type": "stream",
     "text": [
      "Traceback (most recent call last):\n",
      "  File \"/Users/partha/Desktop/research/D3S/Test_script.py\", line 13, in <module>\n",
      "    S6,S8,ALPHA1,ALPHA2 = D3S.DFT_D30_parameters[\"BLYP\"]\n",
      "                          ^^^^^^^^^^^^^^^^^^^^^^\n",
      "AttributeError: module 'D3S.D3S' has no attribute 'DFT_D30_parameters'. Did you mean: 'DFT_D3BJ_parameters'?\n"
     ]
    },
    {
     "name": "stdout",
     "output_type": "stream",
     "text": [
      "✅ CSV with D3 energy written to calcs/output/Li2Mg_1094576.csv\n",
      "Running Test_script.py on /Users/partha/Desktop/research/D3S/calcs/scan/Li2Mg_1094562.xyz\n"
     ]
    },
    {
     "name": "stderr",
     "output_type": "stream",
     "text": [
      "Traceback (most recent call last):\n",
      "  File \"/Users/partha/Desktop/research/D3S/Test_script.py\", line 13, in <module>\n",
      "    S6,S8,ALPHA1,ALPHA2 = D3S.DFT_D30_parameters[\"BLYP\"]\n",
      "                          ^^^^^^^^^^^^^^^^^^^^^^\n",
      "AttributeError: module 'D3S.D3S' has no attribute 'DFT_D30_parameters'. Did you mean: 'DFT_D3BJ_parameters'?\n"
     ]
    },
    {
     "name": "stdout",
     "output_type": "stream",
     "text": [
      "✅ CSV with D3 energy written to calcs/output/Li2Mg_1094562.csv\n",
      "Running Test_script.py on /Users/partha/Desktop/research/D3S/calcs/scan/Li3Zn_976412.xyz\n"
     ]
    },
    {
     "name": "stderr",
     "output_type": "stream",
     "text": [
      "Traceback (most recent call last):\n",
      "  File \"/Users/partha/Desktop/research/D3S/Test_script.py\", line 13, in <module>\n",
      "    S6,S8,ALPHA1,ALPHA2 = D3S.DFT_D3_parameters[\"BLYP\"]\n",
      "                          ^^^^^^^^^^^^^^^^^^^^^^\n",
      "AttributeError: module 'D3S.D3S' has no attribute 'DFT_D30_parameters'. Did you mean: 'DFT_D3BJ_parameters'?\n"
     ]
    },
    {
     "name": "stdout",
     "output_type": "stream",
     "text": [
      "✅ CSV with D3 energy written to calcs/output/Li3Zn_976412.csv\n",
      "Running Test_script.py on /Users/partha/Desktop/research/D3S/calcs/scan/Li3Pd_11489.xyz\n"
     ]
    },
    {
     "name": "stderr",
     "output_type": "stream",
     "text": [
      "Traceback (most recent call last):\n",
      "  File \"/Users/partha/Desktop/research/D3S/Test_script.py\", line 13, in <module>\n",
      "    S6,S8,ALPHA1,ALPHA2 = D3S.DFT_D3_parameters[\"BLYP\"]\n",
      "                          ^^^^^^^^^^^^^^^^^^^^^\n",
      "AttributeError: module 'D3S.D3S' has no attribute 'DFT_D3_parameters'. Did you mean: 'DFT_D3BJ_parameters'?\n"
     ]
    },
    {
     "name": "stdout",
     "output_type": "stream",
     "text": [
      "✅ CSV with D3 energy written to calcs/output/Li3Pd_11489.csv\n",
      "Running Test_script.py on /Users/partha/Desktop/research/D3S/calcs/scan/LiS_1057216.xyz\n"
     ]
    },
    {
     "name": "stderr",
     "output_type": "stream",
     "text": [
      "Traceback (most recent call last):\n",
      "  File \"/Users/partha/Desktop/research/D3S/Test_script.py\", line 13, in <module>\n",
      "    S6,S8,ALPHA1,ALPHA2 = D3S.DFT_D3_parameters[\"BLYP\"]\n",
      "                          ^^^^^^^^^^^^^^^^^^^^^\n",
      "AttributeError: module 'D3S.D3S' has no attribute 'DFT_D3_parameters'. Did you mean: 'DFT_D3BJ_parameters'?\n"
     ]
    },
    {
     "name": "stdout",
     "output_type": "stream",
     "text": [
      "✅ CSV with D3 energy written to calcs/output/LiS_1057216.csv\n",
      "Running Test_script.py on /Users/partha/Desktop/research/D3S/calcs/scan/LiBe_1058798.xyz\n"
     ]
    },
    {
     "name": "stderr",
     "output_type": "stream",
     "text": [
      "Traceback (most recent call last):\n",
      "  File \"/Users/partha/Desktop/research/D3S/Test_script.py\", line 13, in <module>\n",
      "    S6,S8,ALPHA1,ALPHA2 = D3S.DFT_D3_parameters[\"BLYP\"]\n",
      "                          ^^^^^^^^^^^^^^^^^^^^^\n",
      "AttributeError: module 'D3S.D3S' has no attribute 'DFT_D3_parameters'. Did you mean: 'DFT_D3BJ_parameters'?\n"
     ]
    },
    {
     "name": "stdout",
     "output_type": "stream",
     "text": [
      "✅ CSV with D3 energy written to calcs/output/LiBe_1058798.csv\n",
      "Running Test_script.py on /Users/partha/Desktop/research/D3S/calcs/scan/LiSi3_1185431.xyz\n"
     ]
    },
    {
     "name": "stderr",
     "output_type": "stream",
     "text": [
      "Traceback (most recent call last):\n",
      "  File \"/Users/partha/Desktop/research/D3S/Test_script.py\", line 13, in <module>\n",
      "    S6,S8,ALPHA1,ALPHA2 = D3S.DFT_D3_parameters[\"BLYP\"]\n",
      "                          ^^^^^^^^^^^^^^^^^^^^^\n",
      "AttributeError: module 'D3S.D3S' has no attribute 'DFT_D3_parameters'. Did you mean: 'DFT_D3BJ_parameters'?\n"
     ]
    },
    {
     "name": "stdout",
     "output_type": "stream",
     "text": [
      "✅ CSV with D3 energy written to calcs/output/LiSi3_1185431.csv\n",
      "Running Test_script.py on /Users/partha/Desktop/research/D3S/calcs/scan/Li8Pb3_27587.xyz\n"
     ]
    },
    {
     "name": "stderr",
     "output_type": "stream",
     "text": [
      "Traceback (most recent call last):\n",
      "  File \"/Users/partha/Desktop/research/D3S/Test_script.py\", line 13, in <module>\n",
      "    S6,S8,ALPHA1,ALPHA2 = D3S.DFT_D3_parameters[\"BLYP\"]\n",
      "                          ^^^^^^^^^^^^^^^^^^^^^\n",
      "AttributeError: module 'D3S.D3S' has no attribute 'DFT_D3_parameters'. Did you mean: 'DFT_D3BJ_parameters'?\n"
     ]
    },
    {
     "name": "stdout",
     "output_type": "stream",
     "text": [
      "✅ CSV with D3 energy written to calcs/output/Li8Pb3_27587.csv\n",
      "Running Test_script.py on /Users/partha/Desktop/research/D3S/calcs/scan/Li3Te_1185280.xyz\n"
     ]
    },
    {
     "name": "stderr",
     "output_type": "stream",
     "text": [
      "Traceback (most recent call last):\n",
      "  File \"/Users/partha/Desktop/research/D3S/Test_script.py\", line 13, in <module>\n",
      "    S6,S8,ALPHA1,ALPHA2 = D3S.DFT_D3_parameters[\"BLYP\"]\n",
      "                          ^^^^^^^^^^^^^^^^^^^^^\n",
      "AttributeError: module 'D3S.D3S' has no attribute 'DFT_D3_parameters'. Did you mean: 'DFT_D3BJ_parameters'?\n"
     ]
    },
    {
     "name": "stdout",
     "output_type": "stream",
     "text": [
      "✅ CSV with D3 energy written to calcs/output/Li3Te_1185280.csv\n",
      "Running Test_script.py on /Users/partha/Desktop/research/D3S/calcs/scan/Li2O2_1097030.xyz\n"
     ]
    },
    {
     "name": "stderr",
     "output_type": "stream",
     "text": [
      "Traceback (most recent call last):\n",
      "  File \"/Users/partha/Desktop/research/D3S/Test_script.py\", line 13, in <module>\n",
      "    S6,S8,ALPHA1,ALPHA2 = D3S.DFT_D3_parameters[\"BLYP\"]\n",
      "                          ^^^^^^^^^^^^^^^^^^^^^\n",
      "AttributeError: module 'D3S.D3S' has no attribute 'DFT_D3_parameters'. Did you mean: 'DFT_D3BJ_parameters'?\n"
     ]
    },
    {
     "name": "stdout",
     "output_type": "stream",
     "text": [
      "✅ CSV with D3 energy written to calcs/output/Li2O2_1097030.csv\n",
      "Running Test_script.py on /Users/partha/Desktop/research/D3S/calcs/scan/Li3Ga14_1222489.xyz\n"
     ]
    },
    {
     "name": "stderr",
     "output_type": "stream",
     "text": [
      "Traceback (most recent call last):\n",
      "  File \"/Users/partha/Desktop/research/D3S/Test_script.py\", line 13, in <module>\n",
      "    S6,S8,ALPHA1,ALPHA2 = D3S.DFT_D3_parameters[\"BLYP\"]\n",
      "                          ^^^^^^^^^^^^^^^^^^^^^\n",
      "AttributeError: module 'D3S.D3S' has no attribute 'DFT_D3_parameters'. Did you mean: 'DFT_D3BJ_parameters'?\n"
     ]
    },
    {
     "name": "stdout",
     "output_type": "stream",
     "text": [
      "✅ CSV with D3 energy written to calcs/output/Li3Ga14_1222489.csv\n",
      "Running Test_script.py on /Users/partha/Desktop/research/D3S/calcs/scan/LiGa3_1185332.xyz\n"
     ]
    },
    {
     "name": "stderr",
     "output_type": "stream",
     "text": [
      "Traceback (most recent call last):\n",
      "  File \"/Users/partha/Desktop/research/D3S/Test_script.py\", line 13, in <module>\n",
      "    S6,S8,ALPHA1,ALPHA2 = D3S.DFT_D3_parameters[\"BLYP\"]\n",
      "                          ^^^^^^^^^^^^^^^^^^^^^\n",
      "AttributeError: module 'D3S.D3S' has no attribute 'DFT_D3_parameters'. Did you mean: 'DFT_D3BJ_parameters'?\n"
     ]
    },
    {
     "name": "stdout",
     "output_type": "stream",
     "text": [
      "✅ CSV with D3 energy written to calcs/output/LiGa3_1185332.csv\n",
      "Running Test_script.py on /Users/partha/Desktop/research/D3S/calcs/scan/LiMg2_973455.xyz\n"
     ]
    },
    {
     "name": "stderr",
     "output_type": "stream",
     "text": [
      "Traceback (most recent call last):\n",
      "  File \"/Users/partha/Desktop/research/D3S/Test_script.py\", line 13, in <module>\n",
      "    S6,S8,ALPHA1,ALPHA2 = D3S.DFT_D3_parameters[\"BLYP\"]\n",
      "                          ^^^^^^^^^^^^^^^^^^^^^\n",
      "AttributeError: module 'D3S.D3S' has no attribute 'DFT_D3_parameters'. Did you mean: 'DFT_D3BJ_parameters'?\n"
     ]
    },
    {
     "name": "stdout",
     "output_type": "stream",
     "text": [
      "✅ CSV with D3 energy written to calcs/output/LiMg2_973455.csv\n",
      "Running Test_script.py on /Users/partha/Desktop/research/D3S/calcs/scan/LiHg3_976599.xyz\n"
     ]
    },
    {
     "name": "stderr",
     "output_type": "stream",
     "text": [
      "Traceback (most recent call last):\n",
      "  File \"/Users/partha/Desktop/research/D3S/Test_script.py\", line 13, in <module>\n",
      "    S6,S8,ALPHA1,ALPHA2 = D3S.DFT_D3_parameters[\"BLYP\"]\n",
      "                          ^^^^^^^^^^^^^^^^^^^^^\n",
      "AttributeError: module 'D3S.D3S' has no attribute 'DFT_D3_parameters'. Did you mean: 'DFT_D3BJ_parameters'?\n"
     ]
    },
    {
     "name": "stdout",
     "output_type": "stream",
     "text": [
      "✅ CSV with D3 energy written to calcs/output/LiHg3_976599.csv\n",
      "Running Test_script.py on /Users/partha/Desktop/research/D3S/calcs/scan/LiSi3_975321.xyz\n"
     ]
    },
    {
     "name": "stderr",
     "output_type": "stream",
     "text": [
      "Traceback (most recent call last):\n",
      "  File \"/Users/partha/Desktop/research/D3S/Test_script.py\", line 13, in <module>\n",
      "    S6,S8,ALPHA1,ALPHA2 = D3S.DFT_D3_parameters[\"BLYP\"]\n",
      "                          ^^^^^^^^^^^^^^^^^^^^^\n",
      "AttributeError: module 'D3S.D3S' has no attribute 'DFT_D3_parameters'. Did you mean: 'DFT_D3BJ_parameters'?\n"
     ]
    },
    {
     "name": "stdout",
     "output_type": "stream",
     "text": [
      "✅ CSV with D3 energy written to calcs/output/LiSi3_975321.csv\n",
      "Running Test_script.py on /Users/partha/Desktop/research/D3S/calcs/scan/LiP_9588.xyz\n"
     ]
    },
    {
     "name": "stderr",
     "output_type": "stream",
     "text": [
      "Traceback (most recent call last):\n",
      "  File \"/Users/partha/Desktop/research/D3S/Test_script.py\", line 13, in <module>\n",
      "    S6,S8,ALPHA1,ALPHA2 = D3S.DFT_D3_parameters[\"BLYP\"]\n",
      "                          ^^^^^^^^^^^^^^^^^^^^^\n",
      "AttributeError: module 'D3S.D3S' has no attribute 'DFT_D3_parameters'. Did you mean: 'DFT_D3BJ_parameters'?\n"
     ]
    },
    {
     "name": "stdout",
     "output_type": "stream",
     "text": [
      "✅ CSV with D3 energy written to calcs/output/LiP_9588.csv\n",
      "Running Test_script.py on /Users/partha/Desktop/research/D3S/calcs/scan/LiIn3_863027.xyz\n"
     ]
    },
    {
     "name": "stderr",
     "output_type": "stream",
     "text": [
      "Traceback (most recent call last):\n",
      "  File \"/Users/partha/Desktop/research/D3S/Test_script.py\", line 13, in <module>\n",
      "    S6,S8,ALPHA1,ALPHA2 = D3S.DFT_D3_parameters[\"BLYP\"]\n",
      "                          ^^^^^^^^^^^^^^^^^^^^^\n",
      "AttributeError: module 'D3S.D3S' has no attribute 'DFT_D3_parameters'. Did you mean: 'DFT_D3BJ_parameters'?\n"
     ]
    },
    {
     "name": "stdout",
     "output_type": "stream",
     "text": [
      "✅ CSV with D3 energy written to calcs/output/LiIn3_863027.csv\n",
      "Running Test_script.py on /Users/partha/Desktop/research/D3S/calcs/scan/LiW3_1185237.xyz\n"
     ]
    },
    {
     "name": "stderr",
     "output_type": "stream",
     "text": [
      "Traceback (most recent call last):\n",
      "  File \"/Users/partha/Desktop/research/D3S/Test_script.py\", line 13, in <module>\n",
      "    S6,S8,ALPHA1,ALPHA2 = D3S.DFT_D3_parameters[\"BLYP\"]\n",
      "                          ^^^^^^^^^^^^^^^^^^^^^\n",
      "AttributeError: module 'D3S.D3S' has no attribute 'DFT_D3_parameters'. Did you mean: 'DFT_D3BJ_parameters'?\n"
     ]
    },
    {
     "name": "stdout",
     "output_type": "stream",
     "text": [
      "✅ CSV with D3 energy written to calcs/output/LiW3_1185237.csv\n",
      "Running Test_script.py on /Users/partha/Desktop/research/D3S/calcs/scan/Li11Ge6_29631.xyz\n"
     ]
    },
    {
     "name": "stderr",
     "output_type": "stream",
     "text": [
      "Traceback (most recent call last):\n",
      "  File \"/Users/partha/Desktop/research/D3S/Test_script.py\", line 13, in <module>\n",
      "    S6,S8,ALPHA1,ALPHA2 = D3S.DFT_D3_parameters[\"BLYP\"]\n",
      "                          ^^^^^^^^^^^^^^^^^^^^^\n",
      "AttributeError: module 'D3S.D3S' has no attribute 'DFT_D3_parameters'. Did you mean: 'DFT_D3BJ_parameters'?\n"
     ]
    },
    {
     "name": "stdout",
     "output_type": "stream",
     "text": [
      "✅ CSV with D3 energy written to calcs/output/Li11Ge6_29631.csv\n",
      "Running Test_script.py on /Users/partha/Desktop/research/D3S/calcs/scan/LiNp3_1185274.xyz\n"
     ]
    },
    {
     "name": "stderr",
     "output_type": "stream",
     "text": [
      "Traceback (most recent call last):\n",
      "  File \"/Users/partha/Desktop/research/D3S/Test_script.py\", line 13, in <module>\n",
      "    S6,S8,ALPHA1,ALPHA2 = D3S.DFT_D3_parameters[\"BLYP\"]\n",
      "                          ^^^^^^^^^^^^^^^^^^^^^\n",
      "AttributeError: module 'D3S.D3S' has no attribute 'DFT_D3_parameters'. Did you mean: 'DFT_D3BJ_parameters'?\n"
     ]
    },
    {
     "name": "stdout",
     "output_type": "stream",
     "text": [
      "✅ CSV with D3 energy written to calcs/output/LiNp3_1185274.csv\n",
      "Running Test_script.py on /Users/partha/Desktop/research/D3S/calcs/scan/Li2Mg_1094601.xyz\n"
     ]
    },
    {
     "name": "stderr",
     "output_type": "stream",
     "text": [
      "Traceback (most recent call last):\n",
      "  File \"/Users/partha/Desktop/research/D3S/Test_script.py\", line 13, in <module>\n",
      "    S6,S8,ALPHA1,ALPHA2 = D3S.DFT_D3_parameters[\"BLYP\"]\n",
      "                          ^^^^^^^^^^^^^^^^^^^^^\n",
      "AttributeError: module 'D3S.D3S' has no attribute 'DFT_D3_parameters'. Did you mean: 'DFT_D3BJ_parameters'?\n"
     ]
    },
    {
     "name": "stdout",
     "output_type": "stream",
     "text": [
      "✅ CSV with D3 energy written to calcs/output/Li2Mg_1094601.csv\n",
      "Running Test_script.py on /Users/partha/Desktop/research/D3S/calcs/scan/Li5Mg_977122.xyz\n"
     ]
    },
    {
     "name": "stderr",
     "output_type": "stream",
     "text": [
      "Traceback (most recent call last):\n",
      "  File \"/Users/partha/Desktop/research/D3S/Test_script.py\", line 13, in <module>\n",
      "    S6,S8,ALPHA1,ALPHA2 = D3S.DFT_D3_parameters[\"BLYP\"]\n",
      "                          ^^^^^^^^^^^^^^^^^^^^^\n",
      "AttributeError: module 'D3S.D3S' has no attribute 'DFT_D3_parameters'. Did you mean: 'DFT_D3BJ_parameters'?\n"
     ]
    },
    {
     "name": "stdout",
     "output_type": "stream",
     "text": [
      "✅ CSV with D3 energy written to calcs/output/Li5Mg_977122.csv\n",
      "Running Test_script.py on /Users/partha/Desktop/research/D3S/calcs/scan/Li3Lu_1185208.xyz\n",
      "✅ CSV with D3 energy written to calcs/output/Li3Lu_1185208.csv\n",
      "✅ All scans processed.\n"
     ]
    },
    {
     "name": "stderr",
     "output_type": "stream",
     "text": [
      "Traceback (most recent call last):\n",
      "  File \"/Users/partha/Desktop/research/D3S/Test_script.py\", line 13, in <module>\n",
      "    S6,S8,ALPHA1,ALPHA2 = D3S.DFT_D3_parameters[\"BLYP\"]\n",
      "                          ^^^^^^^^^^^^^^^^^^^^^\n",
      "AttributeError: module 'D3S.D3S' has no attribute 'DFT_D3_parameters'. Did you mean: 'DFT_D3BJ_parameters'?\n"
     ]
    }
   ],
   "source": [
    "import os\n",
    "import glob\n",
    "\n",
    "# Save current directory\n",
    "curr_dir = os.getcwd()\n",
    "\n",
    "scan_dir = os.path.join(curr_dir, \"scan\")\n",
    "\n",
    "# make a folder named output if it doesn't exist\n",
    "output_dir = os.path.join(curr_dir, \"output\")\n",
    "os.makedirs(output_dir, exist_ok=True)\n",
    "\n",
    "# Find all .xyz files in scan/\n",
    "xyz_files = glob.glob(os.path.join(scan_dir, \"*.xyz\"))\n",
    "\n",
    "print(scan_dir)\n",
    "print(f\"Found {len(xyz_files)} scan files in {scan_dir}\")\n",
    "# Go up one level where Test_script.py is located\n",
    "os.chdir(\"..\")\n",
    "\n",
    "# Run Test_script.py for each scan.xyz\n",
    "for xyz_file in xyz_files:\n",
    "    print(f\"Running Test_script.py on {xyz_file}\")\n",
    "\n",
    "    os.system(f\"python Test_script.py \\\"{xyz_file}\\\"\")\n",
    "\n",
    "    output_csv_file = f\"calcs/output/{os.path.basename(xyz_file).replace('.xyz', '.csv')}\"\n",
    "    extract_scan_data_to_csv(\n",
    "        input_xyz=xyz_file,\n",
    "        d3s_file=\"D3S_BJ_scan.txt\",\n",
    "        d3_file=\"D3_BJ_scan.txt\",\n",
    "        output_csv=output_csv_file\n",
    "    )\n",
    "\n",
    "# Return to original directory\n",
    "os.chdir(curr_dir)\n",
    "\n",
    "print(\"✅ All scans processed.\")\n"
   ]
  },
  {
   "cell_type": "code",
   "execution_count": null,
   "id": "380be2cc",
   "metadata": {},
   "outputs": [
    {
     "name": "stdout",
     "output_type": "stream",
     "text": [
      "✅ CSV with D3 energy written to cell_lengths.csv\n"
     ]
    }
   ],
   "source": [
    "import numpy as np\n",
    "import csv\n",
    "\n",
    "input_xyz = \"scan.xyz\"\n",
    "output_csv = \"cell_lengths.csv\"\n",
    "d3s_file = \"../D3S_BJ_scan.txt\"\n",
    "d3_file = \"../D3_BJ_scan.txt\"\n",
    "\n",
    "# Read D3S values\n",
    "with open(d3s_file, \"r\") as f:\n",
    "    d3s_values = [float(line.strip()) for line in f if line.strip()]\n",
    "\n",
    "# Read D3 values\n",
    "with open(d3_file, \"r\") as f:\n",
    "    d3_values = [float(line.strip()) for line in f if line.strip()]\n",
    "\n",
    "# Prepare XYZ parsing\n",
    "with open(input_xyz, \"r\") as f:\n",
    "    lines = f.readlines()\n",
    "\n",
    "i = 0\n",
    "frame_idx = 0\n",
    "cell_lengths = []\n",
    "\n",
    "while i < len(lines):\n",
    "    try:\n",
    "        natoms = int(lines[i].strip())\n",
    "        comment = lines[i + 1].strip()\n",
    "        frame_lines = lines[i + 2:i + 2 + natoms]\n",
    "\n",
    "        coords = []\n",
    "        for line in frame_lines:\n",
    "            parts = line.split()\n",
    "            coords.append([float(parts[1]), float(parts[2]), float(parts[3])])\n",
    "        \n",
    "        coords = np.array(coords)\n",
    "        \n",
    "        # Get extents in x, y, z\n",
    "        x_length = np.max(coords[:, 0]) - np.min(coords[:, 0])\n",
    "        y_length = np.max(coords[:, 1]) - np.min(coords[:, 1])\n",
    "        z_length = np.max(coords[:, 2]) - np.min(coords[:, 2])\n",
    "\n",
    "        scale = comment.split(\"scale = \")[1] if \"scale =\" in comment else \"?\"\n",
    "\n",
    "        # Get corresponding D3 value (if available)\n",
    "        d3s_value = d3s_values[frame_idx] if frame_idx < len(d3s_values) else \"NA\"\n",
    "        d3_value = d3_values[frame_idx] if frame_idx < len(d3_values) else \"NA\"\n",
    "        # Collect row\n",
    "        cell_lengths.append([frame_idx, scale, x_length, y_length, z_length, d3s_value,  d3_value])\n",
    "\n",
    "        # Next frame\n",
    "        i += natoms + 2\n",
    "        frame_idx += 1\n",
    "\n",
    "    except Exception as e:\n",
    "        print(f\"Error at frame {frame_idx}: {e}\")\n",
    "        break\n",
    "\n",
    "# Write to CSV\n",
    "with open(output_csv, \"w\", newline=\"\") as csvfile:\n",
    "    writer = csv.writer(csvfile)\n",
    "    writer.writerow([\"Frame\", \"Scale\", \"a_length (Å)\", \"b_length (Å)\", \"c_length (Å)\", \"D3s_Energy,D3_energy\"])\n",
    "    writer.writerows(cell_lengths)\n",
    "\n",
    "print(f\"✅ CSV with D3 energy written to {output_csv}\")\n"
   ]
  }
 ],
 "metadata": {
  "kernelspec": {
   "display_name": "stress",
   "language": "python",
   "name": "python3"
  },
  "language_info": {
   "codemirror_mode": {
    "name": "ipython",
    "version": 3
   },
   "file_extension": ".py",
   "mimetype": "text/x-python",
   "name": "python",
   "nbconvert_exporter": "python",
   "pygments_lexer": "ipython3",
   "version": "3.12.2"
  }
 },
 "nbformat": 4,
 "nbformat_minor": 5
}
